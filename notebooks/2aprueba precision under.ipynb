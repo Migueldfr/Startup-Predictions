{
 "cells": [
  {
   "cell_type": "code",
   "execution_count": 2,
   "metadata": {},
   "outputs": [],
   "source": [
    "import pandas as pd \n",
    "import matplotlib.pyplot as plt\n",
    "import numpy as np \n",
    "import seaborn as sns\n",
    "\n",
    "import plotly.graph_objs as go\n",
    "from plotly.subplots import make_subplots\n",
    "import plotly.express as px\n",
    "\n",
    "\n"
   ]
  },
  {
   "attachments": {},
   "cell_type": "markdown",
   "metadata": {},
   "source": [
    "## Data Exploration\n",
    "\n",
    "    Here, let,s work on get better our variables, which as int, float and object...datetime, etc."
   ]
  },
  {
   "cell_type": "code",
   "execution_count": 3,
   "metadata": {},
   "outputs": [
    {
     "data": {
      "text/html": [
       "<div>\n",
       "<style scoped>\n",
       "    .dataframe tbody tr th:only-of-type {\n",
       "        vertical-align: middle;\n",
       "    }\n",
       "\n",
       "    .dataframe tbody tr th {\n",
       "        vertical-align: top;\n",
       "    }\n",
       "\n",
       "    .dataframe thead th {\n",
       "        text-align: right;\n",
       "    }\n",
       "</style>\n",
       "<table border=\"1\" class=\"dataframe\">\n",
       "  <thead>\n",
       "    <tr style=\"text-align: right;\">\n",
       "      <th></th>\n",
       "      <th>Unnamed: 0</th>\n",
       "      <th>state_code</th>\n",
       "      <th>latitude</th>\n",
       "      <th>longitude</th>\n",
       "      <th>zip_code</th>\n",
       "      <th>id</th>\n",
       "      <th>city</th>\n",
       "      <th>Unnamed: 6</th>\n",
       "      <th>name</th>\n",
       "      <th>labels</th>\n",
       "      <th>...</th>\n",
       "      <th>object_id</th>\n",
       "      <th>has_VC</th>\n",
       "      <th>has_angel</th>\n",
       "      <th>has_roundA</th>\n",
       "      <th>has_roundB</th>\n",
       "      <th>has_roundC</th>\n",
       "      <th>has_roundD</th>\n",
       "      <th>avg_participants</th>\n",
       "      <th>is_top500</th>\n",
       "      <th>status</th>\n",
       "    </tr>\n",
       "  </thead>\n",
       "  <tbody>\n",
       "    <tr>\n",
       "      <th>0</th>\n",
       "      <td>1005</td>\n",
       "      <td>CA</td>\n",
       "      <td>42.358880</td>\n",
       "      <td>-71.056820</td>\n",
       "      <td>92101</td>\n",
       "      <td>c:6669</td>\n",
       "      <td>San Diego</td>\n",
       "      <td>NaN</td>\n",
       "      <td>Bandsintown</td>\n",
       "      <td>1</td>\n",
       "      <td>...</td>\n",
       "      <td>c:6669</td>\n",
       "      <td>0</td>\n",
       "      <td>1</td>\n",
       "      <td>0</td>\n",
       "      <td>0</td>\n",
       "      <td>0</td>\n",
       "      <td>0</td>\n",
       "      <td>1.0000</td>\n",
       "      <td>0</td>\n",
       "      <td>acquired</td>\n",
       "    </tr>\n",
       "    <tr>\n",
       "      <th>1</th>\n",
       "      <td>204</td>\n",
       "      <td>CA</td>\n",
       "      <td>37.238916</td>\n",
       "      <td>-121.973718</td>\n",
       "      <td>95032</td>\n",
       "      <td>c:16283</td>\n",
       "      <td>Los Gatos</td>\n",
       "      <td>NaN</td>\n",
       "      <td>TriCipher</td>\n",
       "      <td>1</td>\n",
       "      <td>...</td>\n",
       "      <td>c:16283</td>\n",
       "      <td>1</td>\n",
       "      <td>0</td>\n",
       "      <td>0</td>\n",
       "      <td>1</td>\n",
       "      <td>1</td>\n",
       "      <td>1</td>\n",
       "      <td>4.7500</td>\n",
       "      <td>1</td>\n",
       "      <td>acquired</td>\n",
       "    </tr>\n",
       "    <tr>\n",
       "      <th>2</th>\n",
       "      <td>1001</td>\n",
       "      <td>CA</td>\n",
       "      <td>32.901049</td>\n",
       "      <td>-117.192656</td>\n",
       "      <td>92121</td>\n",
       "      <td>c:65620</td>\n",
       "      <td>San Diego</td>\n",
       "      <td>San Diego CA 92121</td>\n",
       "      <td>Plixi</td>\n",
       "      <td>1</td>\n",
       "      <td>...</td>\n",
       "      <td>c:65620</td>\n",
       "      <td>0</td>\n",
       "      <td>0</td>\n",
       "      <td>1</td>\n",
       "      <td>0</td>\n",
       "      <td>0</td>\n",
       "      <td>0</td>\n",
       "      <td>4.0000</td>\n",
       "      <td>1</td>\n",
       "      <td>acquired</td>\n",
       "    </tr>\n",
       "    <tr>\n",
       "      <th>3</th>\n",
       "      <td>738</td>\n",
       "      <td>CA</td>\n",
       "      <td>37.320309</td>\n",
       "      <td>-122.050040</td>\n",
       "      <td>95014</td>\n",
       "      <td>c:42668</td>\n",
       "      <td>Cupertino</td>\n",
       "      <td>Cupertino CA 95014</td>\n",
       "      <td>Solidcore Systems</td>\n",
       "      <td>1</td>\n",
       "      <td>...</td>\n",
       "      <td>c:42668</td>\n",
       "      <td>0</td>\n",
       "      <td>0</td>\n",
       "      <td>0</td>\n",
       "      <td>1</td>\n",
       "      <td>1</td>\n",
       "      <td>1</td>\n",
       "      <td>3.3333</td>\n",
       "      <td>1</td>\n",
       "      <td>acquired</td>\n",
       "    </tr>\n",
       "    <tr>\n",
       "      <th>4</th>\n",
       "      <td>1002</td>\n",
       "      <td>CA</td>\n",
       "      <td>37.779281</td>\n",
       "      <td>-122.419236</td>\n",
       "      <td>94105</td>\n",
       "      <td>c:65806</td>\n",
       "      <td>San Francisco</td>\n",
       "      <td>San Francisco CA 94105</td>\n",
       "      <td>Inhale Digital</td>\n",
       "      <td>0</td>\n",
       "      <td>...</td>\n",
       "      <td>c:65806</td>\n",
       "      <td>1</td>\n",
       "      <td>1</td>\n",
       "      <td>0</td>\n",
       "      <td>0</td>\n",
       "      <td>0</td>\n",
       "      <td>0</td>\n",
       "      <td>1.0000</td>\n",
       "      <td>1</td>\n",
       "      <td>closed</td>\n",
       "    </tr>\n",
       "    <tr>\n",
       "      <th>...</th>\n",
       "      <td>...</td>\n",
       "      <td>...</td>\n",
       "      <td>...</td>\n",
       "      <td>...</td>\n",
       "      <td>...</td>\n",
       "      <td>...</td>\n",
       "      <td>...</td>\n",
       "      <td>...</td>\n",
       "      <td>...</td>\n",
       "      <td>...</td>\n",
       "      <td>...</td>\n",
       "      <td>...</td>\n",
       "      <td>...</td>\n",
       "      <td>...</td>\n",
       "      <td>...</td>\n",
       "      <td>...</td>\n",
       "      <td>...</td>\n",
       "      <td>...</td>\n",
       "      <td>...</td>\n",
       "      <td>...</td>\n",
       "      <td>...</td>\n",
       "    </tr>\n",
       "    <tr>\n",
       "      <th>918</th>\n",
       "      <td>352</td>\n",
       "      <td>CA</td>\n",
       "      <td>37.740594</td>\n",
       "      <td>-122.376471</td>\n",
       "      <td>94107</td>\n",
       "      <td>c:21343</td>\n",
       "      <td>San Francisco</td>\n",
       "      <td>NaN</td>\n",
       "      <td>CoTweet</td>\n",
       "      <td>1</td>\n",
       "      <td>...</td>\n",
       "      <td>c:21343</td>\n",
       "      <td>0</td>\n",
       "      <td>0</td>\n",
       "      <td>1</td>\n",
       "      <td>0</td>\n",
       "      <td>0</td>\n",
       "      <td>0</td>\n",
       "      <td>6.0000</td>\n",
       "      <td>1</td>\n",
       "      <td>acquired</td>\n",
       "    </tr>\n",
       "    <tr>\n",
       "      <th>919</th>\n",
       "      <td>721</td>\n",
       "      <td>MA</td>\n",
       "      <td>42.504817</td>\n",
       "      <td>-71.195611</td>\n",
       "      <td>1803</td>\n",
       "      <td>c:41747</td>\n",
       "      <td>Burlington</td>\n",
       "      <td>Burlington MA 1803</td>\n",
       "      <td>Reef Point Systems</td>\n",
       "      <td>0</td>\n",
       "      <td>...</td>\n",
       "      <td>c:41747</td>\n",
       "      <td>1</td>\n",
       "      <td>0</td>\n",
       "      <td>0</td>\n",
       "      <td>1</td>\n",
       "      <td>0</td>\n",
       "      <td>0</td>\n",
       "      <td>2.6667</td>\n",
       "      <td>1</td>\n",
       "      <td>closed</td>\n",
       "    </tr>\n",
       "    <tr>\n",
       "      <th>920</th>\n",
       "      <td>557</td>\n",
       "      <td>CA</td>\n",
       "      <td>37.408261</td>\n",
       "      <td>-122.015920</td>\n",
       "      <td>94089</td>\n",
       "      <td>c:31549</td>\n",
       "      <td>Sunnyvale</td>\n",
       "      <td>NaN</td>\n",
       "      <td>Paracor Medical</td>\n",
       "      <td>0</td>\n",
       "      <td>...</td>\n",
       "      <td>c:31549</td>\n",
       "      <td>0</td>\n",
       "      <td>0</td>\n",
       "      <td>0</td>\n",
       "      <td>0</td>\n",
       "      <td>0</td>\n",
       "      <td>1</td>\n",
       "      <td>8.0000</td>\n",
       "      <td>1</td>\n",
       "      <td>closed</td>\n",
       "    </tr>\n",
       "    <tr>\n",
       "      <th>921</th>\n",
       "      <td>589</td>\n",
       "      <td>CA</td>\n",
       "      <td>37.556732</td>\n",
       "      <td>-122.288378</td>\n",
       "      <td>94404</td>\n",
       "      <td>c:33198</td>\n",
       "      <td>San Francisco</td>\n",
       "      <td>NaN</td>\n",
       "      <td>Causata</td>\n",
       "      <td>1</td>\n",
       "      <td>...</td>\n",
       "      <td>c:33198</td>\n",
       "      <td>0</td>\n",
       "      <td>0</td>\n",
       "      <td>1</td>\n",
       "      <td>1</td>\n",
       "      <td>0</td>\n",
       "      <td>0</td>\n",
       "      <td>1.0000</td>\n",
       "      <td>1</td>\n",
       "      <td>acquired</td>\n",
       "    </tr>\n",
       "    <tr>\n",
       "      <th>922</th>\n",
       "      <td>462</td>\n",
       "      <td>CA</td>\n",
       "      <td>37.386778</td>\n",
       "      <td>-121.966277</td>\n",
       "      <td>95054</td>\n",
       "      <td>c:26702</td>\n",
       "      <td>Santa Clara</td>\n",
       "      <td>Santa Clara CA 95054</td>\n",
       "      <td>Asempra Technologies</td>\n",
       "      <td>1</td>\n",
       "      <td>...</td>\n",
       "      <td>c:26702</td>\n",
       "      <td>0</td>\n",
       "      <td>0</td>\n",
       "      <td>0</td>\n",
       "      <td>1</td>\n",
       "      <td>0</td>\n",
       "      <td>0</td>\n",
       "      <td>3.0000</td>\n",
       "      <td>1</td>\n",
       "      <td>acquired</td>\n",
       "    </tr>\n",
       "  </tbody>\n",
       "</table>\n",
       "<p>923 rows × 49 columns</p>\n",
       "</div>"
      ],
      "text/plain": [
       "     Unnamed: 0 state_code   latitude   longitude zip_code       id  \\\n",
       "0          1005         CA  42.358880  -71.056820    92101   c:6669   \n",
       "1           204         CA  37.238916 -121.973718    95032  c:16283   \n",
       "2          1001         CA  32.901049 -117.192656    92121  c:65620   \n",
       "3           738         CA  37.320309 -122.050040    95014  c:42668   \n",
       "4          1002         CA  37.779281 -122.419236    94105  c:65806   \n",
       "..          ...        ...        ...         ...      ...      ...   \n",
       "918         352         CA  37.740594 -122.376471    94107  c:21343   \n",
       "919         721         MA  42.504817  -71.195611     1803  c:41747   \n",
       "920         557         CA  37.408261 -122.015920    94089  c:31549   \n",
       "921         589         CA  37.556732 -122.288378    94404  c:33198   \n",
       "922         462         CA  37.386778 -121.966277    95054  c:26702   \n",
       "\n",
       "              city              Unnamed: 6                  name  labels  ...  \\\n",
       "0        San Diego                     NaN           Bandsintown       1  ...   \n",
       "1        Los Gatos                     NaN             TriCipher       1  ...   \n",
       "2        San Diego      San Diego CA 92121                 Plixi       1  ...   \n",
       "3        Cupertino      Cupertino CA 95014     Solidcore Systems       1  ...   \n",
       "4    San Francisco  San Francisco CA 94105        Inhale Digital       0  ...   \n",
       "..             ...                     ...                   ...     ...  ...   \n",
       "918  San Francisco                     NaN               CoTweet       1  ...   \n",
       "919     Burlington      Burlington MA 1803    Reef Point Systems       0  ...   \n",
       "920      Sunnyvale                     NaN       Paracor Medical       0  ...   \n",
       "921  San Francisco                     NaN               Causata       1  ...   \n",
       "922    Santa Clara    Santa Clara CA 95054  Asempra Technologies       1  ...   \n",
       "\n",
       "    object_id has_VC has_angel has_roundA  has_roundB  has_roundC  has_roundD  \\\n",
       "0      c:6669      0         1          0           0           0           0   \n",
       "1     c:16283      1         0          0           1           1           1   \n",
       "2     c:65620      0         0          1           0           0           0   \n",
       "3     c:42668      0         0          0           1           1           1   \n",
       "4     c:65806      1         1          0           0           0           0   \n",
       "..        ...    ...       ...        ...         ...         ...         ...   \n",
       "918   c:21343      0         0          1           0           0           0   \n",
       "919   c:41747      1         0          0           1           0           0   \n",
       "920   c:31549      0         0          0           0           0           1   \n",
       "921   c:33198      0         0          1           1           0           0   \n",
       "922   c:26702      0         0          0           1           0           0   \n",
       "\n",
       "     avg_participants  is_top500    status  \n",
       "0              1.0000          0  acquired  \n",
       "1              4.7500          1  acquired  \n",
       "2              4.0000          1  acquired  \n",
       "3              3.3333          1  acquired  \n",
       "4              1.0000          1    closed  \n",
       "..                ...        ...       ...  \n",
       "918            6.0000          1  acquired  \n",
       "919            2.6667          1    closed  \n",
       "920            8.0000          1    closed  \n",
       "921            1.0000          1  acquired  \n",
       "922            3.0000          1  acquired  \n",
       "\n",
       "[923 rows x 49 columns]"
      ]
     },
     "execution_count": 3,
     "metadata": {},
     "output_type": "execute_result"
    }
   ],
   "source": [
    "startups = pd.read_csv('../data/startup data.csv')\n",
    "startups"
   ]
  },
  {
   "cell_type": "code",
   "execution_count": 50,
   "metadata": {},
   "outputs": [],
   "source": [
    "# Here, we get all ids for original dataset \n",
    "\n",
    "x = startups['id'].str.split(':', expand=True)\n",
    "x.rename(columns={0:'numero',1:'id'}, inplace=True)\n",
    "ids = x['id'].astype(int)\n"
   ]
  },
  {
   "cell_type": "code",
   "execution_count": 51,
   "metadata": {},
   "outputs": [
    {
     "data": {
      "text/plain": [
       "acquired    597\n",
       "closed      326\n",
       "Name: status, dtype: int64"
      ]
     },
     "execution_count": 51,
     "metadata": {},
     "output_type": "execute_result"
    }
   ],
   "source": [
    "startups['status'].value_counts()"
   ]
  },
  {
   "cell_type": "code",
   "execution_count": 4,
   "metadata": {},
   "outputs": [
    {
     "data": {
      "text/html": [
       "<div>\n",
       "<style scoped>\n",
       "    .dataframe tbody tr th:only-of-type {\n",
       "        vertical-align: middle;\n",
       "    }\n",
       "\n",
       "    .dataframe tbody tr th {\n",
       "        vertical-align: top;\n",
       "    }\n",
       "\n",
       "    .dataframe thead th {\n",
       "        text-align: right;\n",
       "    }\n",
       "</style>\n",
       "<table border=\"1\" class=\"dataframe\">\n",
       "  <thead>\n",
       "    <tr style=\"text-align: right;\">\n",
       "      <th></th>\n",
       "      <th>object_id</th>\n",
       "      <th>milestone_at</th>\n",
       "      <th>milestone_code</th>\n",
       "      <th>description</th>\n",
       "      <th>source_url</th>\n",
       "      <th>source_description</th>\n",
       "      <th>created_at</th>\n",
       "      <th>updated_at</th>\n",
       "    </tr>\n",
       "  </thead>\n",
       "  <tbody>\n",
       "    <tr>\n",
       "      <th>0</th>\n",
       "      <td>c:12</td>\n",
       "      <td>2008-06-09</td>\n",
       "      <td>other</td>\n",
       "      <td>Survives iPhone 3G Stevenote</td>\n",
       "      <td>http://www.techcrunch.com/2008/06/10/twitter-f...</td>\n",
       "      <td>Twitter Fails To Fail, Community Rejoices</td>\n",
       "      <td>2008-06-18 08:14:06</td>\n",
       "      <td>2008-06-18 08:14:06</td>\n",
       "    </tr>\n",
       "    <tr>\n",
       "      <th>1</th>\n",
       "      <td>c:3138</td>\n",
       "      <td>2008-06-17</td>\n",
       "      <td>other</td>\n",
       "      <td>Twhirl announces support for Seesmic video pla...</td>\n",
       "      <td>http://www.inquisitr.com/1103/seesmic-now-avai...</td>\n",
       "      <td>Seesmic Now Available In Twhirl</td>\n",
       "      <td>2008-06-18 08:46:28</td>\n",
       "      <td>2008-06-18 08:46:28</td>\n",
       "    </tr>\n",
       "    <tr>\n",
       "      <th>2</th>\n",
       "      <td>c:59</td>\n",
       "      <td>2008-06-18</td>\n",
       "      <td>other</td>\n",
       "      <td>More than 4 Billion videos viewed at Google Si...</td>\n",
       "      <td>http://www.comscore.com/press/release.asp?pres...</td>\n",
       "      <td>11 Billion Videos Viewed Online in the U.S. in...</td>\n",
       "      <td>2008-06-18 08:50:24</td>\n",
       "      <td>2008-06-18 08:50:24</td>\n",
       "    </tr>\n",
       "    <tr>\n",
       "      <th>3</th>\n",
       "      <td>c:314</td>\n",
       "      <td>2008-06-18</td>\n",
       "      <td>other</td>\n",
       "      <td>Reddit goes Open Source</td>\n",
       "      <td>http://blog.reddit.com/2008/06/reddit-goes-ope...</td>\n",
       "      <td>reddit goes open source</td>\n",
       "      <td>2008-06-19 04:14:00</td>\n",
       "      <td>2008-06-19 04:14:00</td>\n",
       "    </tr>\n",
       "    <tr>\n",
       "      <th>4</th>\n",
       "      <td>c:314</td>\n",
       "      <td>2008-01-22</td>\n",
       "      <td>other</td>\n",
       "      <td>Adds the ability to create your own Reddits</td>\n",
       "      <td>http://www.techcrunch.com/2008/01/22/reddit-ad...</td>\n",
       "      <td>Reddit Adds Ability to Create Your Own âRedd...</td>\n",
       "      <td>2008-06-19 04:15:53</td>\n",
       "      <td>2008-06-19 04:15:53</td>\n",
       "    </tr>\n",
       "  </tbody>\n",
       "</table>\n",
       "</div>"
      ],
      "text/plain": [
       "  object_id milestone_at milestone_code  \\\n",
       "0      c:12   2008-06-09          other   \n",
       "1    c:3138   2008-06-17          other   \n",
       "2      c:59   2008-06-18          other   \n",
       "3     c:314   2008-06-18          other   \n",
       "4     c:314   2008-01-22          other   \n",
       "\n",
       "                                         description  \\\n",
       "0                       Survives iPhone 3G Stevenote   \n",
       "1  Twhirl announces support for Seesmic video pla...   \n",
       "2  More than 4 Billion videos viewed at Google Si...   \n",
       "3                            Reddit goes Open Source   \n",
       "4        Adds the ability to create your own Reddits   \n",
       "\n",
       "                                          source_url  \\\n",
       "0  http://www.techcrunch.com/2008/06/10/twitter-f...   \n",
       "1  http://www.inquisitr.com/1103/seesmic-now-avai...   \n",
       "2  http://www.comscore.com/press/release.asp?pres...   \n",
       "3  http://blog.reddit.com/2008/06/reddit-goes-ope...   \n",
       "4  http://www.techcrunch.com/2008/01/22/reddit-ad...   \n",
       "\n",
       "                                  source_description           created_at  \\\n",
       "0          Twitter Fails To Fail, Community Rejoices  2008-06-18 08:14:06   \n",
       "1                    Seesmic Now Available In Twhirl  2008-06-18 08:46:28   \n",
       "2  11 Billion Videos Viewed Online in the U.S. in...  2008-06-18 08:50:24   \n",
       "3                            reddit goes open source  2008-06-19 04:14:00   \n",
       "4  Reddit Adds Ability to Create Your Own âRedd...  2008-06-19 04:15:53   \n",
       "\n",
       "            updated_at  \n",
       "0  2008-06-18 08:14:06  \n",
       "1  2008-06-18 08:46:28  \n",
       "2  2008-06-18 08:50:24  \n",
       "3  2008-06-19 04:14:00  \n",
       "4  2008-06-19 04:15:53  "
      ]
     },
     "execution_count": 4,
     "metadata": {},
     "output_type": "execute_result"
    }
   ],
   "source": [
    "# Upload the milestones dataset for get all milestone from differents companies with their ids\n",
    "miles1 = pd.read_csv('../data/milestones.csv')\n",
    "miles1.drop(columns='id', inplace=True)\n",
    "miles1.head()"
   ]
  },
  {
   "cell_type": "code",
   "execution_count": 53,
   "metadata": {},
   "outputs": [],
   "source": [
    "# Separate columns for getting split id\n",
    "id = miles1['object_id'].str.split(':', expand=True)\n",
    "\n",
    "miles = pd.concat([id,miles1], axis = 1)\n"
   ]
  },
  {
   "cell_type": "code",
   "execution_count": 54,
   "metadata": {},
   "outputs": [],
   "source": [
    "miles.rename(columns= {1:'id'}, inplace=True)\n",
    "miles['id'] = miles['id'].astype(int)"
   ]
  },
  {
   "cell_type": "code",
   "execution_count": 55,
   "metadata": {},
   "outputs": [],
   "source": [
    "# Compare same id with original datasets and miles dataset\n",
    "miles['in'] = np.where((miles['id'].isin(ids)),1,0)\n",
    "\n",
    "miles = miles[miles['in'] == 1]\n",
    "\n",
    "#x.reset_index().to_csv('miles_create.csv')"
   ]
  },
  {
   "cell_type": "code",
   "execution_count": 56,
   "metadata": {},
   "outputs": [
    {
     "data": {
      "text/html": [
       "<div>\n",
       "<style scoped>\n",
       "    .dataframe tbody tr th:only-of-type {\n",
       "        vertical-align: middle;\n",
       "    }\n",
       "\n",
       "    .dataframe tbody tr th {\n",
       "        vertical-align: top;\n",
       "    }\n",
       "\n",
       "    .dataframe thead th {\n",
       "        text-align: right;\n",
       "    }\n",
       "</style>\n",
       "<table border=\"1\" class=\"dataframe\">\n",
       "  <thead>\n",
       "    <tr style=\"text-align: right;\">\n",
       "      <th></th>\n",
       "      <th>0</th>\n",
       "      <th>id</th>\n",
       "      <th>object_id</th>\n",
       "      <th>milestone_at</th>\n",
       "      <th>milestone_code</th>\n",
       "      <th>description</th>\n",
       "      <th>source_url</th>\n",
       "      <th>source_description</th>\n",
       "      <th>created_at</th>\n",
       "      <th>updated_at</th>\n",
       "      <th>in</th>\n",
       "    </tr>\n",
       "  </thead>\n",
       "  <tbody>\n",
       "    <tr>\n",
       "      <th>3</th>\n",
       "      <td>c</td>\n",
       "      <td>314</td>\n",
       "      <td>c:314</td>\n",
       "      <td>2008-06-18</td>\n",
       "      <td>other</td>\n",
       "      <td>Reddit goes Open Source</td>\n",
       "      <td>http://blog.reddit.com/2008/06/reddit-goes-ope...</td>\n",
       "      <td>reddit goes open source</td>\n",
       "      <td>2008-06-19 04:14:00</td>\n",
       "      <td>2008-06-19 04:14:00</td>\n",
       "      <td>1</td>\n",
       "    </tr>\n",
       "    <tr>\n",
       "      <th>4</th>\n",
       "      <td>c</td>\n",
       "      <td>314</td>\n",
       "      <td>c:314</td>\n",
       "      <td>2008-01-22</td>\n",
       "      <td>other</td>\n",
       "      <td>Adds the ability to create your own Reddits</td>\n",
       "      <td>http://www.techcrunch.com/2008/01/22/reddit-ad...</td>\n",
       "      <td>Reddit Adds Ability to Create Your Own âRedd...</td>\n",
       "      <td>2008-06-19 04:15:53</td>\n",
       "      <td>2008-06-19 04:15:53</td>\n",
       "      <td>1</td>\n",
       "    </tr>\n",
       "    <tr>\n",
       "      <th>11</th>\n",
       "      <td>c</td>\n",
       "      <td>1388</td>\n",
       "      <td>c:1388</td>\n",
       "      <td>2011-02-06</td>\n",
       "      <td>other</td>\n",
       "      <td>AOL Acquires Huffington Post</td>\n",
       "      <td>http://online.wsj.com/article/SB10001424052748...</td>\n",
       "      <td>AOL Acquires Huffington PostHuffington Post st...</td>\n",
       "      <td>2008-06-19 22:13:09</td>\n",
       "      <td>2011-02-08 02:19:45</td>\n",
       "      <td>1</td>\n",
       "    </tr>\n",
       "    <tr>\n",
       "      <th>23</th>\n",
       "      <td>c</td>\n",
       "      <td>5411</td>\n",
       "      <td>c:5411</td>\n",
       "      <td>2008-06-03</td>\n",
       "      <td>other</td>\n",
       "      <td>Sometrics has introduced an ad-serving platfor...</td>\n",
       "      <td>http://publications.mediapost.com/index.cfm?fu...</td>\n",
       "      <td>Sometrics Launches Social Ad-Serving Platform</td>\n",
       "      <td>2008-06-23 01:49:03</td>\n",
       "      <td>2008-06-23 19:16:11</td>\n",
       "      <td>1</td>\n",
       "    </tr>\n",
       "    <tr>\n",
       "      <th>54</th>\n",
       "      <td>c</td>\n",
       "      <td>7163</td>\n",
       "      <td>c:7163</td>\n",
       "      <td>2009-01-01</td>\n",
       "      <td>other</td>\n",
       "      <td>FlyCast covers 1500+ terrestrial stations with...</td>\n",
       "      <td>http://technorati.com/posts/B0HC%2BdlQxbawlolU...</td>\n",
       "      <td>Flytunes goes from 50 to more than 160 channels</td>\n",
       "      <td>2008-06-24 18:10:31</td>\n",
       "      <td>2009-06-18 00:02:33</td>\n",
       "      <td>1</td>\n",
       "    </tr>\n",
       "    <tr>\n",
       "      <th>...</th>\n",
       "      <td>...</td>\n",
       "      <td>...</td>\n",
       "      <td>...</td>\n",
       "      <td>...</td>\n",
       "      <td>...</td>\n",
       "      <td>...</td>\n",
       "      <td>...</td>\n",
       "      <td>...</td>\n",
       "      <td>...</td>\n",
       "      <td>...</td>\n",
       "      <td>...</td>\n",
       "    </tr>\n",
       "    <tr>\n",
       "      <th>38955</th>\n",
       "      <td>c</td>\n",
       "      <td>437</td>\n",
       "      <td>c:437</td>\n",
       "      <td>2013-06-25</td>\n",
       "      <td>other</td>\n",
       "      <td>TokBox launches OpenTok for Customer Service (...</td>\n",
       "      <td>http://techcrunch.com/2013/06/26/tokbox-launch...</td>\n",
       "      <td>TokBox Launches OpenTok For Customer Service A...</td>\n",
       "      <td>2013-12-02 21:43:20</td>\n",
       "      <td>2013-12-04 01:29:32</td>\n",
       "      <td>1</td>\n",
       "    </tr>\n",
       "    <tr>\n",
       "      <th>38956</th>\n",
       "      <td>c</td>\n",
       "      <td>437</td>\n",
       "      <td>c:437</td>\n",
       "      <td>2013-11-19</td>\n",
       "      <td>other</td>\n",
       "      <td>TokBox adds TURN over TCP support</td>\n",
       "      <td>http://techcrunch.com/2013/11/19/tokbox-brings...</td>\n",
       "      <td>TokBox Brings Its WebRTC Platform To Native An...</td>\n",
       "      <td>2013-12-02 21:43:20</td>\n",
       "      <td>2013-12-04 01:29:32</td>\n",
       "      <td>1</td>\n",
       "    </tr>\n",
       "    <tr>\n",
       "      <th>38957</th>\n",
       "      <td>c</td>\n",
       "      <td>437</td>\n",
       "      <td>c:437</td>\n",
       "      <td>2013-11-19</td>\n",
       "      <td>other</td>\n",
       "      <td>TokBox extends support for building native And...</td>\n",
       "      <td>http://techcrunch.com/2013/11/19/tokbox-brings...</td>\n",
       "      <td>TokBox Brings Its WebRTC Platform To Native An...</td>\n",
       "      <td>2013-12-02 21:43:20</td>\n",
       "      <td>2013-12-04 01:29:32</td>\n",
       "      <td>1</td>\n",
       "    </tr>\n",
       "    <tr>\n",
       "      <th>38958</th>\n",
       "      <td>c</td>\n",
       "      <td>437</td>\n",
       "      <td>c:437</td>\n",
       "      <td>2013-11-19</td>\n",
       "      <td>other</td>\n",
       "      <td>TokBox launches Dynamic Frame Rate Control fea...</td>\n",
       "      <td>http://techcrunch.com/2013/11/19/tokbox-brings...</td>\n",
       "      <td>TokBox Brings Its WebRTC Platform To Native An...</td>\n",
       "      <td>2013-12-02 21:43:21</td>\n",
       "      <td>2013-12-04 01:29:32</td>\n",
       "      <td>1</td>\n",
       "    </tr>\n",
       "    <tr>\n",
       "      <th>38959</th>\n",
       "      <td>c</td>\n",
       "      <td>437</td>\n",
       "      <td>c:437</td>\n",
       "      <td>2013-11-19</td>\n",
       "      <td>other</td>\n",
       "      <td>TokBox launches Archiving &amp; Recording feature</td>\n",
       "      <td>http://techcrunch.com/2013/11/19/tokbox-brings...</td>\n",
       "      <td>TokBox Brings Its WebRTC Platform To Native An...</td>\n",
       "      <td>2013-12-02 21:43:21</td>\n",
       "      <td>2013-12-04 01:29:32</td>\n",
       "      <td>1</td>\n",
       "    </tr>\n",
       "  </tbody>\n",
       "</table>\n",
       "<p>879 rows × 11 columns</p>\n",
       "</div>"
      ],
      "text/plain": [
       "       0    id object_id milestone_at milestone_code  \\\n",
       "3      c   314     c:314   2008-06-18          other   \n",
       "4      c   314     c:314   2008-01-22          other   \n",
       "11     c  1388    c:1388   2011-02-06          other   \n",
       "23     c  5411    c:5411   2008-06-03          other   \n",
       "54     c  7163    c:7163   2009-01-01          other   \n",
       "...   ..   ...       ...          ...            ...   \n",
       "38955  c   437     c:437   2013-06-25          other   \n",
       "38956  c   437     c:437   2013-11-19          other   \n",
       "38957  c   437     c:437   2013-11-19          other   \n",
       "38958  c   437     c:437   2013-11-19          other   \n",
       "38959  c   437     c:437   2013-11-19          other   \n",
       "\n",
       "                                             description  \\\n",
       "3                                Reddit goes Open Source   \n",
       "4            Adds the ability to create your own Reddits   \n",
       "11                          AOL Acquires Huffington Post   \n",
       "23     Sometrics has introduced an ad-serving platfor...   \n",
       "54     FlyCast covers 1500+ terrestrial stations with...   \n",
       "...                                                  ...   \n",
       "38955  TokBox launches OpenTok for Customer Service (...   \n",
       "38956                  TokBox adds TURN over TCP support   \n",
       "38957  TokBox extends support for building native And...   \n",
       "38958  TokBox launches Dynamic Frame Rate Control fea...   \n",
       "38959      TokBox launches Archiving & Recording feature   \n",
       "\n",
       "                                              source_url  \\\n",
       "3      http://blog.reddit.com/2008/06/reddit-goes-ope...   \n",
       "4      http://www.techcrunch.com/2008/01/22/reddit-ad...   \n",
       "11     http://online.wsj.com/article/SB10001424052748...   \n",
       "23     http://publications.mediapost.com/index.cfm?fu...   \n",
       "54     http://technorati.com/posts/B0HC%2BdlQxbawlolU...   \n",
       "...                                                  ...   \n",
       "38955  http://techcrunch.com/2013/06/26/tokbox-launch...   \n",
       "38956  http://techcrunch.com/2013/11/19/tokbox-brings...   \n",
       "38957  http://techcrunch.com/2013/11/19/tokbox-brings...   \n",
       "38958  http://techcrunch.com/2013/11/19/tokbox-brings...   \n",
       "38959  http://techcrunch.com/2013/11/19/tokbox-brings...   \n",
       "\n",
       "                                      source_description           created_at  \\\n",
       "3                                reddit goes open source  2008-06-19 04:14:00   \n",
       "4      Reddit Adds Ability to Create Your Own âRedd...  2008-06-19 04:15:53   \n",
       "11     AOL Acquires Huffington PostHuffington Post st...  2008-06-19 22:13:09   \n",
       "23         Sometrics Launches Social Ad-Serving Platform  2008-06-23 01:49:03   \n",
       "54       Flytunes goes from 50 to more than 160 channels  2008-06-24 18:10:31   \n",
       "...                                                  ...                  ...   \n",
       "38955  TokBox Launches OpenTok For Customer Service A...  2013-12-02 21:43:20   \n",
       "38956  TokBox Brings Its WebRTC Platform To Native An...  2013-12-02 21:43:20   \n",
       "38957  TokBox Brings Its WebRTC Platform To Native An...  2013-12-02 21:43:20   \n",
       "38958  TokBox Brings Its WebRTC Platform To Native An...  2013-12-02 21:43:21   \n",
       "38959  TokBox Brings Its WebRTC Platform To Native An...  2013-12-02 21:43:21   \n",
       "\n",
       "                updated_at  in  \n",
       "3      2008-06-19 04:14:00   1  \n",
       "4      2008-06-19 04:15:53   1  \n",
       "11     2011-02-08 02:19:45   1  \n",
       "23     2008-06-23 19:16:11   1  \n",
       "54     2009-06-18 00:02:33   1  \n",
       "...                    ...  ..  \n",
       "38955  2013-12-04 01:29:32   1  \n",
       "38956  2013-12-04 01:29:32   1  \n",
       "38957  2013-12-04 01:29:32   1  \n",
       "38958  2013-12-04 01:29:32   1  \n",
       "38959  2013-12-04 01:29:32   1  \n",
       "\n",
       "[879 rows x 11 columns]"
      ]
     },
     "execution_count": 56,
     "metadata": {},
     "output_type": "execute_result"
    }
   ],
   "source": [
    "miles"
   ]
  },
  {
   "cell_type": "code",
   "execution_count": 57,
   "metadata": {},
   "outputs": [],
   "source": [
    " #NO nueva = miles.groupby(['id']).apply(lambda x: x['source_description'].str.split(','))\n"
   ]
  },
  {
   "cell_type": "code",
   "execution_count": 58,
   "metadata": {},
   "outputs": [
    {
     "data": {
      "text/html": [
       "<div>\n",
       "<style scoped>\n",
       "    .dataframe tbody tr th:only-of-type {\n",
       "        vertical-align: middle;\n",
       "    }\n",
       "\n",
       "    .dataframe tbody tr th {\n",
       "        vertical-align: top;\n",
       "    }\n",
       "\n",
       "    .dataframe thead th {\n",
       "        text-align: right;\n",
       "    }\n",
       "</style>\n",
       "<table border=\"1\" class=\"dataframe\">\n",
       "  <thead>\n",
       "    <tr style=\"text-align: right;\">\n",
       "      <th></th>\n",
       "      <th>id</th>\n",
       "      <th>description</th>\n",
       "    </tr>\n",
       "  </thead>\n",
       "  <tbody>\n",
       "    <tr>\n",
       "      <th>0</th>\n",
       "      <td>4</td>\n",
       "      <td>Accel Partners Raises 2 new fundsAAAA Another ...</td>\n",
       "    </tr>\n",
       "    <tr>\n",
       "      <th>1</th>\n",
       "      <td>9</td>\n",
       "      <td>Announced hire of new CEO</td>\n",
       "    </tr>\n",
       "    <tr>\n",
       "      <th>2</th>\n",
       "      <td>27</td>\n",
       "      <td>Long-Time Plaxo CEO Golub Leaves AAAA Plaxo li...</td>\n",
       "    </tr>\n",
       "    <tr>\n",
       "      <th>3</th>\n",
       "      <td>30</td>\n",
       "      <td>KupiBonus.ru Receives Funding From ABRT, Mangr...</td>\n",
       "    </tr>\n",
       "    <tr>\n",
       "      <th>4</th>\n",
       "      <td>40</td>\n",
       "      <td>Veoh declares bankruptcy</td>\n",
       "    </tr>\n",
       "    <tr>\n",
       "      <th>...</th>\n",
       "      <td>...</td>\n",
       "      <td>...</td>\n",
       "    </tr>\n",
       "    <tr>\n",
       "      <th>303</th>\n",
       "      <td>86120</td>\n",
       "      <td>Netgamix Inc added Patrick de Zeeuw to the adv...</td>\n",
       "    </tr>\n",
       "    <tr>\n",
       "      <th>304</th>\n",
       "      <td>102867</td>\n",
       "      <td>WeHostels awarded \"Most Innovative Startup of ...</td>\n",
       "    </tr>\n",
       "    <tr>\n",
       "      <th>305</th>\n",
       "      <td>144687</td>\n",
       "      <td>Mobile App for iPhone available on iTunesAAAA ...</td>\n",
       "    </tr>\n",
       "    <tr>\n",
       "      <th>306</th>\n",
       "      <td>149809</td>\n",
       "      <td>Trendslide has joined Incutio, the latest 'Gro...</td>\n",
       "    </tr>\n",
       "    <tr>\n",
       "      <th>307</th>\n",
       "      <td>162116</td>\n",
       "      <td>Stephan Cunningham Joins Gradient X as Vice Pr...</td>\n",
       "    </tr>\n",
       "  </tbody>\n",
       "</table>\n",
       "<p>308 rows × 2 columns</p>\n",
       "</div>"
      ],
      "text/plain": [
       "         id                                        description\n",
       "0         4  Accel Partners Raises 2 new fundsAAAA Another ...\n",
       "1         9                          Announced hire of new CEO\n",
       "2        27  Long-Time Plaxo CEO Golub Leaves AAAA Plaxo li...\n",
       "3        30  KupiBonus.ru Receives Funding From ABRT, Mangr...\n",
       "4        40                           Veoh declares bankruptcy\n",
       "..      ...                                                ...\n",
       "303   86120  Netgamix Inc added Patrick de Zeeuw to the adv...\n",
       "304  102867  WeHostels awarded \"Most Innovative Startup of ...\n",
       "305  144687  Mobile App for iPhone available on iTunesAAAA ...\n",
       "306  149809  Trendslide has joined Incutio, the latest 'Gro...\n",
       "307  162116  Stephan Cunningham Joins Gradient X as Vice Pr...\n",
       "\n",
       "[308 rows x 2 columns]"
      ]
     },
     "execution_count": 58,
     "metadata": {},
     "output_type": "execute_result"
    }
   ],
   "source": [
    "# Groupby ids and descriptions\n",
    "\n",
    "miles = miles.groupby('id').description.apply('AAAA '.join).reset_index()\n",
    "miles['id'] = miles['id'].astype(str)\n",
    "miles"
   ]
  },
  {
   "cell_type": "code",
   "execution_count": null,
   "metadata": {},
   "outputs": [],
   "source": []
  },
  {
   "cell_type": "code",
   "execution_count": 59,
   "metadata": {},
   "outputs": [
    {
     "data": {
      "text/plain": [
       "[('Launches', 30),\n",
       " ('at', 28),\n",
       " ('new', 27),\n",
       " ('that', 25),\n",
       " ('Qik', 25),\n",
       " ('To', 24),\n",
       " ('from', 24),\n",
       " ('million', 24),\n",
       " ('has', 23),\n",
       " ('Mobile', 23),\n",
       " ('an', 22),\n",
       " ('acquired', 21),\n",
       " ('With', 21),\n",
       " ('OneRiot', 21),\n",
       " ('one', 19),\n",
       " ('Miller', 19),\n",
       " ('Gold', 19),\n",
       " ('VirtuOz', 19),\n",
       " ('is', 18),\n",
       " ('Technology', 18),\n",
       " ('Virtual', 18),\n",
       " ('San', 17),\n",
       " ('For', 17),\n",
       " ('iPhone', 17),\n",
       " ('invested', 17),\n",
       " ('A', 17),\n",
       " ('The', 16),\n",
       " ('Inc.', 16),\n",
       " ('Named', 16),\n",
       " ('Business', 16),\n",
       " ('Francisco', 15),\n",
       " ('Announces', 15),\n",
       " ('Search', 15),\n",
       " ('Capital', 15),\n",
       " ('In', 14),\n",
       " ('Video', 14),\n",
       " ('Invested', 14),\n",
       " ('-', 14),\n",
       " ('announces', 14),\n",
       " ('online', 14),\n",
       " ('Peer39', 14),\n",
       " ('Client', 14),\n",
       " ('CEO', 13),\n",
       " ('First', 13),\n",
       " ('100', 13),\n",
       " ('VP', 13),\n",
       " ('WebVisible', 13),\n",
       " ('&', 12),\n",
       " ('listAAAA', 12),\n",
       " ('it', 12),\n",
       " ('Series', 12),\n",
       " ('company', 12),\n",
       " ('App', 12),\n",
       " ('President', 12),\n",
       " ('announced', 12),\n",
       " ('launched', 12),\n",
       " ('are', 12),\n",
       " ('Company', 12),\n",
       " ('Online', 12),\n",
       " ('1', 11),\n",
       " ('Network', 11),\n",
       " ('recognized', 11),\n",
       " ('their', 11),\n",
       " ('Vice', 11),\n",
       " ('Cloud', 11),\n",
       " ('Now', 11),\n",
       " ('video', 11),\n",
       " ('Intelligent', 11),\n",
       " ('And', 10),\n",
       " ('Funding', 10),\n",
       " ('today', 10),\n",
       " ('Top', 10),\n",
       " ('Appoints', 10),\n",
       " ('Nirvanix', 10),\n",
       " ('be', 10),\n",
       " ('Android', 10),\n",
       " ('Thumbplay', 10),\n",
       " ('first', 10),\n",
       " ('equity', 9),\n",
       " ('Data', 9),\n",
       " ('Adds', 9),\n",
       " ('Up', 9),\n",
       " ('Web', 9),\n",
       " ('mobile', 9),\n",
       " ('app', 9),\n",
       " ('Director', 9),\n",
       " ('Platform', 9),\n",
       " ('Acquired', 9),\n",
       " ('7', 9),\n",
       " ('Yammer', 9),\n",
       " ('Agents', 9),\n",
       " ('Partners', 8),\n",
       " ('Networks', 8),\n",
       " ('Management', 8),\n",
       " ('Lead411', 8),\n",
       " ('Facebook', 8),\n",
       " ('over', 8),\n",
       " ('social', 8),\n",
       " ('One', 8),\n",
       " ('Hot', 8),\n",
       " ('content', 8),\n",
       " ('Finalist', 8),\n",
       " ('Attributor', 8),\n",
       " ('application', 8),\n",
       " ('list', 8),\n",
       " ('Realtime', 8),\n",
       " ('Award', 8),\n",
       " ('Advertising', 8),\n",
       " ('RFinity', 8),\n",
       " ('Boston', 7),\n",
       " ('Launch', 7),\n",
       " ('Service', 7),\n",
       " ('YouTube', 7),\n",
       " ('Billion', 7),\n",
       " ('Live', 7),\n",
       " ('Social', 7),\n",
       " ('Acquires', 7),\n",
       " ('Open', 7),\n",
       " ('Equity', 7),\n",
       " ('Group', 7),\n",
       " ('Storage', 7),\n",
       " ('TokBox', 7),\n",
       " ('Customer', 7),\n",
       " ('support', 7),\n",
       " ('marketing', 7),\n",
       " ('Fast', 7),\n",
       " ('partnership', 7),\n",
       " ('acquires', 7),\n",
       " ('Ad', 7),\n",
       " ('Windows', 7),\n",
       " ('MHS', 7),\n",
       " ('services', 7),\n",
       " ('3TS', 7),\n",
       " ('additional', 7),\n",
       " ('round', 7),\n",
       " ('updatedAAAA', 7),\n",
       " ('Photobucket', 7),\n",
       " ('private', 6),\n",
       " ('up', 6),\n",
       " ('Of', 6),\n",
       " ('Yahoo', 6),\n",
       " ('U.S.', 6),\n",
       " ('Views', 6),\n",
       " ('been', 6),\n",
       " ('500', 6),\n",
       " ('Twitter', 6),\n",
       " ('Marketplace', 6),\n",
       " ('\"Hottest', 6),\n",
       " ('Companies\"', 6),\n",
       " ('service', 6),\n",
       " ('releases', 6),\n",
       " ('will', 6),\n",
       " ('business', 6),\n",
       " ('Application', 6),\n",
       " ('technology', 6),\n",
       " ('TripIt', 6),\n",
       " ('search', 6),\n",
       " ('Joined', 6),\n",
       " ('Best', 6),\n",
       " ('2010', 6),\n",
       " ('Board', 6),\n",
       " ('into', 6),\n",
       " ('media', 6),\n",
       " ('Support', 6),\n",
       " ('out', 6),\n",
       " ('web', 6),\n",
       " ('Nokia', 6),\n",
       " ('added', 6),\n",
       " ('sold', 6),\n",
       " ('Marketing', 6),\n",
       " ('Its', 6),\n",
       " ('Announced', 6),\n",
       " ('former', 6),\n",
       " ('Layer', 6),\n",
       " ('Braintree', 6),\n",
       " ('2', 5),\n",
       " ('hire', 5),\n",
       " ('Leaves', 5),\n",
       " ('including', 5),\n",
       " ('Seattle', 5),\n",
       " ('based', 5),\n",
       " ('Customers', 5),\n",
       " ('Internet', 5),\n",
       " ('On', 5),\n",
       " ('DayAAAA', 5),\n",
       " ('Inc.AAAA', 5),\n",
       " ('Seesmic', 5),\n",
       " ('Unveils', 5),\n",
       " ('Oodle', 5),\n",
       " ('network', 5),\n",
       " ('which', 5),\n",
       " ('buys', 5),\n",
       " ('Worldwide', 5),\n",
       " ('Digital', 5),\n",
       " ('Beta', 5),\n",
       " ('Silicon', 5),\n",
       " ('Valley', 5),\n",
       " ('supportAAAA', 5),\n",
       " ('users', 5),\n",
       " ('Private', 5),\n",
       " ('Buys', 5),\n",
       " ('BlackBerry', 5),\n",
       " ('growing', 5),\n",
       " ('Executive', 5),\n",
       " ('all', 5),\n",
       " ('music', 5),\n",
       " ('public', 5),\n",
       " ('York', 5),\n",
       " ('City', 5),\n",
       " ('help', 5),\n",
       " ('Media', 5),\n",
       " ('Goes', 5),\n",
       " ('down', 5),\n",
       " ('ad', 5),\n",
       " ('launch', 5),\n",
       " ('cloud', 5),\n",
       " ('30', 5),\n",
       " ('Over', 5),\n",
       " ('Cisco', 5),\n",
       " ('Growth', 5),\n",
       " ('Joins', 5),\n",
       " ('semantic', 5),\n",
       " ('more', 5),\n",
       " ('Software', 5),\n",
       " ('performance', 5),\n",
       " ('Local', 5),\n",
       " ('raises', 5),\n",
       " ('StoreAAAA', 5),\n",
       " ('funding', 5),\n",
       " ('Texas', 5),\n",
       " ('Sales', 5),\n",
       " ('provided', 5),\n",
       " ('Enterprise', 5),\n",
       " ('or', 5),\n",
       " ('Small', 5),\n",
       " ('Percent', 5),\n",
       " ('Power', 5),\n",
       " ('Entrepreneur', 5),\n",
       " ('cash', 5),\n",
       " ('Payments', 5),\n",
       " ('Global', 5),\n",
       " ('raised', 5),\n",
       " ('FlyCast', 5),\n",
       " ('thePlatform', 5),\n",
       " ('management', 5),\n",
       " ('through', 5),\n",
       " ('was', 5),\n",
       " ('Awards', 5),\n",
       " ('2011', 5),\n",
       " ('Deliver', 5),\n",
       " ('Is', 4),\n",
       " ('Big', 4),\n",
       " ('Plaxo', 4),\n",
       " ('leadership', 4),\n",
       " ('introduces', 4),\n",
       " ('Personal', 4),\n",
       " ('Receives', 4),\n",
       " ('Inc.,', 4),\n",
       " ('Hits', 4),\n",
       " ('reaches', 4),\n",
       " ('per', 4),\n",
       " ('3', 4),\n",
       " ('Per', 4),\n",
       " ('Reaches', 4),\n",
       " ('4', 4),\n",
       " ('Stake', 4),\n",
       " ('FundAAAA', 4),\n",
       " ('Senior', 4),\n",
       " ('Gotuit', 4),\n",
       " ('North', 4),\n",
       " ('adds', 4),\n",
       " ('off', 4),\n",
       " ('20', 4),\n",
       " ('Job', 4),\n",
       " ('2.0', 4),\n",
       " ('Reddit', 4),\n",
       " ('Providence', 4),\n",
       " ('Content', 4),\n",
       " ('AppAAAA', 4),\n",
       " ('Free', 4),\n",
       " ('fastest', 4),\n",
       " ('companies', 4),\n",
       " ('Chief', 4),\n",
       " ('Music', 4),\n",
       " ('beta', 4),\n",
       " ('now', 4),\n",
       " ('report', 4),\n",
       " ('travel', 4),\n",
       " ('API', 4),\n",
       " ('Way', 4),\n",
       " ('Pennsylvania', 4),\n",
       " ('Mike', 4),\n",
       " ('Tumblr', 4),\n",
       " ('Corporation', 4),\n",
       " ('part', 4),\n",
       " ('advertising', 4),\n",
       " ('OnMedia', 4),\n",
       " ('Bring', 4),\n",
       " ('Product', 4),\n",
       " ('PlatformAAAA', 4),\n",
       " ('partner', 4),\n",
       " ('between', 4),\n",
       " ('financing', 4),\n",
       " ('Users', 4),\n",
       " ('Samsung', 4),\n",
       " ('Omnia', 4),\n",
       " ('Partnership', 4),\n",
       " ('game', 4),\n",
       " ('Inc', 4),\n",
       " ('executive', 4),\n",
       " ('Investment', 4),\n",
       " ('financingAAAA', 4),\n",
       " ('platform', 4),\n",
       " ('designed', 4),\n",
       " ('Tech', 4),\n",
       " ('Young', 4),\n",
       " ('Names', 4),\n",
       " ('sales', 4),\n",
       " ('deal', 4),\n",
       " ('Cotendo', 4),\n",
       " ('hired', 4),\n",
       " ('Syncplicity', 4),\n",
       " ('using', 4),\n",
       " ('Systems', 4),\n",
       " ('2012', 4),\n",
       " ('leads', 4),\n",
       " ('Socialcast', 4),\n",
       " ('Bandsintown', 4),\n",
       " ('Extends', 4),\n",
       " ('across', 4),\n",
       " ('than', 4),\n",
       " ('50', 4),\n",
       " ('Most', 4),\n",
       " ('Gartner', 4),\n",
       " ('Agent', 4),\n",
       " ('Magic', 4),\n",
       " ('SVP', 4),\n",
       " ('Milo.com', 4),\n",
       " ('Fotomoto', 4),\n",
       " ('Blip', 4),\n",
       " ('joined', 4),\n",
       " ('Nimbula', 4),\n",
       " ('Accel', 3),\n",
       " ('Digg', 3),\n",
       " ('hires', 3),\n",
       " ('Releases', 3),\n",
       " ('Huge', 3),\n",
       " ('Expands', 3),\n",
       " ('Founder', 3),\n",
       " ('Michael', 3),\n",
       " ('Selects', 3),\n",
       " ('Enables', 3),\n",
       " ('Team', 3),\n",
       " ('investor', 3),\n",
       " ('People', 3),\n",
       " ('News', 3),\n",
       " ('Indeed', 3),\n",
       " ('Premium', 3),\n",
       " ('free', 3),\n",
       " ('own', 3),\n",
       " ('Pageviews', 3),\n",
       " ('This', 3),\n",
       " ('billion', 3),\n",
       " ('5', 3),\n",
       " ('Offers', 3),\n",
       " ('SolutionAAAA', 3),\n",
       " ('Announce', 3),\n",
       " ('ReleasedAAAA', 3),\n",
       " ('OpenTok', 3),\n",
       " ('iOS', 3),\n",
       " ('extends', 3),\n",
       " ('eonBusiness', 3),\n",
       " ('2009', 3),\n",
       " ('group', 3),\n",
       " ('Docstoc', 3),\n",
       " ('small', 3),\n",
       " ('US', 3),\n",
       " ('partners', 3),\n",
       " ('â\\x80\\x93', 3),\n",
       " ('site', 3),\n",
       " ('premium', 3),\n",
       " ('Under', 3),\n",
       " ('Hires', 3),\n",
       " ('Real-Time', 3),\n",
       " ('Out', 3),\n",
       " ('Trending', 3),\n",
       " ('Engine', 3),\n",
       " ('Ventures', 3),\n",
       " ('VC', 3),\n",
       " ('TechCrunch', 3),\n",
       " ('venture', 3),\n",
       " ('Users,', 3),\n",
       " ('Past', 3),\n",
       " ('400', 3),\n",
       " ('DC', 3),\n",
       " ('Labs', 3),\n",
       " ('Salesforce.com', 3),\n",
       " ('appointed', 3),\n",
       " ('data', 3),\n",
       " ('Performance', 3),\n",
       " ('publishers', 3),\n",
       " ('revenue', 3),\n",
       " ('have', 3),\n",
       " ('digital', 3),\n",
       " ('provide', 3),\n",
       " ('Additional', 3),\n",
       " ('MerchantCircle', 3),\n",
       " ('Unique', 3),\n",
       " ('More', 3),\n",
       " ('share,', 3),\n",
       " ('Ribbit', 3),\n",
       " ('devicesAAAA', 3),\n",
       " ('Ovi', 3),\n",
       " ('launchedAAAA', 3),\n",
       " ('Alpha', 3),\n",
       " ('available', 3),\n",
       " ('VideoCamera', 3),\n",
       " ('UpdatedAAAA', 3),\n",
       " ('Access', 3),\n",
       " ('name', 3),\n",
       " ('Awarded', 3),\n",
       " ('board', 3),\n",
       " ('Delivers', 3),\n",
       " ('top', 3),\n",
       " ('Next', 3),\n",
       " ('$1M+', 3),\n",
       " ('Market', 3),\n",
       " ('financial', 3),\n",
       " ('/', 3),\n",
       " ('brings', 3),\n",
       " ('PC', 3),\n",
       " ('Innovation', 3),\n",
       " ('10', 3),\n",
       " ('Lead', 3),\n",
       " ('Three', 3),\n",
       " ('Positioned', 3),\n",
       " ('Consumer', 3),\n",
       " ('Experience', 3),\n",
       " ('Leader', 3),\n",
       " ('CEO,', 3),\n",
       " ('Her', 3),\n",
       " ('product', 3),\n",
       " ('acquisition', 3),\n",
       " ('David', 3),\n",
       " ('engine', 3),\n",
       " ('Sometrics', 3),\n",
       " ('Analytics', 3),\n",
       " ('Fastest', 3),\n",
       " ('Growing', 3),\n",
       " ('Quepasa', 3),\n",
       " ('purchase', 3),\n",
       " ('NIH', 3),\n",
       " ('awarded', 3),\n",
       " ('usersAAAA', 3),\n",
       " ('True', 3),\n",
       " ('Curation', 3),\n",
       " ('Photo', 3),\n",
       " ('selected', 3),\n",
       " ('system', 3),\n",
       " ('consumers', 3),\n",
       " ('$4', 3),\n",
       " ('Technologies', 3),\n",
       " ('investment', 3),\n",
       " ('Xtify', 3),\n",
       " ('International', 3),\n",
       " ('agreement', 3),\n",
       " ('Deloitte', 3),\n",
       " ('SalesAAAA', 3),\n",
       " ('Lab', 3),\n",
       " ('Innovative', 3),\n",
       " ('allows', 3),\n",
       " ('Chris', 3),\n",
       " ('Added', 3),\n",
       " ('Seed', 3),\n",
       " ('liveBooks,', 3),\n",
       " ('Surpasses', 3),\n",
       " ('Original', 3),\n",
       " ('Quadrant', 3),\n",
       " ('led', 3),\n",
       " ('pilot', 3),\n",
       " ('University', 3),\n",
       " ('providers', 3),\n",
       " ('Operations', 3),\n",
       " ('Gradient', 3),\n",
       " ('X', 3),\n",
       " ('John', 2),\n",
       " ('joins', 2),\n",
       " ('Roberts', 2),\n",
       " ('Debuts', 2),\n",
       " ('$100M', 2),\n",
       " ('Fund', 2),\n",
       " ('CompaniesAAAA', 2),\n",
       " ('Sold', 2),\n",
       " ('LinkedIn', 2),\n",
       " ('Washington', 2),\n",
       " ('Post', 2),\n",
       " ('team', 2),\n",
       " ('address', 2),\n",
       " ('book', 2),\n",
       " ('From', 2),\n",
       " ('Mangrove', 2),\n",
       " ('$5', 2),\n",
       " ('RoundAAAA', 2),\n",
       " ('JAJAH', 2),\n",
       " (\"World's\", 2),\n",
       " ('Wireless', 2),\n",
       " ('JapanAAAA', 2),\n",
       " ('Their', 2),\n",
       " ('Assistant', 2),\n",
       " ('Chad', 2),\n",
       " ('Other', 2),\n",
       " ('BILLION', 2),\n",
       " ('Confirms', 2),\n",
       " ('Takes', 2),\n",
       " ('GoogleAAAA', 2),\n",
       " ('CoTweet', 2),\n",
       " ('Version', 2),\n",
       " ('KickApps', 2),\n",
       " ('C', 2),\n",
       " ('$14', 2),\n",
       " ('VantagePoint', 2),\n",
       " ('Raising', 2),\n",
       " ('Green', 2),\n",
       " ('You', 2),\n",
       " ('TeamAAAA', 2),\n",
       " ('Developer', 2),\n",
       " ('Says', 2),\n",
       " ('Bought', 2),\n",
       " ('Metadata', 2),\n",
       " ('Corp.', 2),\n",
       " ('undisclosed', 2),\n",
       " ('DesktopAAAA', 2),\n",
       " ('Based', 2),\n",
       " ('launches.AAAA', 2),\n",
       " ('siteAAAA', 2),\n",
       " ('powered', 2),\n",
       " ('FacebookAAAA', 2),\n",
       " ('Flixster', 2),\n",
       " ('Corp', 2),\n",
       " ('CanadaAAAA', 2),\n",
       " ('baseball', 2),\n",
       " ('maintains', 2),\n",
       " ('being', 2),\n",
       " ('America', 2),\n",
       " ('point', 2),\n",
       " ('having', 2),\n",
       " ('currently', 2),\n",
       " ('goes', 2),\n",
       " ('create', 2),\n",
       " ('your', 2),\n",
       " ('Google', 2),\n",
       " ('tech', 2),\n",
       " ('firm', 2),\n",
       " ('InternationalAAAA', 2),\n",
       " ('sells', 2),\n",
       " ('stake', 2),\n",
       " ('Corporate', 2),\n",
       " ('Units', 2),\n",
       " ('Steve', 2),\n",
       " ('MarketingAAAA', 2),\n",
       " ('Test', 2),\n",
       " ('Drive', 2),\n",
       " ('Acceleration', 2),\n",
       " ('Your', 2),\n",
       " ('\"One', 2),\n",
       " ('CloudAAAA', 2),\n",
       " ('Karen', 2),\n",
       " ('OEM', 2),\n",
       " ('CTO', 2),\n",
       " ('full', 2),\n",
       " ('SDKAAAA', 2),\n",
       " ('(formerly', 2),\n",
       " ('store', 2),\n",
       " ('opens', 2),\n",
       " ('betaAAAA', 2),\n",
       " ('Brightkite', 2),\n",
       " ('active', 2),\n",
       " ('Development', 2),\n",
       " ('awardsAAAA', 2),\n",
       " ('videos', 2),\n",
       " ('owners', 2),\n",
       " ('announce', 2),\n",
       " ('document', 2),\n",
       " ('Officer.AAAA', 2),\n",
       " ('8', 2),\n",
       " ('integrated', 2),\n",
       " ('intelligence', 2),\n",
       " ('subscription', 2),\n",
       " ('tools', 2),\n",
       " ('build', 2),\n",
       " ('Share', 2),\n",
       " ('Creative', 2),\n",
       " ('$20', 2),\n",
       " ('chosen', 2),\n",
       " ('API,', 2),\n",
       " ('becomes', 2),\n",
       " ('RatePoint', 2),\n",
       " ('leaves', 2),\n",
       " ('Nabs', 2),\n",
       " ('As', 2),\n",
       " ('Microsoft', 2),\n",
       " ('SearchAAAA', 2),\n",
       " ('Desktop', 2),\n",
       " ('Round', 2),\n",
       " ('+', 2),\n",
       " ('realtime', 2),\n",
       " ('It', 2),\n",
       " ('Has', 2),\n",
       " ('Monetize', 2),\n",
       " ('Theyâ\\x80\\x99re', 2),\n",
       " ('Building', 2),\n",
       " ('Time', 2),\n",
       " ('EngineAAAA', 2),\n",
       " ('APIs', 2),\n",
       " ('RiotWise', 2),\n",
       " ('OneRiotâ\\x80\\x99s', 2),\n",
       " ('Rolls', 2),\n",
       " ('AdvertisersAAAA', 2),\n",
       " ('Find', 2),\n",
       " ('Topics', 2),\n",
       " ('Colorado', 2),\n",
       " ('leading', 2),\n",
       " ('January', 2),\n",
       " ('Cuil', 2),\n",
       " ('shuts', 2),\n",
       " ('â\\x80\\x9c2010', 2),\n",
       " ('Companiesâ\\x80\\x9d', 2),\n",
       " ('Lead411AAAA', 2),\n",
       " ('Giza', 2),\n",
       " ('Polish', 2),\n",
       " ('Invests', 2),\n",
       " ('raising', 2),\n",
       " ('his', 2),\n",
       " ('Enough', 2),\n",
       " ('6', 2),\n",
       " ('Solar', 2),\n",
       " ('Activity', 2),\n",
       " ('Area', 2),\n",
       " ('Crosses', 2),\n",
       " ('1,000', 2),\n",
       " ('Salesforce', 2),\n",
       " ('Genius', 2),\n",
       " ('Sells', 2),\n",
       " ('Successful', 2),\n",
       " ('Startups', 2),\n",
       " ('Publisher', 2),\n",
       " ('Advisory', 2),\n",
       " ('publisher', 2),\n",
       " ('solutionAAAA', 2),\n",
       " ('reports', 2),\n",
       " ('real', 2),\n",
       " ('can', 2),\n",
       " ('quickly', 2),\n",
       " ('inventories', 2),\n",
       " ('number', 2),\n",
       " ('exchange', 2),\n",
       " ('Amiad', 2),\n",
       " ('serve', 2),\n",
       " ('Industry', 2),\n",
       " ('AwardsAAAA', 2),\n",
       " ('Officer', 2),\n",
       " ('Alex', 2),\n",
       " ('White', 2),\n",
       " ('125', 2),\n",
       " ('drive', 2),\n",
       " ('efficiency', 2),\n",
       " ('Selected', 2),\n",
       " ('AlwaysOn', 2),\n",
       " ('tool', 2),\n",
       " ('preferred', 2),\n",
       " ('targeting', 2),\n",
       " ('TRAFFIQ', 2),\n",
       " ('environment.', 2),\n",
       " ('two', 2),\n",
       " ('channels', 2),\n",
       " ('time', 2),\n",
       " ('Bank', 2),\n",
       " ('members', 2),\n",
       " ('5,000', 2),\n",
       " ('paying', 2),\n",
       " ('ServiceAAAA', 2),\n",
       " ('customers', 2),\n",
       " ('reduce', 2),\n",
       " ('shut', 2),\n",
       " ('della', 2),\n",
       " ('final', 2),\n",
       " ('Loopt', 2),\n",
       " ('launchesAAAA', 2),\n",
       " ('By', 2),\n",
       " ('Deal', 2),\n",
       " ('Huffington', 2),\n",
       " ('Visitors', 2),\n",
       " ('28', 2),\n",
       " ('Than', 2),\n",
       " ('files', 2),\n",
       " ('file', 2),\n",
       " ('BetaAAAA', 2),\n",
       " ('2G', 2),\n",
       " ('3G', 2),\n",
       " ('SupportAAAA', 2),\n",
       " ('View', 2),\n",
       " ('Integration', 2),\n",
       " ('Brightcove', 2),\n",
       " ('client', 2),\n",
       " ('launchAAAA', 2),\n",
       " ('3GS', 2),\n",
       " ('HD', 2),\n",
       " ('Website', 2),\n",
       " ('rolls', 2),\n",
       " ('customersAAAA', 2),\n",
       " ('Camera', 2),\n",
       " ('Pro', 2),\n",
       " ('card', 2),\n",
       " ('100,000', 2),\n",
       " ('iPad', 2),\n",
       " ('changed', 2),\n",
       " ('made', 2),\n",
       " ('delivers', 2),\n",
       " ('100th', 2),\n",
       " ('WHERE', 2),\n",
       " ('Geofence', 2),\n",
       " ('Patent', 2),\n",
       " ('Covering', 2),\n",
       " ('CommerceAAAA', 2),\n",
       " ('startup', 2),\n",
       " ('became', 2),\n",
       " ('assets', 2),\n",
       " ('300', 2),\n",
       " ('just', 2),\n",
       " ('bridge', 2),\n",
       " ('financing.AAAA', 2),\n",
       " ('$1M', 2),\n",
       " ('industry.AAAA', 2),\n",
       " ('children.AAAA', 2),\n",
       " ('Carbon', 2),\n",
       " ('Australia', 2),\n",
       " ('Survey', 2),\n",
       " ('focused', 2),\n",
       " ('Research', 2),\n",
       " ('consumer', 2),\n",
       " ('products', 2),\n",
       " ('tea', 2),\n",
       " ('people', 2),\n",
       " ('connects', 2),\n",
       " ('interests,', 2),\n",
       " ('managing', 2),\n",
       " ('relationships', 2),\n",
       " ('Office', 2),\n",
       " ('offer', 2),\n",
       " ('Kirsten', 2),\n",
       " ('Mangers', 2),\n",
       " ('Services', 2),\n",
       " ('All', 2),\n",
       " ('Daily', 2),\n",
       " ('YearAAAA', 2),\n",
       " ('Community', 2),\n",
       " ('Businesses', 2),\n",
       " ('SeriesAAAA', 2),\n",
       " ('Honors', 2),\n",
       " ('Providing', 2),\n",
       " ('Insight', 2),\n",
       " ('Creation', 2),\n",
       " ('Expansion', 2),\n",
       " ('Advertisers', 2),\n",
       " ('Spending', 2),\n",
       " ('Last', 2),\n",
       " ('Landing', 2),\n",
       " ('Finance', 2),\n",
       " ('strategic', 2),\n",
       " ('Scott', 2),\n",
       " ('Willy', 2),\n",
       " ('order', 2),\n",
       " ('growth', 2),\n",
       " ('approximately', 2),\n",
       " ('$31', 2),\n",
       " ('net', 2),\n",
       " ('Ben', 2),\n",
       " ('Zong', 2),\n",
       " ('Partnerships', 2),\n",
       " ('CDN', 2),\n",
       " ('Site', 2),\n",
       " ('Unity', 2),\n",
       " ('Suite', 2),\n",
       " ('PureDigital', 2),\n",
       " ('Merge', 2),\n",
       " ('Applications', 2),\n",
       " ('ProgramAAAA', 2),\n",
       " ('Jeff', 2),\n",
       " ('focus', 2),\n",
       " ('CEOAAAA', 2),\n",
       " ('Efficient', 2),\n",
       " ('Frontier', 2),\n",
       " ('platformAAAA', 2),\n",
       " ('introduced', 2),\n",
       " ('developers', 2),\n",
       " ('analytics', 2),\n",
       " ('solutions', 2),\n",
       " ('companyâ\\x80\\x99s', 2),\n",
       " ('October', 2),\n",
       " ('applications', 2),\n",
       " ('Currency', 2),\n",
       " ('Aster', 2),\n",
       " ('Interactive', 2),\n",
       " ('Five', 2),\n",
       " ('Apps', 2),\n",
       " ('Gaming', 2),\n",
       " ('Ranked', 2),\n",
       " ('Rebrand', 2),\n",
       " ('Largest', 2),\n",
       " ('--', 2),\n",
       " ('Provider', 2),\n",
       " ('Wedge', 2),\n",
       " ('BusterAAAA', 2),\n",
       " ('recently', 2),\n",
       " ('Stream', 2),\n",
       " ('registered', 2),\n",
       " ('NY', 2),\n",
       " ('LOUD3R', 2),\n",
       " ('covers', 2),\n",
       " ('stations', 2),\n",
       " ('use', 2),\n",
       " ('same', 2),\n",
       " ('Dave', 2),\n",
       " ('publishing', 2),\n",
       " ('programmers', 2),\n",
       " ('rights', 2),\n",
       " ('most', 2),\n",
       " ('share', 2),\n",
       " ('IBM', 2),\n",
       " ('Dexterra', 2),\n",
       " ('50AAAA', 2),\n",
       " ('Secures', 2),\n",
       " ('Napera', 2),\n",
       " ('landed', 2),\n",
       " ('gets', 2),\n",
       " ('headquarters', 2),\n",
       " ('crosses', 2),\n",
       " ('Phone', 2),\n",
       " ('Startup', 2),\n",
       " ('local', 2),\n",
       " ('Gowalla', 2),\n",
       " ('Alert', 2),\n",
       " ('System', 2),\n",
       " ('DevelopmentAAAA', 2),\n",
       " ('need', 2),\n",
       " ('Playboy', 2),\n",
       " ('Scout', 2),\n",
       " ('Midwest', 2),\n",
       " ('initial', 2),\n",
       " ('credit', 2),\n",
       " ('banking', 2),\n",
       " ('American', 2),\n",
       " ('Introduces', 2),\n",
       " ('SSD', 2),\n",
       " ('Highest', 2),\n",
       " ('Sustained', 2),\n",
       " ('chief', 2),\n",
       " ('vendor', 2),\n",
       " ('processing', 2),\n",
       " ('Ventures,', 2),\n",
       " ('included', 2),\n",
       " ('Vocalocity', 2),\n",
       " ('Yahoo!', 2),\n",
       " ('Analyst', 2),\n",
       " ('Firm', 2),\n",
       " ('Kaspersky', 2),\n",
       " ('Year', 2),\n",
       " ('Lena', 2),\n",
       " ('Michelin', 2),\n",
       " ('Chat', 2),\n",
       " ('European', 2),\n",
       " ('Commerce', 2),\n",
       " ('Leading', 2),\n",
       " ('QuadrantAAAA', 2),\n",
       " ('WinnerAAAA', 2),\n",
       " ('Partner', 2),\n",
       " ('Record', 2),\n",
       " ('2011AAAA', 2),\n",
       " ('Travel', 2),\n",
       " ('ListAAAA', 2),\n",
       " ('Products', 2),\n",
       " ('president', 2),\n",
       " ('MDM', 2),\n",
       " ('Infochimps', 2),\n",
       " ('expands', 2),\n",
       " ('Venture', 2),\n",
       " ('total', 2),\n",
       " ('B,', 2),\n",
       " ('DirectorsAAAA', 2),\n",
       " ('Monthly', 2),\n",
       " ('customer', 2),\n",
       " ('announcementAAAA', 2),\n",
       " ('MCE', 2),\n",
       " ('completes', 2),\n",
       " ('ClosedAAAA', 2),\n",
       " ('Strategic', 2),\n",
       " ('LLC', 2),\n",
       " ('PartnersAAAA', 2),\n",
       " ('three', 2),\n",
       " ('offering', 2),\n",
       " ('price', 2),\n",
       " ('Into', 2),\n",
       " ('Exclusive', 2),\n",
       " ('2013', 2),\n",
       " ('lays', 2),\n",
       " ('SOA', 2),\n",
       " ('Virtualization', 2),\n",
       " ('SoftwareAAAA', 2),\n",
       " ('Virsto', 2),\n",
       " ('SoftLayer', 2),\n",
       " ('Opens', 2),\n",
       " ('Gross', 2),\n",
       " ('image', 2),\n",
       " ('recognition', 2),\n",
       " ('Milestone', 2),\n",
       " ('agreed', 2),\n",
       " ('bought', 2),\n",
       " ('seed', 2),\n",
       " ('changes', 2),\n",
       " ('Brigham', 2),\n",
       " ('Idaho.', 2),\n",
       " ('NFC', 2),\n",
       " ('sticker', 2),\n",
       " ('VeriFone', 2),\n",
       " ('Point', 2),\n",
       " ('best', 2),\n",
       " ('retail', 2),\n",
       " ('mophie', 2),\n",
       " ('4therapy.com', 2),\n",
       " ('BuyWithMe', 2),\n",
       " ('Gilt', 2),\n",
       " ('Thwapr', 2),\n",
       " ('sharing', 2),\n",
       " ('Instagram', 2),\n",
       " ('who', 2),\n",
       " ('Processing', 2),\n",
       " ('VP,', 2),\n",
       " ('MovieGoer', 2),\n",
       " ('Cloudmeter', 2),\n",
       " ('Field', 2),\n",
       " ('Brilliant', 2),\n",
       " ('Fateh', 2),\n",
       " ('Kamal', 2),\n",
       " ('OperationsAAAA', 2),\n",
       " ('midrange', 2),\n",
       " ('SAN', 2),\n",
       " ('NexGen', 2),\n",
       " ('solid-state', 2),\n",
       " ('CopperEgg', 2),\n",
       " ('$2', 2),\n",
       " ('Alibaba', 2),\n",
       " ('Year\"', 2),\n",
       " ('Raises', 1),\n",
       " ('fundsAAAA', 1),\n",
       " ('Another', 1),\n",
       " ('Exec', 1),\n",
       " ('Out:', 1),\n",
       " ('Longtime', 1),\n",
       " ('CFO', 1),\n",
       " ('Moffett', 1),\n",
       " ('LeavesAAAA', 1),\n",
       " ('Kohlberg', 1),\n",
       " ('Kravis', 1),\n",
       " ('form', 1),\n",
       " ('Accel-KKR,', 1),\n",
       " ('technology-focused', 1),\n",
       " ('firm.AAAA', 1),\n",
       " ('Invest', 1),\n",
       " ('Disruptive', 1),\n",
       " ('AND', 1),\n",
       " ('BetaworksAAAA', 1),\n",
       " ('launches.Announced', 1),\n",
       " ('CEOLong-Time', 1),\n",
       " ('Golub', 1),\n",
       " ('lines', 1),\n",
       " ('promotions', 1),\n",
       " ('(Capili,', 1),\n",
       " ('Erchinger)', 1),\n",
       " ('Javarappa,', 1),\n",
       " ('Smalley.AAAA', 1),\n",
       " ('returns', 1),\n",
       " ('roots', 1),\n",
       " ('Assistant.KupiBonus.ru', 1),\n",
       " ('ABRT,', 1),\n",
       " ('Mangrove,', 1),\n",
       " ('Others', 1),\n",
       " ('HomeMe.ru', 1),\n",
       " ('Portfolio,', 1),\n",
       " ('Leads', 1),\n",
       " ('Mln', 1),\n",
       " ('lists', 1),\n",
       " ('WIX', 1),\n",
       " ('NASDAQVeoh', 1),\n",
       " ('declares', 1),\n",
       " ('bankruptcyJingle', 1),\n",
       " ('Marchex', 1),\n",
       " ('said', 1),\n",
       " ('directory', 1),\n",
       " ('assistance', 1),\n",
       " ('provider', 1),\n",
       " ...]"
      ]
     },
     "execution_count": 59,
     "metadata": {},
     "output_type": "execute_result"
    }
   ],
   "source": [
    "# We can see the number of times each word has been repeated\n",
    "\n",
    "from collections import Counter\n",
    "\n",
    "world_count = list(miles['description'])\n",
    "big_text = ''.join(world_count)\n",
    "big_text\n",
    "world_list = big_text.split()\n",
    "world_counts = Counter(world_list)\n",
    "world_counts\n",
    "most_common_word = world_counts.most_common()\n",
    "#most_common_word[30:]\n",
    "most_common_word[20:]"
   ]
  },
  {
   "cell_type": "code",
   "execution_count": 60,
   "metadata": {},
   "outputs": [
    {
     "data": {
      "text/html": [
       "<div>\n",
       "<style scoped>\n",
       "    .dataframe tbody tr th:only-of-type {\n",
       "        vertical-align: middle;\n",
       "    }\n",
       "\n",
       "    .dataframe tbody tr th {\n",
       "        vertical-align: top;\n",
       "    }\n",
       "\n",
       "    .dataframe thead th {\n",
       "        text-align: right;\n",
       "    }\n",
       "</style>\n",
       "<table border=\"1\" class=\"dataframe\">\n",
       "  <thead>\n",
       "    <tr style=\"text-align: right;\">\n",
       "      <th></th>\n",
       "      <th>id</th>\n",
       "      <th>description</th>\n",
       "    </tr>\n",
       "  </thead>\n",
       "  <tbody>\n",
       "    <tr>\n",
       "      <th>0</th>\n",
       "      <td>4</td>\n",
       "      <td>Accel Partners Raises 2 new fundsAAAA Another ...</td>\n",
       "    </tr>\n",
       "    <tr>\n",
       "      <th>1</th>\n",
       "      <td>9</td>\n",
       "      <td>Announced hire of new CEO</td>\n",
       "    </tr>\n",
       "    <tr>\n",
       "      <th>2</th>\n",
       "      <td>27</td>\n",
       "      <td>Long-Time Plaxo CEO Golub Leaves AAAA Plaxo li...</td>\n",
       "    </tr>\n",
       "    <tr>\n",
       "      <th>3</th>\n",
       "      <td>30</td>\n",
       "      <td>KupiBonus.ru Receives Funding From ABRT, Mangr...</td>\n",
       "    </tr>\n",
       "    <tr>\n",
       "      <th>4</th>\n",
       "      <td>40</td>\n",
       "      <td>Veoh declares bankruptcy</td>\n",
       "    </tr>\n",
       "    <tr>\n",
       "      <th>...</th>\n",
       "      <td>...</td>\n",
       "      <td>...</td>\n",
       "    </tr>\n",
       "    <tr>\n",
       "      <th>303</th>\n",
       "      <td>86120</td>\n",
       "      <td>Netgamix Inc added Patrick de Zeeuw to the adv...</td>\n",
       "    </tr>\n",
       "    <tr>\n",
       "      <th>304</th>\n",
       "      <td>102867</td>\n",
       "      <td>WeHostels awarded \"Most Innovative Startup of ...</td>\n",
       "    </tr>\n",
       "    <tr>\n",
       "      <th>305</th>\n",
       "      <td>144687</td>\n",
       "      <td>Mobile App for iPhone available on iTunesAAAA ...</td>\n",
       "    </tr>\n",
       "    <tr>\n",
       "      <th>306</th>\n",
       "      <td>149809</td>\n",
       "      <td>Trendslide has joined Incutio, the latest 'Gro...</td>\n",
       "    </tr>\n",
       "    <tr>\n",
       "      <th>307</th>\n",
       "      <td>162116</td>\n",
       "      <td>Stephan Cunningham Joins Gradient X as Vice Pr...</td>\n",
       "    </tr>\n",
       "  </tbody>\n",
       "</table>\n",
       "<p>308 rows × 2 columns</p>\n",
       "</div>"
      ],
      "text/plain": [
       "         id                                        description\n",
       "0         4  Accel Partners Raises 2 new fundsAAAA Another ...\n",
       "1         9                          Announced hire of new CEO\n",
       "2        27  Long-Time Plaxo CEO Golub Leaves AAAA Plaxo li...\n",
       "3        30  KupiBonus.ru Receives Funding From ABRT, Mangr...\n",
       "4        40                           Veoh declares bankruptcy\n",
       "..      ...                                                ...\n",
       "303   86120  Netgamix Inc added Patrick de Zeeuw to the adv...\n",
       "304  102867  WeHostels awarded \"Most Innovative Startup of ...\n",
       "305  144687  Mobile App for iPhone available on iTunesAAAA ...\n",
       "306  149809  Trendslide has joined Incutio, the latest 'Gro...\n",
       "307  162116  Stephan Cunningham Joins Gradient X as Vice Pr...\n",
       "\n",
       "[308 rows x 2 columns]"
      ]
     },
     "execution_count": 60,
     "metadata": {},
     "output_type": "execute_result"
    }
   ],
   "source": [
    "miles"
   ]
  },
  {
   "cell_type": "code",
   "execution_count": 61,
   "metadata": {},
   "outputs": [
    {
     "data": {
      "text/plain": [
       "0    248\n",
       "1     60\n",
       "Name: million, dtype: int64"
      ]
     },
     "execution_count": 61,
     "metadata": {},
     "output_type": "execute_result"
    }
   ],
   "source": [
    "#Here we make some binary columns to see how correlated is with rest of features\n",
    "import re\n",
    "\n",
    "miles['million'] = np.where(miles['description'].str.contains(r'[M-m]illion', case=False),1,0)\n",
    "miles['invested'] = np.where(miles['description'].str.contains('invested'),1,0)\n",
    "miles['Technology'] = np.where(miles['description'].str.contains('Technology'),1,0)\n",
    "miles['Mobile'] = np.where(miles['description'].str.contains('Mobile'),1,0)\n",
    "miles['Gold'] = np.where(miles['description'].str.contains('Gold'),1,0)\n",
    "miles['Hootest'] = np.where(miles['description'].str.contains('Hootest'),1,0)\n",
    "miles['Iphone'] = np.where(miles['description'].str.contains('Iphone'),1,0)\n",
    "miles['object_id'] = 'c:'+ miles['id']\n",
    "\n",
    "miles['million'].value_counts()"
   ]
  },
  {
   "cell_type": "code",
   "execution_count": 62,
   "metadata": {},
   "outputs": [],
   "source": [
    "# Merge two dataframes with most important words about milestones\n",
    "startups = startups.merge(miles, on='object_id', how='left')\n",
    "startups.loc[:, 'million':] = startups.loc[:, 'million':].fillna(0)"
   ]
  },
  {
   "cell_type": "code",
   "execution_count": 63,
   "metadata": {},
   "outputs": [
    {
     "name": "stdout",
     "output_type": "stream",
     "text": [
      "<class 'pandas.core.frame.DataFrame'>\n",
      "Int64Index: 923 entries, 0 to 922\n",
      "Data columns (total 58 columns):\n",
      " #   Column                    Non-Null Count  Dtype  \n",
      "---  ------                    --------------  -----  \n",
      " 0   Unnamed: 0                923 non-null    int64  \n",
      " 1   state_code                923 non-null    object \n",
      " 2   latitude                  923 non-null    float64\n",
      " 3   longitude                 923 non-null    float64\n",
      " 4   zip_code                  923 non-null    object \n",
      " 5   id_x                      923 non-null    object \n",
      " 6   city                      923 non-null    object \n",
      " 7   Unnamed: 6                430 non-null    object \n",
      " 8   name                      923 non-null    object \n",
      " 9   labels                    923 non-null    int64  \n",
      " 10  founded_at                923 non-null    object \n",
      " 11  closed_at                 335 non-null    object \n",
      " 12  first_funding_at          923 non-null    object \n",
      " 13  last_funding_at           923 non-null    object \n",
      " 14  age_first_funding_year    923 non-null    float64\n",
      " 15  age_last_funding_year     923 non-null    float64\n",
      " 16  age_first_milestone_year  771 non-null    float64\n",
      " 17  age_last_milestone_year   771 non-null    float64\n",
      " 18  relationships             923 non-null    int64  \n",
      " 19  funding_rounds            923 non-null    int64  \n",
      " 20  funding_total_usd         923 non-null    int64  \n",
      " 21  milestones                923 non-null    int64  \n",
      " 22  state_code.1              922 non-null    object \n",
      " 23  is_CA                     923 non-null    int64  \n",
      " 24  is_NY                     923 non-null    int64  \n",
      " 25  is_MA                     923 non-null    int64  \n",
      " 26  is_TX                     923 non-null    int64  \n",
      " 27  is_otherstate             923 non-null    int64  \n",
      " 28  category_code             923 non-null    object \n",
      " 29  is_software               923 non-null    int64  \n",
      " 30  is_web                    923 non-null    int64  \n",
      " 31  is_mobile                 923 non-null    int64  \n",
      " 32  is_enterprise             923 non-null    int64  \n",
      " 33  is_advertising            923 non-null    int64  \n",
      " 34  is_gamesvideo             923 non-null    int64  \n",
      " 35  is_ecommerce              923 non-null    int64  \n",
      " 36  is_biotech                923 non-null    int64  \n",
      " 37  is_consulting             923 non-null    int64  \n",
      " 38  is_othercategory          923 non-null    int64  \n",
      " 39  object_id                 923 non-null    object \n",
      " 40  has_VC                    923 non-null    int64  \n",
      " 41  has_angel                 923 non-null    int64  \n",
      " 42  has_roundA                923 non-null    int64  \n",
      " 43  has_roundB                923 non-null    int64  \n",
      " 44  has_roundC                923 non-null    int64  \n",
      " 45  has_roundD                923 non-null    int64  \n",
      " 46  avg_participants          923 non-null    float64\n",
      " 47  is_top500                 923 non-null    int64  \n",
      " 48  status                    923 non-null    object \n",
      " 49  id_y                      308 non-null    object \n",
      " 50  description               308 non-null    object \n",
      " 51  million                   923 non-null    float64\n",
      " 52  invested                  923 non-null    float64\n",
      " 53  Technology                923 non-null    float64\n",
      " 54  Mobile                    923 non-null    float64\n",
      " 55  Gold                      923 non-null    float64\n",
      " 56  Hootest                   923 non-null    float64\n",
      " 57  Iphone                    923 non-null    float64\n",
      "dtypes: float64(14), int64(28), object(16)\n",
      "memory usage: 425.4+ KB\n"
     ]
    }
   ],
   "source": [
    "startups.info()"
   ]
  },
  {
   "cell_type": "code",
   "execution_count": 64,
   "metadata": {},
   "outputs": [
    {
     "data": {
      "text/html": [
       "<div>\n",
       "<style scoped>\n",
       "    .dataframe tbody tr th:only-of-type {\n",
       "        vertical-align: middle;\n",
       "    }\n",
       "\n",
       "    .dataframe tbody tr th {\n",
       "        vertical-align: top;\n",
       "    }\n",
       "\n",
       "    .dataframe thead th {\n",
       "        text-align: right;\n",
       "    }\n",
       "</style>\n",
       "<table border=\"1\" class=\"dataframe\">\n",
       "  <thead>\n",
       "    <tr style=\"text-align: right;\">\n",
       "      <th></th>\n",
       "      <th>Unnamed: 0</th>\n",
       "      <th>state_code</th>\n",
       "      <th>latitude</th>\n",
       "      <th>longitude</th>\n",
       "      <th>zip_code</th>\n",
       "      <th>id_x</th>\n",
       "      <th>city</th>\n",
       "      <th>Unnamed: 6</th>\n",
       "      <th>name</th>\n",
       "      <th>labels</th>\n",
       "      <th>...</th>\n",
       "      <th>status</th>\n",
       "      <th>id_y</th>\n",
       "      <th>description</th>\n",
       "      <th>million</th>\n",
       "      <th>invested</th>\n",
       "      <th>Technology</th>\n",
       "      <th>Mobile</th>\n",
       "      <th>Gold</th>\n",
       "      <th>Hootest</th>\n",
       "      <th>Iphone</th>\n",
       "    </tr>\n",
       "  </thead>\n",
       "  <tbody>\n",
       "    <tr>\n",
       "      <th>0</th>\n",
       "      <td>1005</td>\n",
       "      <td>CA</td>\n",
       "      <td>42.358880</td>\n",
       "      <td>-71.056820</td>\n",
       "      <td>92101</td>\n",
       "      <td>c:6669</td>\n",
       "      <td>San Diego</td>\n",
       "      <td>NaN</td>\n",
       "      <td>Bandsintown</td>\n",
       "      <td>1</td>\n",
       "      <td>...</td>\n",
       "      <td>acquired</td>\n",
       "      <td>6669</td>\n",
       "      <td>Bandsintown hits 5 million registered usersAAA...</td>\n",
       "      <td>1.0</td>\n",
       "      <td>0.0</td>\n",
       "      <td>0.0</td>\n",
       "      <td>0.0</td>\n",
       "      <td>0.0</td>\n",
       "      <td>0.0</td>\n",
       "      <td>0.0</td>\n",
       "    </tr>\n",
       "    <tr>\n",
       "      <th>1</th>\n",
       "      <td>204</td>\n",
       "      <td>CA</td>\n",
       "      <td>37.238916</td>\n",
       "      <td>-121.973718</td>\n",
       "      <td>95032</td>\n",
       "      <td>c:16283</td>\n",
       "      <td>Los Gatos</td>\n",
       "      <td>NaN</td>\n",
       "      <td>TriCipher</td>\n",
       "      <td>1</td>\n",
       "      <td>...</td>\n",
       "      <td>acquired</td>\n",
       "      <td>NaN</td>\n",
       "      <td>NaN</td>\n",
       "      <td>0.0</td>\n",
       "      <td>0.0</td>\n",
       "      <td>0.0</td>\n",
       "      <td>0.0</td>\n",
       "      <td>0.0</td>\n",
       "      <td>0.0</td>\n",
       "      <td>0.0</td>\n",
       "    </tr>\n",
       "    <tr>\n",
       "      <th>2</th>\n",
       "      <td>1001</td>\n",
       "      <td>CA</td>\n",
       "      <td>32.901049</td>\n",
       "      <td>-117.192656</td>\n",
       "      <td>92121</td>\n",
       "      <td>c:65620</td>\n",
       "      <td>San Diego</td>\n",
       "      <td>San Diego CA 92121</td>\n",
       "      <td>Plixi</td>\n",
       "      <td>1</td>\n",
       "      <td>...</td>\n",
       "      <td>acquired</td>\n",
       "      <td>NaN</td>\n",
       "      <td>NaN</td>\n",
       "      <td>0.0</td>\n",
       "      <td>0.0</td>\n",
       "      <td>0.0</td>\n",
       "      <td>0.0</td>\n",
       "      <td>0.0</td>\n",
       "      <td>0.0</td>\n",
       "      <td>0.0</td>\n",
       "    </tr>\n",
       "    <tr>\n",
       "      <th>3</th>\n",
       "      <td>738</td>\n",
       "      <td>CA</td>\n",
       "      <td>37.320309</td>\n",
       "      <td>-122.050040</td>\n",
       "      <td>95014</td>\n",
       "      <td>c:42668</td>\n",
       "      <td>Cupertino</td>\n",
       "      <td>Cupertino CA 95014</td>\n",
       "      <td>Solidcore Systems</td>\n",
       "      <td>1</td>\n",
       "      <td>...</td>\n",
       "      <td>acquired</td>\n",
       "      <td>NaN</td>\n",
       "      <td>NaN</td>\n",
       "      <td>0.0</td>\n",
       "      <td>0.0</td>\n",
       "      <td>0.0</td>\n",
       "      <td>0.0</td>\n",
       "      <td>0.0</td>\n",
       "      <td>0.0</td>\n",
       "      <td>0.0</td>\n",
       "    </tr>\n",
       "    <tr>\n",
       "      <th>4</th>\n",
       "      <td>1002</td>\n",
       "      <td>CA</td>\n",
       "      <td>37.779281</td>\n",
       "      <td>-122.419236</td>\n",
       "      <td>94105</td>\n",
       "      <td>c:65806</td>\n",
       "      <td>San Francisco</td>\n",
       "      <td>San Francisco CA 94105</td>\n",
       "      <td>Inhale Digital</td>\n",
       "      <td>0</td>\n",
       "      <td>...</td>\n",
       "      <td>closed</td>\n",
       "      <td>NaN</td>\n",
       "      <td>NaN</td>\n",
       "      <td>0.0</td>\n",
       "      <td>0.0</td>\n",
       "      <td>0.0</td>\n",
       "      <td>0.0</td>\n",
       "      <td>0.0</td>\n",
       "      <td>0.0</td>\n",
       "      <td>0.0</td>\n",
       "    </tr>\n",
       "    <tr>\n",
       "      <th>...</th>\n",
       "      <td>...</td>\n",
       "      <td>...</td>\n",
       "      <td>...</td>\n",
       "      <td>...</td>\n",
       "      <td>...</td>\n",
       "      <td>...</td>\n",
       "      <td>...</td>\n",
       "      <td>...</td>\n",
       "      <td>...</td>\n",
       "      <td>...</td>\n",
       "      <td>...</td>\n",
       "      <td>...</td>\n",
       "      <td>...</td>\n",
       "      <td>...</td>\n",
       "      <td>...</td>\n",
       "      <td>...</td>\n",
       "      <td>...</td>\n",
       "      <td>...</td>\n",
       "      <td>...</td>\n",
       "      <td>...</td>\n",
       "      <td>...</td>\n",
       "    </tr>\n",
       "    <tr>\n",
       "      <th>918</th>\n",
       "      <td>352</td>\n",
       "      <td>CA</td>\n",
       "      <td>37.740594</td>\n",
       "      <td>-122.376471</td>\n",
       "      <td>94107</td>\n",
       "      <td>c:21343</td>\n",
       "      <td>San Francisco</td>\n",
       "      <td>NaN</td>\n",
       "      <td>CoTweet</td>\n",
       "      <td>1</td>\n",
       "      <td>...</td>\n",
       "      <td>acquired</td>\n",
       "      <td>NaN</td>\n",
       "      <td>NaN</td>\n",
       "      <td>0.0</td>\n",
       "      <td>0.0</td>\n",
       "      <td>0.0</td>\n",
       "      <td>0.0</td>\n",
       "      <td>0.0</td>\n",
       "      <td>0.0</td>\n",
       "      <td>0.0</td>\n",
       "    </tr>\n",
       "    <tr>\n",
       "      <th>919</th>\n",
       "      <td>721</td>\n",
       "      <td>MA</td>\n",
       "      <td>42.504817</td>\n",
       "      <td>-71.195611</td>\n",
       "      <td>1803</td>\n",
       "      <td>c:41747</td>\n",
       "      <td>Burlington</td>\n",
       "      <td>Burlington MA 1803</td>\n",
       "      <td>Reef Point Systems</td>\n",
       "      <td>0</td>\n",
       "      <td>...</td>\n",
       "      <td>closed</td>\n",
       "      <td>NaN</td>\n",
       "      <td>NaN</td>\n",
       "      <td>0.0</td>\n",
       "      <td>0.0</td>\n",
       "      <td>0.0</td>\n",
       "      <td>0.0</td>\n",
       "      <td>0.0</td>\n",
       "      <td>0.0</td>\n",
       "      <td>0.0</td>\n",
       "    </tr>\n",
       "    <tr>\n",
       "      <th>920</th>\n",
       "      <td>557</td>\n",
       "      <td>CA</td>\n",
       "      <td>37.408261</td>\n",
       "      <td>-122.015920</td>\n",
       "      <td>94089</td>\n",
       "      <td>c:31549</td>\n",
       "      <td>Sunnyvale</td>\n",
       "      <td>NaN</td>\n",
       "      <td>Paracor Medical</td>\n",
       "      <td>0</td>\n",
       "      <td>...</td>\n",
       "      <td>closed</td>\n",
       "      <td>NaN</td>\n",
       "      <td>NaN</td>\n",
       "      <td>0.0</td>\n",
       "      <td>0.0</td>\n",
       "      <td>0.0</td>\n",
       "      <td>0.0</td>\n",
       "      <td>0.0</td>\n",
       "      <td>0.0</td>\n",
       "      <td>0.0</td>\n",
       "    </tr>\n",
       "    <tr>\n",
       "      <th>921</th>\n",
       "      <td>589</td>\n",
       "      <td>CA</td>\n",
       "      <td>37.556732</td>\n",
       "      <td>-122.288378</td>\n",
       "      <td>94404</td>\n",
       "      <td>c:33198</td>\n",
       "      <td>San Francisco</td>\n",
       "      <td>NaN</td>\n",
       "      <td>Causata</td>\n",
       "      <td>1</td>\n",
       "      <td>...</td>\n",
       "      <td>acquired</td>\n",
       "      <td>NaN</td>\n",
       "      <td>NaN</td>\n",
       "      <td>0.0</td>\n",
       "      <td>0.0</td>\n",
       "      <td>0.0</td>\n",
       "      <td>0.0</td>\n",
       "      <td>0.0</td>\n",
       "      <td>0.0</td>\n",
       "      <td>0.0</td>\n",
       "    </tr>\n",
       "    <tr>\n",
       "      <th>922</th>\n",
       "      <td>462</td>\n",
       "      <td>CA</td>\n",
       "      <td>37.386778</td>\n",
       "      <td>-121.966277</td>\n",
       "      <td>95054</td>\n",
       "      <td>c:26702</td>\n",
       "      <td>Santa Clara</td>\n",
       "      <td>Santa Clara CA 95054</td>\n",
       "      <td>Asempra Technologies</td>\n",
       "      <td>1</td>\n",
       "      <td>...</td>\n",
       "      <td>acquired</td>\n",
       "      <td>NaN</td>\n",
       "      <td>NaN</td>\n",
       "      <td>0.0</td>\n",
       "      <td>0.0</td>\n",
       "      <td>0.0</td>\n",
       "      <td>0.0</td>\n",
       "      <td>0.0</td>\n",
       "      <td>0.0</td>\n",
       "      <td>0.0</td>\n",
       "    </tr>\n",
       "  </tbody>\n",
       "</table>\n",
       "<p>923 rows × 58 columns</p>\n",
       "</div>"
      ],
      "text/plain": [
       "     Unnamed: 0 state_code   latitude   longitude zip_code     id_x  \\\n",
       "0          1005         CA  42.358880  -71.056820    92101   c:6669   \n",
       "1           204         CA  37.238916 -121.973718    95032  c:16283   \n",
       "2          1001         CA  32.901049 -117.192656    92121  c:65620   \n",
       "3           738         CA  37.320309 -122.050040    95014  c:42668   \n",
       "4          1002         CA  37.779281 -122.419236    94105  c:65806   \n",
       "..          ...        ...        ...         ...      ...      ...   \n",
       "918         352         CA  37.740594 -122.376471    94107  c:21343   \n",
       "919         721         MA  42.504817  -71.195611     1803  c:41747   \n",
       "920         557         CA  37.408261 -122.015920    94089  c:31549   \n",
       "921         589         CA  37.556732 -122.288378    94404  c:33198   \n",
       "922         462         CA  37.386778 -121.966277    95054  c:26702   \n",
       "\n",
       "              city              Unnamed: 6                  name  labels  ...  \\\n",
       "0        San Diego                     NaN           Bandsintown       1  ...   \n",
       "1        Los Gatos                     NaN             TriCipher       1  ...   \n",
       "2        San Diego      San Diego CA 92121                 Plixi       1  ...   \n",
       "3        Cupertino      Cupertino CA 95014     Solidcore Systems       1  ...   \n",
       "4    San Francisco  San Francisco CA 94105        Inhale Digital       0  ...   \n",
       "..             ...                     ...                   ...     ...  ...   \n",
       "918  San Francisco                     NaN               CoTweet       1  ...   \n",
       "919     Burlington      Burlington MA 1803    Reef Point Systems       0  ...   \n",
       "920      Sunnyvale                     NaN       Paracor Medical       0  ...   \n",
       "921  San Francisco                     NaN               Causata       1  ...   \n",
       "922    Santa Clara    Santa Clara CA 95054  Asempra Technologies       1  ...   \n",
       "\n",
       "       status  id_y                                        description  \\\n",
       "0    acquired  6669  Bandsintown hits 5 million registered usersAAA...   \n",
       "1    acquired   NaN                                                NaN   \n",
       "2    acquired   NaN                                                NaN   \n",
       "3    acquired   NaN                                                NaN   \n",
       "4      closed   NaN                                                NaN   \n",
       "..        ...   ...                                                ...   \n",
       "918  acquired   NaN                                                NaN   \n",
       "919    closed   NaN                                                NaN   \n",
       "920    closed   NaN                                                NaN   \n",
       "921  acquired   NaN                                                NaN   \n",
       "922  acquired   NaN                                                NaN   \n",
       "\n",
       "    million  invested  Technology  Mobile  Gold  Hootest  Iphone  \n",
       "0       1.0       0.0         0.0     0.0   0.0      0.0     0.0  \n",
       "1       0.0       0.0         0.0     0.0   0.0      0.0     0.0  \n",
       "2       0.0       0.0         0.0     0.0   0.0      0.0     0.0  \n",
       "3       0.0       0.0         0.0     0.0   0.0      0.0     0.0  \n",
       "4       0.0       0.0         0.0     0.0   0.0      0.0     0.0  \n",
       "..      ...       ...         ...     ...   ...      ...     ...  \n",
       "918     0.0       0.0         0.0     0.0   0.0      0.0     0.0  \n",
       "919     0.0       0.0         0.0     0.0   0.0      0.0     0.0  \n",
       "920     0.0       0.0         0.0     0.0   0.0      0.0     0.0  \n",
       "921     0.0       0.0         0.0     0.0   0.0      0.0     0.0  \n",
       "922     0.0       0.0         0.0     0.0   0.0      0.0     0.0  \n",
       "\n",
       "[923 rows x 58 columns]"
      ]
     },
     "execution_count": 64,
     "metadata": {},
     "output_type": "execute_result"
    }
   ],
   "source": [
    "startups"
   ]
  },
  {
   "cell_type": "code",
   "execution_count": 65,
   "metadata": {},
   "outputs": [],
   "source": [
    "# Change name columns and drop some columns we don,t need\n",
    "startups.rename(columns={'Unnamed: 0':'iD','is_top500':'Top500'}, inplace=True)\n",
    "startups.drop(columns=['Unnamed: 6','id_x','id_y','labels','state_code.1'], inplace=True)"
   ]
  },
  {
   "cell_type": "code",
   "execution_count": 66,
   "metadata": {},
   "outputs": [],
   "source": [
    "# Changing status to binary which are gonna be our variable\n",
    "\n",
    "startups.loc[startups['status'] == 'closed', 'status'] = 0\n",
    "startups.loc[startups['status'] == 'acquired', 'status'] = 1\n",
    "startups['status'] = pd.to_numeric(startups['status'])\n"
   ]
  },
  {
   "attachments": {},
   "cell_type": "markdown",
   "metadata": {},
   "source": [
    "We are checking null values, which has milestone's columns and closet at.\n",
    "Milestone columns means when they had importants milestones, and when the value is Nan means, thet did,t have yet nomilestone, so we decide to fill with '0'.\n",
    "Closed at , we decide to fill with the last day of 2013, which is the current year there is closed bussines, which is 2013.\n"
   ]
  },
  {
   "cell_type": "code",
   "execution_count": 67,
   "metadata": {},
   "outputs": [],
   "source": [
    "# change all NaN values, so we use the las day of 2013 for comparision since is the last day of dataset\n",
    "startups['closed_at'] = startups['closed_at'].fillna('2013-12-31')"
   ]
  },
  {
   "cell_type": "code",
   "execution_count": 68,
   "metadata": {},
   "outputs": [],
   "source": [
    "# Change to date time for using them in a futures predicts\n",
    "startups['founded_at'] = pd.to_datetime(startups['founded_at'])\n",
    "startups['first_funding_at'] = pd.to_datetime(startups['first_funding_at'])\n",
    "startups['last_funding_at'] = pd.to_datetime(startups['last_funding_at'])\n",
    "startups['closed_at'] = pd.to_datetime(startups['closed_at'])"
   ]
  },
  {
   "cell_type": "code",
   "execution_count": 69,
   "metadata": {},
   "outputs": [
    {
     "data": {
      "text/plain": [
       "Timestamp('2013-04-16 00:00:00')"
      ]
     },
     "metadata": {},
     "output_type": "display_data"
    },
    {
     "data": {
      "text/plain": [
       "Timestamp('2013-11-20 00:00:00')"
      ]
     },
     "metadata": {},
     "output_type": "display_data"
    },
    {
     "data": {
      "text/plain": [
       "Timestamp('2013-11-20 00:00:00')"
      ]
     },
     "metadata": {},
     "output_type": "display_data"
    },
    {
     "data": {
      "text/plain": [
       "Timestamp('2013-12-31 00:00:00')"
      ]
     },
     "metadata": {},
     "output_type": "display_data"
    }
   ],
   "source": [
    "# as we can see all values are current in 2013\n",
    "x = startups['founded_at'].max()\n",
    "y = startups['first_funding_at'].max()\n",
    "z = startups['last_funding_at'].max()\n",
    "j = startups['closed_at'].max() \n",
    "\n",
    "display(x, y, z, j)"
   ]
  },
  {
   "cell_type": "code",
   "execution_count": 70,
   "metadata": {},
   "outputs": [
    {
     "data": {
      "text/html": [
       "<div>\n",
       "<style scoped>\n",
       "    .dataframe tbody tr th:only-of-type {\n",
       "        vertical-align: middle;\n",
       "    }\n",
       "\n",
       "    .dataframe tbody tr th {\n",
       "        vertical-align: top;\n",
       "    }\n",
       "\n",
       "    .dataframe thead th {\n",
       "        text-align: right;\n",
       "    }\n",
       "</style>\n",
       "<table border=\"1\" class=\"dataframe\">\n",
       "  <thead>\n",
       "    <tr style=\"text-align: right;\">\n",
       "      <th></th>\n",
       "      <th>iD</th>\n",
       "      <th>state_code</th>\n",
       "      <th>latitude</th>\n",
       "      <th>longitude</th>\n",
       "      <th>zip_code</th>\n",
       "      <th>city</th>\n",
       "      <th>name</th>\n",
       "      <th>founded_at</th>\n",
       "      <th>closed_at</th>\n",
       "      <th>first_funding_at</th>\n",
       "      <th>...</th>\n",
       "      <th>status</th>\n",
       "      <th>description</th>\n",
       "      <th>million</th>\n",
       "      <th>invested</th>\n",
       "      <th>Technology</th>\n",
       "      <th>Mobile</th>\n",
       "      <th>Gold</th>\n",
       "      <th>Hootest</th>\n",
       "      <th>Iphone</th>\n",
       "      <th>age</th>\n",
       "    </tr>\n",
       "  </thead>\n",
       "  <tbody>\n",
       "    <tr>\n",
       "      <th>0</th>\n",
       "      <td>1005</td>\n",
       "      <td>CA</td>\n",
       "      <td>42.358880</td>\n",
       "      <td>-71.056820</td>\n",
       "      <td>92101</td>\n",
       "      <td>San Diego</td>\n",
       "      <td>Bandsintown</td>\n",
       "      <td>2007-01-01</td>\n",
       "      <td>2013-12-31</td>\n",
       "      <td>2009-04-01</td>\n",
       "      <td>...</td>\n",
       "      <td>1</td>\n",
       "      <td>Bandsintown hits 5 million registered usersAAA...</td>\n",
       "      <td>1.0</td>\n",
       "      <td>0.0</td>\n",
       "      <td>0.0</td>\n",
       "      <td>0.0</td>\n",
       "      <td>0.0</td>\n",
       "      <td>0.0</td>\n",
       "      <td>0.0</td>\n",
       "      <td>7.00</td>\n",
       "    </tr>\n",
       "    <tr>\n",
       "      <th>1</th>\n",
       "      <td>204</td>\n",
       "      <td>CA</td>\n",
       "      <td>37.238916</td>\n",
       "      <td>-121.973718</td>\n",
       "      <td>95032</td>\n",
       "      <td>Los Gatos</td>\n",
       "      <td>TriCipher</td>\n",
       "      <td>2000-01-01</td>\n",
       "      <td>2013-12-31</td>\n",
       "      <td>2005-02-14</td>\n",
       "      <td>...</td>\n",
       "      <td>1</td>\n",
       "      <td>NaN</td>\n",
       "      <td>0.0</td>\n",
       "      <td>0.0</td>\n",
       "      <td>0.0</td>\n",
       "      <td>0.0</td>\n",
       "      <td>0.0</td>\n",
       "      <td>0.0</td>\n",
       "      <td>0.0</td>\n",
       "      <td>14.00</td>\n",
       "    </tr>\n",
       "    <tr>\n",
       "      <th>2</th>\n",
       "      <td>1001</td>\n",
       "      <td>CA</td>\n",
       "      <td>32.901049</td>\n",
       "      <td>-117.192656</td>\n",
       "      <td>92121</td>\n",
       "      <td>San Diego</td>\n",
       "      <td>Plixi</td>\n",
       "      <td>2009-03-18</td>\n",
       "      <td>2013-12-31</td>\n",
       "      <td>2010-03-30</td>\n",
       "      <td>...</td>\n",
       "      <td>1</td>\n",
       "      <td>NaN</td>\n",
       "      <td>0.0</td>\n",
       "      <td>0.0</td>\n",
       "      <td>0.0</td>\n",
       "      <td>0.0</td>\n",
       "      <td>0.0</td>\n",
       "      <td>0.0</td>\n",
       "      <td>0.0</td>\n",
       "      <td>4.79</td>\n",
       "    </tr>\n",
       "    <tr>\n",
       "      <th>3</th>\n",
       "      <td>738</td>\n",
       "      <td>CA</td>\n",
       "      <td>37.320309</td>\n",
       "      <td>-122.050040</td>\n",
       "      <td>95014</td>\n",
       "      <td>Cupertino</td>\n",
       "      <td>Solidcore Systems</td>\n",
       "      <td>2002-01-01</td>\n",
       "      <td>2013-12-31</td>\n",
       "      <td>2005-02-17</td>\n",
       "      <td>...</td>\n",
       "      <td>1</td>\n",
       "      <td>NaN</td>\n",
       "      <td>0.0</td>\n",
       "      <td>0.0</td>\n",
       "      <td>0.0</td>\n",
       "      <td>0.0</td>\n",
       "      <td>0.0</td>\n",
       "      <td>0.0</td>\n",
       "      <td>0.0</td>\n",
       "      <td>12.00</td>\n",
       "    </tr>\n",
       "    <tr>\n",
       "      <th>4</th>\n",
       "      <td>1002</td>\n",
       "      <td>CA</td>\n",
       "      <td>37.779281</td>\n",
       "      <td>-122.419236</td>\n",
       "      <td>94105</td>\n",
       "      <td>San Francisco</td>\n",
       "      <td>Inhale Digital</td>\n",
       "      <td>2010-08-01</td>\n",
       "      <td>2012-10-01</td>\n",
       "      <td>2010-08-01</td>\n",
       "      <td>...</td>\n",
       "      <td>0</td>\n",
       "      <td>NaN</td>\n",
       "      <td>0.0</td>\n",
       "      <td>0.0</td>\n",
       "      <td>0.0</td>\n",
       "      <td>0.0</td>\n",
       "      <td>0.0</td>\n",
       "      <td>0.0</td>\n",
       "      <td>0.0</td>\n",
       "      <td>2.17</td>\n",
       "    </tr>\n",
       "    <tr>\n",
       "      <th>...</th>\n",
       "      <td>...</td>\n",
       "      <td>...</td>\n",
       "      <td>...</td>\n",
       "      <td>...</td>\n",
       "      <td>...</td>\n",
       "      <td>...</td>\n",
       "      <td>...</td>\n",
       "      <td>...</td>\n",
       "      <td>...</td>\n",
       "      <td>...</td>\n",
       "      <td>...</td>\n",
       "      <td>...</td>\n",
       "      <td>...</td>\n",
       "      <td>...</td>\n",
       "      <td>...</td>\n",
       "      <td>...</td>\n",
       "      <td>...</td>\n",
       "      <td>...</td>\n",
       "      <td>...</td>\n",
       "      <td>...</td>\n",
       "      <td>...</td>\n",
       "    </tr>\n",
       "    <tr>\n",
       "      <th>918</th>\n",
       "      <td>352</td>\n",
       "      <td>CA</td>\n",
       "      <td>37.740594</td>\n",
       "      <td>-122.376471</td>\n",
       "      <td>94107</td>\n",
       "      <td>San Francisco</td>\n",
       "      <td>CoTweet</td>\n",
       "      <td>2009-01-01</td>\n",
       "      <td>2013-12-31</td>\n",
       "      <td>2009-07-09</td>\n",
       "      <td>...</td>\n",
       "      <td>1</td>\n",
       "      <td>NaN</td>\n",
       "      <td>0.0</td>\n",
       "      <td>0.0</td>\n",
       "      <td>0.0</td>\n",
       "      <td>0.0</td>\n",
       "      <td>0.0</td>\n",
       "      <td>0.0</td>\n",
       "      <td>0.0</td>\n",
       "      <td>5.00</td>\n",
       "    </tr>\n",
       "    <tr>\n",
       "      <th>919</th>\n",
       "      <td>721</td>\n",
       "      <td>MA</td>\n",
       "      <td>42.504817</td>\n",
       "      <td>-71.195611</td>\n",
       "      <td>1803</td>\n",
       "      <td>Burlington</td>\n",
       "      <td>Reef Point Systems</td>\n",
       "      <td>1998-01-01</td>\n",
       "      <td>2008-06-25</td>\n",
       "      <td>2005-04-01</td>\n",
       "      <td>...</td>\n",
       "      <td>0</td>\n",
       "      <td>NaN</td>\n",
       "      <td>0.0</td>\n",
       "      <td>0.0</td>\n",
       "      <td>0.0</td>\n",
       "      <td>0.0</td>\n",
       "      <td>0.0</td>\n",
       "      <td>0.0</td>\n",
       "      <td>0.0</td>\n",
       "      <td>10.48</td>\n",
       "    </tr>\n",
       "    <tr>\n",
       "      <th>920</th>\n",
       "      <td>557</td>\n",
       "      <td>CA</td>\n",
       "      <td>37.408261</td>\n",
       "      <td>-122.015920</td>\n",
       "      <td>94089</td>\n",
       "      <td>Sunnyvale</td>\n",
       "      <td>Paracor Medical</td>\n",
       "      <td>1999-01-01</td>\n",
       "      <td>2012-06-17</td>\n",
       "      <td>2007-06-29</td>\n",
       "      <td>...</td>\n",
       "      <td>0</td>\n",
       "      <td>NaN</td>\n",
       "      <td>0.0</td>\n",
       "      <td>0.0</td>\n",
       "      <td>0.0</td>\n",
       "      <td>0.0</td>\n",
       "      <td>0.0</td>\n",
       "      <td>0.0</td>\n",
       "      <td>0.0</td>\n",
       "      <td>13.46</td>\n",
       "    </tr>\n",
       "    <tr>\n",
       "      <th>921</th>\n",
       "      <td>589</td>\n",
       "      <td>CA</td>\n",
       "      <td>37.556732</td>\n",
       "      <td>-122.288378</td>\n",
       "      <td>94404</td>\n",
       "      <td>San Francisco</td>\n",
       "      <td>Causata</td>\n",
       "      <td>2009-01-01</td>\n",
       "      <td>2013-12-31</td>\n",
       "      <td>2009-10-05</td>\n",
       "      <td>...</td>\n",
       "      <td>1</td>\n",
       "      <td>NaN</td>\n",
       "      <td>0.0</td>\n",
       "      <td>0.0</td>\n",
       "      <td>0.0</td>\n",
       "      <td>0.0</td>\n",
       "      <td>0.0</td>\n",
       "      <td>0.0</td>\n",
       "      <td>0.0</td>\n",
       "      <td>5.00</td>\n",
       "    </tr>\n",
       "    <tr>\n",
       "      <th>922</th>\n",
       "      <td>462</td>\n",
       "      <td>CA</td>\n",
       "      <td>37.386778</td>\n",
       "      <td>-121.966277</td>\n",
       "      <td>95054</td>\n",
       "      <td>Santa Clara</td>\n",
       "      <td>Asempra Technologies</td>\n",
       "      <td>2003-01-01</td>\n",
       "      <td>2013-12-31</td>\n",
       "      <td>2006-02-13</td>\n",
       "      <td>...</td>\n",
       "      <td>1</td>\n",
       "      <td>NaN</td>\n",
       "      <td>0.0</td>\n",
       "      <td>0.0</td>\n",
       "      <td>0.0</td>\n",
       "      <td>0.0</td>\n",
       "      <td>0.0</td>\n",
       "      <td>0.0</td>\n",
       "      <td>0.0</td>\n",
       "      <td>11.00</td>\n",
       "    </tr>\n",
       "  </tbody>\n",
       "</table>\n",
       "<p>923 rows × 54 columns</p>\n",
       "</div>"
      ],
      "text/plain": [
       "       iD state_code   latitude   longitude zip_code           city  \\\n",
       "0    1005         CA  42.358880  -71.056820    92101      San Diego   \n",
       "1     204         CA  37.238916 -121.973718    95032      Los Gatos   \n",
       "2    1001         CA  32.901049 -117.192656    92121      San Diego   \n",
       "3     738         CA  37.320309 -122.050040    95014      Cupertino   \n",
       "4    1002         CA  37.779281 -122.419236    94105  San Francisco   \n",
       "..    ...        ...        ...         ...      ...            ...   \n",
       "918   352         CA  37.740594 -122.376471    94107  San Francisco   \n",
       "919   721         MA  42.504817  -71.195611     1803     Burlington   \n",
       "920   557         CA  37.408261 -122.015920    94089      Sunnyvale   \n",
       "921   589         CA  37.556732 -122.288378    94404  San Francisco   \n",
       "922   462         CA  37.386778 -121.966277    95054    Santa Clara   \n",
       "\n",
       "                     name founded_at  closed_at first_funding_at  ... status  \\\n",
       "0             Bandsintown 2007-01-01 2013-12-31       2009-04-01  ...      1   \n",
       "1               TriCipher 2000-01-01 2013-12-31       2005-02-14  ...      1   \n",
       "2                   Plixi 2009-03-18 2013-12-31       2010-03-30  ...      1   \n",
       "3       Solidcore Systems 2002-01-01 2013-12-31       2005-02-17  ...      1   \n",
       "4          Inhale Digital 2010-08-01 2012-10-01       2010-08-01  ...      0   \n",
       "..                    ...        ...        ...              ...  ...    ...   \n",
       "918               CoTweet 2009-01-01 2013-12-31       2009-07-09  ...      1   \n",
       "919    Reef Point Systems 1998-01-01 2008-06-25       2005-04-01  ...      0   \n",
       "920       Paracor Medical 1999-01-01 2012-06-17       2007-06-29  ...      0   \n",
       "921               Causata 2009-01-01 2013-12-31       2009-10-05  ...      1   \n",
       "922  Asempra Technologies 2003-01-01 2013-12-31       2006-02-13  ...      1   \n",
       "\n",
       "                                           description  million  invested  \\\n",
       "0    Bandsintown hits 5 million registered usersAAA...      1.0       0.0   \n",
       "1                                                  NaN      0.0       0.0   \n",
       "2                                                  NaN      0.0       0.0   \n",
       "3                                                  NaN      0.0       0.0   \n",
       "4                                                  NaN      0.0       0.0   \n",
       "..                                                 ...      ...       ...   \n",
       "918                                                NaN      0.0       0.0   \n",
       "919                                                NaN      0.0       0.0   \n",
       "920                                                NaN      0.0       0.0   \n",
       "921                                                NaN      0.0       0.0   \n",
       "922                                                NaN      0.0       0.0   \n",
       "\n",
       "     Technology  Mobile  Gold  Hootest  Iphone    age  \n",
       "0           0.0     0.0   0.0      0.0     0.0   7.00  \n",
       "1           0.0     0.0   0.0      0.0     0.0  14.00  \n",
       "2           0.0     0.0   0.0      0.0     0.0   4.79  \n",
       "3           0.0     0.0   0.0      0.0     0.0  12.00  \n",
       "4           0.0     0.0   0.0      0.0     0.0   2.17  \n",
       "..          ...     ...   ...      ...     ...    ...  \n",
       "918         0.0     0.0   0.0      0.0     0.0   5.00  \n",
       "919         0.0     0.0   0.0      0.0     0.0  10.48  \n",
       "920         0.0     0.0   0.0      0.0     0.0  13.46  \n",
       "921         0.0     0.0   0.0      0.0     0.0   5.00  \n",
       "922         0.0     0.0   0.0      0.0     0.0  11.00  \n",
       "\n",
       "[923 rows x 54 columns]"
      ]
     },
     "execution_count": 70,
     "metadata": {},
     "output_type": "execute_result"
    }
   ],
   "source": [
    "# We create a new feature which show us how many year, they have been running since they ran the first time\n",
    "startups['age'] = (startups['closed_at']- startups['founded_at'])\n",
    "startups['age'] = round(startups.age/np.timedelta64(1,'Y'),2).astype(float)\n",
    "startups"
   ]
  },
  {
   "cell_type": "code",
   "execution_count": 71,
   "metadata": {},
   "outputs": [
    {
     "name": "stdout",
     "output_type": "stream",
     "text": [
      "NaN Values of closed at column has: 0\n"
     ]
    }
   ],
   "source": [
    "# fill nan values and check how many values there are\n",
    "\n",
    "print('NaN Values of closed at column has:',startups['closed_at'].isnull().sum())"
   ]
  },
  {
   "cell_type": "code",
   "execution_count": 72,
   "metadata": {},
   "outputs": [
    {
     "data": {
      "text/html": [
       "<div>\n",
       "<style scoped>\n",
       "    .dataframe tbody tr th:only-of-type {\n",
       "        vertical-align: middle;\n",
       "    }\n",
       "\n",
       "    .dataframe tbody tr th {\n",
       "        vertical-align: top;\n",
       "    }\n",
       "\n",
       "    .dataframe thead th {\n",
       "        text-align: right;\n",
       "    }\n",
       "</style>\n",
       "<table border=\"1\" class=\"dataframe\">\n",
       "  <thead>\n",
       "    <tr style=\"text-align: right;\">\n",
       "      <th></th>\n",
       "      <th>age_first_milestone_year</th>\n",
       "      <th>age_last_milestone_year</th>\n",
       "      <th>milestones</th>\n",
       "    </tr>\n",
       "  </thead>\n",
       "  <tbody>\n",
       "    <tr>\n",
       "      <th>0</th>\n",
       "      <td>4.6685</td>\n",
       "      <td>6.7041</td>\n",
       "      <td>3</td>\n",
       "    </tr>\n",
       "    <tr>\n",
       "      <th>1</th>\n",
       "      <td>7.0055</td>\n",
       "      <td>7.0055</td>\n",
       "      <td>1</td>\n",
       "    </tr>\n",
       "    <tr>\n",
       "      <th>2</th>\n",
       "      <td>1.4575</td>\n",
       "      <td>2.2055</td>\n",
       "      <td>2</td>\n",
       "    </tr>\n",
       "    <tr>\n",
       "      <th>3</th>\n",
       "      <td>6.0027</td>\n",
       "      <td>6.0027</td>\n",
       "      <td>1</td>\n",
       "    </tr>\n",
       "    <tr>\n",
       "      <th>4</th>\n",
       "      <td>0.0384</td>\n",
       "      <td>0.0384</td>\n",
       "      <td>1</td>\n",
       "    </tr>\n",
       "    <tr>\n",
       "      <th>5</th>\n",
       "      <td>5.0027</td>\n",
       "      <td>5.0027</td>\n",
       "      <td>1</td>\n",
       "    </tr>\n",
       "    <tr>\n",
       "      <th>6</th>\n",
       "      <td>3.0000</td>\n",
       "      <td>6.6082</td>\n",
       "      <td>2</td>\n",
       "    </tr>\n",
       "    <tr>\n",
       "      <th>7</th>\n",
       "      <td>5.6055</td>\n",
       "      <td>7.3616</td>\n",
       "      <td>3</td>\n",
       "    </tr>\n",
       "    <tr>\n",
       "      <th>8</th>\n",
       "      <td>8.0055</td>\n",
       "      <td>9.9945</td>\n",
       "      <td>4</td>\n",
       "    </tr>\n",
       "    <tr>\n",
       "      <th>9</th>\n",
       "      <td>2.9178</td>\n",
       "      <td>6.1151</td>\n",
       "      <td>4</td>\n",
       "    </tr>\n",
       "    <tr>\n",
       "      <th>10</th>\n",
       "      <td>10.1342</td>\n",
       "      <td>10.6493</td>\n",
       "      <td>3</td>\n",
       "    </tr>\n",
       "    <tr>\n",
       "      <th>11</th>\n",
       "      <td>-0.6164</td>\n",
       "      <td>4.6082</td>\n",
       "      <td>2</td>\n",
       "    </tr>\n",
       "    <tr>\n",
       "      <th>12</th>\n",
       "      <td>NaN</td>\n",
       "      <td>NaN</td>\n",
       "      <td>0</td>\n",
       "    </tr>\n",
       "    <tr>\n",
       "      <th>13</th>\n",
       "      <td>0.7945</td>\n",
       "      <td>4.3781</td>\n",
       "      <td>3</td>\n",
       "    </tr>\n",
       "    <tr>\n",
       "      <th>14</th>\n",
       "      <td>8.8384</td>\n",
       "      <td>8.8384</td>\n",
       "      <td>1</td>\n",
       "    </tr>\n",
       "    <tr>\n",
       "      <th>15</th>\n",
       "      <td>NaN</td>\n",
       "      <td>NaN</td>\n",
       "      <td>0</td>\n",
       "    </tr>\n",
       "    <tr>\n",
       "      <th>16</th>\n",
       "      <td>5.5014</td>\n",
       "      <td>5.5014</td>\n",
       "      <td>1</td>\n",
       "    </tr>\n",
       "    <tr>\n",
       "      <th>17</th>\n",
       "      <td>-0.4986</td>\n",
       "      <td>12.6795</td>\n",
       "      <td>3</td>\n",
       "    </tr>\n",
       "    <tr>\n",
       "      <th>18</th>\n",
       "      <td>1.2849</td>\n",
       "      <td>3.0027</td>\n",
       "      <td>3</td>\n",
       "    </tr>\n",
       "    <tr>\n",
       "      <th>19</th>\n",
       "      <td>3.0877</td>\n",
       "      <td>3.4932</td>\n",
       "      <td>3</td>\n",
       "    </tr>\n",
       "  </tbody>\n",
       "</table>\n",
       "</div>"
      ],
      "text/plain": [
       "    age_first_milestone_year  age_last_milestone_year  milestones\n",
       "0                     4.6685                   6.7041           3\n",
       "1                     7.0055                   7.0055           1\n",
       "2                     1.4575                   2.2055           2\n",
       "3                     6.0027                   6.0027           1\n",
       "4                     0.0384                   0.0384           1\n",
       "5                     5.0027                   5.0027           1\n",
       "6                     3.0000                   6.6082           2\n",
       "7                     5.6055                   7.3616           3\n",
       "8                     8.0055                   9.9945           4\n",
       "9                     2.9178                   6.1151           4\n",
       "10                   10.1342                  10.6493           3\n",
       "11                   -0.6164                   4.6082           2\n",
       "12                       NaN                      NaN           0\n",
       "13                    0.7945                   4.3781           3\n",
       "14                    8.8384                   8.8384           1\n",
       "15                       NaN                      NaN           0\n",
       "16                    5.5014                   5.5014           1\n",
       "17                   -0.4986                  12.6795           3\n",
       "18                    1.2849                   3.0027           3\n",
       "19                    3.0877                   3.4932           3"
      ]
     },
     "execution_count": 72,
     "metadata": {},
     "output_type": "execute_result"
    }
   ],
   "source": [
    "# as we see first milestone means diference of years between they founded and first milestone, last milestone mean diference year founded and last milestone, and milestones succeded.\n",
    "startups[['age_first_milestone_year','age_last_milestone_year','milestones']].head(20)"
   ]
  },
  {
   "cell_type": "code",
   "execution_count": 73,
   "metadata": {},
   "outputs": [
    {
     "data": {
      "text/plain": [
       "0"
      ]
     },
     "execution_count": 73,
     "metadata": {},
     "output_type": "execute_result"
    }
   ],
   "source": [
    "startups['milestones'].isnull().sum()"
   ]
  },
  {
   "cell_type": "code",
   "execution_count": 74,
   "metadata": {},
   "outputs": [
    {
     "data": {
      "text/html": [
       "<div>\n",
       "<style scoped>\n",
       "    .dataframe tbody tr th:only-of-type {\n",
       "        vertical-align: middle;\n",
       "    }\n",
       "\n",
       "    .dataframe tbody tr th {\n",
       "        vertical-align: top;\n",
       "    }\n",
       "\n",
       "    .dataframe thead th {\n",
       "        text-align: right;\n",
       "    }\n",
       "</style>\n",
       "<table border=\"1\" class=\"dataframe\">\n",
       "  <thead>\n",
       "    <tr style=\"text-align: right;\">\n",
       "      <th></th>\n",
       "      <th>age_first_milestone_year</th>\n",
       "      <th>age_last_milestone_year</th>\n",
       "      <th>milestones</th>\n",
       "    </tr>\n",
       "  </thead>\n",
       "  <tbody>\n",
       "    <tr>\n",
       "      <th>0</th>\n",
       "      <td>4.6685</td>\n",
       "      <td>6.7041</td>\n",
       "      <td>3</td>\n",
       "    </tr>\n",
       "    <tr>\n",
       "      <th>1</th>\n",
       "      <td>7.0055</td>\n",
       "      <td>7.0055</td>\n",
       "      <td>1</td>\n",
       "    </tr>\n",
       "    <tr>\n",
       "      <th>2</th>\n",
       "      <td>1.4575</td>\n",
       "      <td>2.2055</td>\n",
       "      <td>2</td>\n",
       "    </tr>\n",
       "    <tr>\n",
       "      <th>3</th>\n",
       "      <td>6.0027</td>\n",
       "      <td>6.0027</td>\n",
       "      <td>1</td>\n",
       "    </tr>\n",
       "    <tr>\n",
       "      <th>4</th>\n",
       "      <td>0.0384</td>\n",
       "      <td>0.0384</td>\n",
       "      <td>1</td>\n",
       "    </tr>\n",
       "  </tbody>\n",
       "</table>\n",
       "</div>"
      ],
      "text/plain": [
       "   age_first_milestone_year  age_last_milestone_year  milestones\n",
       "0                    4.6685                   6.7041           3\n",
       "1                    7.0055                   7.0055           1\n",
       "2                    1.4575                   2.2055           2\n",
       "3                    6.0027                   6.0027           1\n",
       "4                    0.0384                   0.0384           1"
      ]
     },
     "execution_count": 74,
     "metadata": {},
     "output_type": "execute_result"
    }
   ],
   "source": [
    "startups[['age_first_milestone_year','age_last_milestone_year','milestones']].head()"
   ]
  },
  {
   "cell_type": "code",
   "execution_count": 75,
   "metadata": {},
   "outputs": [],
   "source": [
    "# Fill values Nan with 0, cause the startups which does't have any milestone is cause did,t get any milestone yet.\n",
    "startups[['age_first_milestone_year','age_last_milestone_year','milestones']]=startups[['age_first_milestone_year','age_last_milestone_year','milestones']].fillna(0)"
   ]
  },
  {
   "cell_type": "code",
   "execution_count": 76,
   "metadata": {},
   "outputs": [
    {
     "data": {
      "text/plain": [
       "age_first_milestone_year    0\n",
       "age_last_milestone_year     0\n",
       "milestones                  0\n",
       "dtype: int64"
      ]
     },
     "execution_count": 76,
     "metadata": {},
     "output_type": "execute_result"
    }
   ],
   "source": [
    "# check them out\n",
    "startups[['age_first_milestone_year','age_last_milestone_year','milestones']].isnull().sum()"
   ]
  },
  {
   "cell_type": "code",
   "execution_count": 77,
   "metadata": {},
   "outputs": [
    {
     "data": {
      "text/html": [
       "<div>\n",
       "<style scoped>\n",
       "    .dataframe tbody tr th:only-of-type {\n",
       "        vertical-align: middle;\n",
       "    }\n",
       "\n",
       "    .dataframe tbody tr th {\n",
       "        vertical-align: top;\n",
       "    }\n",
       "\n",
       "    .dataframe thead th {\n",
       "        text-align: right;\n",
       "    }\n",
       "</style>\n",
       "<table border=\"1\" class=\"dataframe\">\n",
       "  <thead>\n",
       "    <tr style=\"text-align: right;\">\n",
       "      <th></th>\n",
       "      <th>age</th>\n",
       "      <th>age_first_funding_year</th>\n",
       "      <th>age_last_funding_year</th>\n",
       "      <th>age_first_milestone_year</th>\n",
       "      <th>age_last_milestone_year</th>\n",
       "    </tr>\n",
       "  </thead>\n",
       "  <tbody>\n",
       "    <tr>\n",
       "      <th>558</th>\n",
       "      <td>-3.95</td>\n",
       "      <td>-9.0466</td>\n",
       "      <td>-9.0466</td>\n",
       "      <td>-6.0466</td>\n",
       "      <td>-3.8822</td>\n",
       "    </tr>\n",
       "    <tr>\n",
       "      <th>584</th>\n",
       "      <td>3.33</td>\n",
       "      <td>-3.5068</td>\n",
       "      <td>0.3945</td>\n",
       "      <td>-0.9370</td>\n",
       "      <td>0.0849</td>\n",
       "    </tr>\n",
       "    <tr>\n",
       "      <th>263</th>\n",
       "      <td>5.55</td>\n",
       "      <td>-1.9863</td>\n",
       "      <td>-1.9863</td>\n",
       "      <td>0.0000</td>\n",
       "      <td>0.0000</td>\n",
       "    </tr>\n",
       "    <tr>\n",
       "      <th>431</th>\n",
       "      <td>2.83</td>\n",
       "      <td>-1.4712</td>\n",
       "      <td>-0.1370</td>\n",
       "      <td>0.0000</td>\n",
       "      <td>0.0000</td>\n",
       "    </tr>\n",
       "    <tr>\n",
       "      <th>489</th>\n",
       "      <td>5.35</td>\n",
       "      <td>-1.1836</td>\n",
       "      <td>-1.1836</td>\n",
       "      <td>0.8301</td>\n",
       "      <td>0.8301</td>\n",
       "    </tr>\n",
       "    <tr>\n",
       "      <th>240</th>\n",
       "      <td>2.50</td>\n",
       "      <td>-1.0521</td>\n",
       "      <td>0.6247</td>\n",
       "      <td>-1.3589</td>\n",
       "      <td>1.6630</td>\n",
       "    </tr>\n",
       "    <tr>\n",
       "      <th>127</th>\n",
       "      <td>4.41</td>\n",
       "      <td>-1.0110</td>\n",
       "      <td>1.4877</td>\n",
       "      <td>0.4055</td>\n",
       "      <td>1.3205</td>\n",
       "    </tr>\n",
       "    <tr>\n",
       "      <th>23</th>\n",
       "      <td>5.59</td>\n",
       "      <td>-1.0000</td>\n",
       "      <td>3.3151</td>\n",
       "      <td>3.6959</td>\n",
       "      <td>5.6630</td>\n",
       "    </tr>\n",
       "    <tr>\n",
       "      <th>847</th>\n",
       "      <td>2.03</td>\n",
       "      <td>-1.0000</td>\n",
       "      <td>2.2493</td>\n",
       "      <td>1.7479</td>\n",
       "      <td>1.7479</td>\n",
       "    </tr>\n",
       "    <tr>\n",
       "      <th>432</th>\n",
       "      <td>2.39</td>\n",
       "      <td>-1.0000</td>\n",
       "      <td>0.0000</td>\n",
       "      <td>-1.5863</td>\n",
       "      <td>0.8630</td>\n",
       "    </tr>\n",
       "    <tr>\n",
       "      <th>536</th>\n",
       "      <td>7.08</td>\n",
       "      <td>-0.9178</td>\n",
       "      <td>-0.9178</td>\n",
       "      <td>0.0000</td>\n",
       "      <td>0.0000</td>\n",
       "    </tr>\n",
       "    <tr>\n",
       "      <th>831</th>\n",
       "      <td>7.33</td>\n",
       "      <td>-0.8658</td>\n",
       "      <td>6.1233</td>\n",
       "      <td>5.0027</td>\n",
       "      <td>5.0027</td>\n",
       "    </tr>\n",
       "    <tr>\n",
       "      <th>122</th>\n",
       "      <td>3.67</td>\n",
       "      <td>-0.7479</td>\n",
       "      <td>0.8192</td>\n",
       "      <td>-1.7507</td>\n",
       "      <td>0.2521</td>\n",
       "    </tr>\n",
       "    <tr>\n",
       "      <th>79</th>\n",
       "      <td>4.75</td>\n",
       "      <td>-0.5836</td>\n",
       "      <td>1.3425</td>\n",
       "      <td>0.0000</td>\n",
       "      <td>1.5479</td>\n",
       "    </tr>\n",
       "    <tr>\n",
       "      <th>702</th>\n",
       "      <td>1.54</td>\n",
       "      <td>-0.5014</td>\n",
       "      <td>-0.5014</td>\n",
       "      <td>0.0000</td>\n",
       "      <td>0.0000</td>\n",
       "    </tr>\n",
       "    <tr>\n",
       "      <th>340</th>\n",
       "      <td>6.58</td>\n",
       "      <td>-0.4986</td>\n",
       "      <td>-0.4137</td>\n",
       "      <td>-0.4986</td>\n",
       "      <td>5.7699</td>\n",
       "    </tr>\n",
       "    <tr>\n",
       "      <th>104</th>\n",
       "      <td>4.17</td>\n",
       "      <td>-0.4959</td>\n",
       "      <td>1.2548</td>\n",
       "      <td>2.1726</td>\n",
       "      <td>4.6000</td>\n",
       "    </tr>\n",
       "    <tr>\n",
       "      <th>763</th>\n",
       "      <td>3.50</td>\n",
       "      <td>-0.4959</td>\n",
       "      <td>0.6301</td>\n",
       "      <td>0.5890</td>\n",
       "      <td>3.0110</td>\n",
       "    </tr>\n",
       "    <tr>\n",
       "      <th>382</th>\n",
       "      <td>4.05</td>\n",
       "      <td>-0.4466</td>\n",
       "      <td>1.1479</td>\n",
       "      <td>3.0603</td>\n",
       "      <td>3.7479</td>\n",
       "    </tr>\n",
       "    <tr>\n",
       "      <th>312</th>\n",
       "      <td>7.25</td>\n",
       "      <td>-0.4192</td>\n",
       "      <td>0.6658</td>\n",
       "      <td>0.0000</td>\n",
       "      <td>0.0000</td>\n",
       "    </tr>\n",
       "  </tbody>\n",
       "</table>\n",
       "</div>"
      ],
      "text/plain": [
       "      age  age_first_funding_year  age_last_funding_year  \\\n",
       "558 -3.95                 -9.0466                -9.0466   \n",
       "584  3.33                 -3.5068                 0.3945   \n",
       "263  5.55                 -1.9863                -1.9863   \n",
       "431  2.83                 -1.4712                -0.1370   \n",
       "489  5.35                 -1.1836                -1.1836   \n",
       "240  2.50                 -1.0521                 0.6247   \n",
       "127  4.41                 -1.0110                 1.4877   \n",
       "23   5.59                 -1.0000                 3.3151   \n",
       "847  2.03                 -1.0000                 2.2493   \n",
       "432  2.39                 -1.0000                 0.0000   \n",
       "536  7.08                 -0.9178                -0.9178   \n",
       "831  7.33                 -0.8658                 6.1233   \n",
       "122  3.67                 -0.7479                 0.8192   \n",
       "79   4.75                 -0.5836                 1.3425   \n",
       "702  1.54                 -0.5014                -0.5014   \n",
       "340  6.58                 -0.4986                -0.4137   \n",
       "104  4.17                 -0.4959                 1.2548   \n",
       "763  3.50                 -0.4959                 0.6301   \n",
       "382  4.05                 -0.4466                 1.1479   \n",
       "312  7.25                 -0.4192                 0.6658   \n",
       "\n",
       "     age_first_milestone_year  age_last_milestone_year  \n",
       "558                   -6.0466                  -3.8822  \n",
       "584                   -0.9370                   0.0849  \n",
       "263                    0.0000                   0.0000  \n",
       "431                    0.0000                   0.0000  \n",
       "489                    0.8301                   0.8301  \n",
       "240                   -1.3589                   1.6630  \n",
       "127                    0.4055                   1.3205  \n",
       "23                     3.6959                   5.6630  \n",
       "847                    1.7479                   1.7479  \n",
       "432                   -1.5863                   0.8630  \n",
       "536                    0.0000                   0.0000  \n",
       "831                    5.0027                   5.0027  \n",
       "122                   -1.7507                   0.2521  \n",
       "79                     0.0000                   1.5479  \n",
       "702                    0.0000                   0.0000  \n",
       "340                   -0.4986                   5.7699  \n",
       "104                    2.1726                   4.6000  \n",
       "763                    0.5890                   3.0110  \n",
       "382                    3.0603                   3.7479  \n",
       "312                    0.0000                   0.0000  "
      ]
     },
     "execution_count": 77,
     "metadata": {},
     "output_type": "execute_result"
    }
   ],
   "source": [
    "startups[[ 'age', 'age_first_funding_year','age_last_funding_year', 'age_first_milestone_year',\n",
    "       'age_last_milestone_year']].sort_values('age_first_funding_year').head(20)"
   ]
  },
  {
   "cell_type": "code",
   "execution_count": 78,
   "metadata": {},
   "outputs": [
    {
     "name": "stderr",
     "output_type": "stream",
     "text": [
      "/Users/migueldefrutos/Library/Python/3.7/lib/python/site-packages/ipykernel_launcher.py:2: SettingWithCopyWarning:\n",
      "\n",
      "\n",
      "A value is trying to be set on a copy of a slice from a DataFrame\n",
      "\n",
      "See the caveats in the documentation: https://pandas.pydata.org/pandas-docs/stable/user_guide/indexing.html#returning-a-view-versus-a-copy\n",
      "\n",
      "/Users/migueldefrutos/Library/Python/3.7/lib/python/site-packages/ipykernel_launcher.py:3: SettingWithCopyWarning:\n",
      "\n",
      "\n",
      "A value is trying to be set on a copy of a slice from a DataFrame\n",
      "\n",
      "See the caveats in the documentation: https://pandas.pydata.org/pandas-docs/stable/user_guide/indexing.html#returning-a-view-versus-a-copy\n",
      "\n"
     ]
    }
   ],
   "source": [
    "# As we see there are just 3 anomal valus, which the closed y older than opened, which is wierd.\n",
    "startups['closed_at'][73] = pd.to_datetime('28/1/2012')\n",
    "startups['founded_at'][558] = pd.to_datetime('4/1/2004')\n",
    "\t"
   ]
  },
  {
   "cell_type": "code",
   "execution_count": 79,
   "metadata": {},
   "outputs": [],
   "source": [
    "# we remove rows which has values under 0 because, it might be an error\n",
    "startups = startups.drop(startups[startups['age']<=0].index)\n",
    "startups = startups.drop(startups[startups['age_first_funding_year']<0].index)\n",
    "startups = startups.drop(startups[startups['age_last_funding_year']<0].index)\n",
    "startups = startups.drop(startups[startups['age_first_milestone_year']<0].index)\n",
    "startups = startups.drop(startups[startups['age_last_milestone_year']<0].index)"
   ]
  },
  {
   "cell_type": "code",
   "execution_count": 80,
   "metadata": {},
   "outputs": [
    {
     "name": "stdout",
     "output_type": "stream",
     "text": [
      "<class 'pandas.core.frame.DataFrame'>\n",
      "Int64Index: 838 entries, 0 to 922\n",
      "Data columns (total 54 columns):\n",
      " #   Column                    Non-Null Count  Dtype         \n",
      "---  ------                    --------------  -----         \n",
      " 0   iD                        838 non-null    int64         \n",
      " 1   state_code                838 non-null    object        \n",
      " 2   latitude                  838 non-null    float64       \n",
      " 3   longitude                 838 non-null    float64       \n",
      " 4   zip_code                  838 non-null    object        \n",
      " 5   city                      838 non-null    object        \n",
      " 6   name                      838 non-null    object        \n",
      " 7   founded_at                838 non-null    datetime64[ns]\n",
      " 8   closed_at                 838 non-null    datetime64[ns]\n",
      " 9   first_funding_at          838 non-null    datetime64[ns]\n",
      " 10  last_funding_at           838 non-null    datetime64[ns]\n",
      " 11  age_first_funding_year    838 non-null    float64       \n",
      " 12  age_last_funding_year     838 non-null    float64       \n",
      " 13  age_first_milestone_year  838 non-null    float64       \n",
      " 14  age_last_milestone_year   838 non-null    float64       \n",
      " 15  relationships             838 non-null    int64         \n",
      " 16  funding_rounds            838 non-null    int64         \n",
      " 17  funding_total_usd         838 non-null    int64         \n",
      " 18  milestones                838 non-null    int64         \n",
      " 19  is_CA                     838 non-null    int64         \n",
      " 20  is_NY                     838 non-null    int64         \n",
      " 21  is_MA                     838 non-null    int64         \n",
      " 22  is_TX                     838 non-null    int64         \n",
      " 23  is_otherstate             838 non-null    int64         \n",
      " 24  category_code             838 non-null    object        \n",
      " 25  is_software               838 non-null    int64         \n",
      " 26  is_web                    838 non-null    int64         \n",
      " 27  is_mobile                 838 non-null    int64         \n",
      " 28  is_enterprise             838 non-null    int64         \n",
      " 29  is_advertising            838 non-null    int64         \n",
      " 30  is_gamesvideo             838 non-null    int64         \n",
      " 31  is_ecommerce              838 non-null    int64         \n",
      " 32  is_biotech                838 non-null    int64         \n",
      " 33  is_consulting             838 non-null    int64         \n",
      " 34  is_othercategory          838 non-null    int64         \n",
      " 35  object_id                 838 non-null    object        \n",
      " 36  has_VC                    838 non-null    int64         \n",
      " 37  has_angel                 838 non-null    int64         \n",
      " 38  has_roundA                838 non-null    int64         \n",
      " 39  has_roundB                838 non-null    int64         \n",
      " 40  has_roundC                838 non-null    int64         \n",
      " 41  has_roundD                838 non-null    int64         \n",
      " 42  avg_participants          838 non-null    float64       \n",
      " 43  Top500                    838 non-null    int64         \n",
      " 44  status                    838 non-null    int64         \n",
      " 45  description               277 non-null    object        \n",
      " 46  million                   838 non-null    float64       \n",
      " 47  invested                  838 non-null    float64       \n",
      " 48  Technology                838 non-null    float64       \n",
      " 49  Mobile                    838 non-null    float64       \n",
      " 50  Gold                      838 non-null    float64       \n",
      " 51  Hootest                   838 non-null    float64       \n",
      " 52  Iphone                    838 non-null    float64       \n",
      " 53  age                       838 non-null    float64       \n",
      "dtypes: datetime64[ns](4), float64(15), int64(28), object(7)\n",
      "memory usage: 392.4+ KB\n"
     ]
    }
   ],
   "source": [
    "startups.info()"
   ]
  },
  {
   "attachments": {},
   "cell_type": "markdown",
   "metadata": {},
   "source": [
    "## Data analaysis"
   ]
  },
  {
   "cell_type": "code",
   "execution_count": 81,
   "metadata": {},
   "outputs": [],
   "source": [
    "# We can see correlation between all numeric values\n",
    "\n",
    "#plt.figure(figsize=(30,22))\n",
    "#sns.heatmap(startups[startups.columns].corr(), cmap= 'YlOrBr', annot=True);"
   ]
  },
  {
   "cell_type": "code",
   "execution_count": 82,
   "metadata": {},
   "outputs": [
    {
     "data": {
      "image/png": "[encoded data removed]",
      "text/plain": [
       "<Figure size 1200x800 with 2 Axes>"
      ]
     },
     "metadata": {},
     "output_type": "display_data"
    }
   ],
   "source": [
    "#Here we get the correlation between diferent variables, in this case we get the most 12 correlated\n",
    "cols = startups[startups.columns].corr().nlargest(12,'status')['status'].index\n",
    "\n",
    "cm = np.corrcoef(startups[cols].values.T) \n",
    "\n",
    "plt.figure(figsize=(12,8))\n",
    "hm = sns.heatmap(cm, cbar=True, annot=True, cmap='YlOrBr', fmt='.2f', yticklabels=cols.values, xticklabels=cols.values)"
   ]
  },
  {
   "cell_type": "code",
   "execution_count": 83,
   "metadata": {},
   "outputs": [
    {
     "data": {
      "image/png": "[encoded data removed]",
      "text/plain": [
       "<Figure size 640x480 with 1 Axes>"
      ]
     },
     "metadata": {},
     "output_type": "display_data"
    }
   ],
   "source": [
    "# How is the distribution about acquired and not?\n",
    "\n",
    "status = startups['status'].value_counts(normalize=True)\n",
    "fig, ax = plt.subplots()\n",
    "\n",
    "ax.pie(status, labels = ['Acquired','Closed'], autopct=\"%0.1f %%\")\n",
    "ax.set_title('StartupS Acquired');"
   ]
  },
  {
   "cell_type": "code",
   "execution_count": 84,
   "metadata": {},
   "outputs": [
    {
     "data": {
      "image/png": "[encoded data removed]",
      "text/plain": [
       "<Figure size 640x480 with 1 Axes>"
      ]
     },
     "metadata": {},
     "output_type": "display_data"
    }
   ],
   "source": [
    "# Here we can check if two features correlated with eachother\n",
    "\n",
    "sns.color_palette(\"Spectral\", as_cmap=True)\n",
    "\n",
    "sns.scatterplot(data = startups, x=startups['age_first_funding_year'], y=startups['age_last_funding_year'], hue='status' ,edgecolors='K' ,linewidths=0.5)\n",
    "plt.yticks((0,4,8,12,16,20))\n",
    "plt.xlabel('Año primera inversión' )\n",
    "plt.ylabel('Año ultimo inversión');"
   ]
  },
  {
   "cell_type": "code",
   "execution_count": 85,
   "metadata": {},
   "outputs": [
    {
     "data": {
      "text/plain": [
       "<AxesSubplot:xlabel='age_first_milestone_year', ylabel='age_last_milestone_year'>"
      ]
     },
     "execution_count": 85,
     "metadata": {},
     "output_type": "execute_result"
    },
    {
     "data": {
      "image/png": "[encoded data removed]",
      "text/plain": [
       "<Figure size 640x480 with 1 Axes>"
      ]
     },
     "metadata": {},
     "output_type": "display_data"
    }
   ],
   "source": [
    "import seaborn as sns\n",
    "\n",
    "sns.set_palette(\"Spectral\")\n",
    "\n",
    "sns.scatterplot(data=startups, x='age_first_milestone_year', y='age_last_milestone_year', hue='status', edgecolors='k', linewidths=0.5)\n"
   ]
  },
  {
   "cell_type": "code",
   "execution_count": 86,
   "metadata": {},
   "outputs": [
    {
     "data": {
      "text/html": [
       "<div>\n",
       "<style scoped>\n",
       "    .dataframe tbody tr th:only-of-type {\n",
       "        vertical-align: middle;\n",
       "    }\n",
       "\n",
       "    .dataframe tbody tr th {\n",
       "        vertical-align: top;\n",
       "    }\n",
       "\n",
       "    .dataframe thead th {\n",
       "        text-align: right;\n",
       "    }\n",
       "</style>\n",
       "<table border=\"1\" class=\"dataframe\">\n",
       "  <thead>\n",
       "    <tr style=\"text-align: right;\">\n",
       "      <th></th>\n",
       "      <th>relationships</th>\n",
       "      <th>Closed</th>\n",
       "      <th>Acquired</th>\n",
       "      <th>Total</th>\n",
       "      <th>Success Rate</th>\n",
       "    </tr>\n",
       "  </thead>\n",
       "  <tbody>\n",
       "    <tr>\n",
       "      <th>0</th>\n",
       "      <td>relationships 0</td>\n",
       "      <td>33</td>\n",
       "      <td>3</td>\n",
       "      <td>36</td>\n",
       "      <td>8.33</td>\n",
       "    </tr>\n",
       "    <tr>\n",
       "      <th>1</th>\n",
       "      <td>relationships 1-10</td>\n",
       "      <td>233</td>\n",
       "      <td>371</td>\n",
       "      <td>604</td>\n",
       "      <td>61.42</td>\n",
       "    </tr>\n",
       "    <tr>\n",
       "      <th>2</th>\n",
       "      <td>relationships &gt; 10</td>\n",
       "      <td>21</td>\n",
       "      <td>177</td>\n",
       "      <td>198</td>\n",
       "      <td>89.39</td>\n",
       "    </tr>\n",
       "  </tbody>\n",
       "</table>\n",
       "</div>"
      ],
      "text/plain": [
       "        relationships  Closed  Acquired  Total  Success Rate\n",
       "0     relationships 0      33         3     36          8.33\n",
       "1  relationships 1-10     233       371    604         61.42\n",
       "2  relationships > 10      21       177    198         89.39"
      ]
     },
     "execution_count": 86,
     "metadata": {},
     "output_type": "execute_result"
    }
   ],
   "source": [
    "# Here we create a table, where we can see the percentage of success companies\n",
    "startups['range_relation'] = startups['relationships'].apply(lambda x: 'relationships 0' if x == 0 else 'relationships > 10' if x > 10 else 'relationships 1-10' )\n",
    "\n",
    "\n",
    "rate_success = startups.groupby(['range_relation','status']).agg({'iD':'count'}).reset_index()\n",
    "rate_success = pd.pivot_table(rate_success, values = 'iD',columns= ['status'], index= ['range_relation']).reset_index()\n",
    "rate_success.columns = ['relationships','Closed','Acquired']\n",
    "rate_success['Total'] = rate_success['Closed'] + rate_success['Acquired'].astype(int)\n",
    "rate_success['Success Rate'] = round((rate_success['Acquired'] / rate_success['Total'])*100,2).astype(float)\n",
    "rate_success = rate_success.sort_values(by= 'Success Rate')\n",
    "rate_success.to_csv('ratesuccess.csv')\n",
    "rate_success"
   ]
  },
  {
   "cell_type": "code",
   "execution_count": 87,
   "metadata": {},
   "outputs": [
    {
     "data": {
      "application/vnd.plotly.v1+json": {
       "config": {
        "plotlyServerURL": "https://plot.ly"
       },
       "data": [
        {
         "alignmentgroup": "True",
         "hovertemplate": "variable=Closed<br>relationships=%{x}<br>value=%{y}<extra></extra>",
         "legendgroup": "Closed",
         "marker": {
          "color": "indianred",
          "pattern": {
           "shape": ""
          }
         },
         "name": "Closed",
         "offsetgroup": "Closed",
         "orientation": "v",
         "showlegend": true,
         "textposition": "auto",
         "type": "bar",
         "x": [
          "relationships 0",
          "relationships 1-10",
          "relationships > 10"
         ],
         "xaxis": "x",
         "y": [
          33,
          233,
          21
         ],
         "yaxis": "y"
        },
        {
         "alignmentgroup": "True",
         "hovertemplate": "variable=Acquired<br>relationships=%{x}<br>value=%{y}<extra></extra>",
         "legendgroup": "Acquired",
         "marker": {
          "color": "lightsalmon",
          "pattern": {
           "shape": ""
          }
         },
         "name": "Acquired",
         "offsetgroup": "Acquired",
         "orientation": "v",
         "showlegend": true,
         "text": [
          8.33,
          61.42,
          89.39
         ],
         "textposition": "outside",
         "texttemplate": "%{text:.0f}%",
         "type": "bar",
         "x": [
          "relationships 0",
          "relationships 1-10",
          "relationships > 10"
         ],
         "xaxis": "x",
         "y": [
          3,
          371,
          177
         ],
         "yaxis": "y"
        }
       ],
       "layout": {
        "bargroupgap": 0.1,
        "barmode": "group",
        "legend": {
         "title": {
          "text": "variable"
         },
         "tracegroupgap": 0
        },
        "margin": {
         "t": 60
        },
        "template": {
         "data": {
          "bar": [
           {
            "error_x": {
             "color": "#2a3f5f"
            },
            "error_y": {
             "color": "#2a3f5f"
            },
            "marker": {
             "line": {
              "color": "#E5ECF6",
              "width": 0.5
             },
             "pattern": {
              "fillmode": "overlay",
              "size": 10,
              "solidity": 0.2
             }
            },
            "type": "bar"
           }
          ],
          "barpolar": [
           {
            "marker": {
             "line": {
              "color": "#E5ECF6",
              "width": 0.5
             },
             "pattern": {
              "fillmode": "overlay",
              "size": 10,
              "solidity": 0.2
             }
            },
            "type": "barpolar"
           }
          ],
          "carpet": [
           {
            "aaxis": {
             "endlinecolor": "#2a3f5f",
             "gridcolor": "white",
             "linecolor": "white",
             "minorgridcolor": "white",
             "startlinecolor": "#2a3f5f"
            },
            "baxis": {
             "endlinecolor": "#2a3f5f",
             "gridcolor": "white",
             "linecolor": "white",
             "minorgridcolor": "white",
             "startlinecolor": "#2a3f5f"
            },
            "type": "carpet"
           }
          ],
          "choropleth": [
           {
            "colorbar": {
             "outlinewidth": 0,
             "ticks": ""
            },
            "type": "choropleth"
           }
          ],
          "contour": [
           {
            "colorbar": {
             "outlinewidth": 0,
             "ticks": ""
            },
            "colorscale": [
             [
              0,
              "#0d0887"
             ],
             [
              0.1111111111111111,
              "#46039f"
             ],
             [
              0.2222222222222222,
              "#7201a8"
             ],
             [
              0.3333333333333333,
              "#9c179e"
             ],
             [
              0.4444444444444444,
              "#bd3786"
             ],
             [
              0.5555555555555556,
              "#d8576b"
             ],
             [
              0.6666666666666666,
              "#ed7953"
             ],
             [
              0.7777777777777778,
              "#fb9f3a"
             ],
             [
              0.8888888888888888,
              "#fdca26"
             ],
             [
              1,
              "#f0f921"
             ]
            ],
            "type": "contour"
           }
          ],
          "contourcarpet": [
           {
            "colorbar": {
             "outlinewidth": 0,
             "ticks": ""
            },
            "type": "contourcarpet"
           }
          ],
          "heatmap": [
           {
            "colorbar": {
             "outlinewidth": 0,
             "ticks": ""
            },
            "colorscale": [
             [
              0,
              "#0d0887"
             ],
             [
              0.1111111111111111,
              "#46039f"
             ],
             [
              0.2222222222222222,
              "#7201a8"
             ],
             [
              0.3333333333333333,
              "#9c179e"
             ],
             [
              0.4444444444444444,
              "#bd3786"
             ],
             [
              0.5555555555555556,
              "#d8576b"
             ],
             [
              0.6666666666666666,
              "#ed7953"
             ],
             [
              0.7777777777777778,
              "#fb9f3a"
             ],
             [
              0.8888888888888888,
              "#fdca26"
             ],
             [
              1,
              "#f0f921"
             ]
            ],
            "type": "heatmap"
           }
          ],
          "heatmapgl": [
           {
            "colorbar": {
             "outlinewidth": 0,
             "ticks": ""
            },
            "colorscale": [
             [
              0,
              "#0d0887"
             ],
             [
              0.1111111111111111,
              "#46039f"
             ],
             [
              0.2222222222222222,
              "#7201a8"
             ],
             [
              0.3333333333333333,
              "#9c179e"
             ],
             [
              0.4444444444444444,
              "#bd3786"
             ],
             [
              0.5555555555555556,
              "#d8576b"
             ],
             [
              0.6666666666666666,
              "#ed7953"
             ],
             [
              0.7777777777777778,
              "#fb9f3a"
             ],
             [
              0.8888888888888888,
              "#fdca26"
             ],
             [
              1,
              "#f0f921"
             ]
            ],
            "type": "heatmapgl"
           }
          ],
          "histogram": [
           {
            "marker": {
             "pattern": {
              "fillmode": "overlay",
              "size": 10,
              "solidity": 0.2
             }
            },
            "type": "histogram"
           }
          ],
          "histogram2d": [
           {
            "colorbar": {
             "outlinewidth": 0,
             "ticks": ""
            },
            "colorscale": [
             [
              0,
              "#0d0887"
             ],
             [
              0.1111111111111111,
              "#46039f"
             ],
             [
              0.2222222222222222,
              "#7201a8"
             ],
             [
              0.3333333333333333,
              "#9c179e"
             ],
             [
              0.4444444444444444,
              "#bd3786"
             ],
             [
              0.5555555555555556,
              "#d8576b"
             ],
             [
              0.6666666666666666,
              "#ed7953"
             ],
             [
              0.7777777777777778,
              "#fb9f3a"
             ],
             [
              0.8888888888888888,
              "#fdca26"
             ],
             [
              1,
              "#f0f921"
             ]
            ],
            "type": "histogram2d"
           }
          ],
          "histogram2dcontour": [
           {
            "colorbar": {
             "outlinewidth": 0,
             "ticks": ""
            },
            "colorscale": [
             [
              0,
              "#0d0887"
             ],
             [
              0.1111111111111111,
              "#46039f"
             ],
             [
              0.2222222222222222,
              "#7201a8"
             ],
             [
              0.3333333333333333,
              "#9c179e"
             ],
             [
              0.4444444444444444,
              "#bd3786"
             ],
             [
              0.5555555555555556,
              "#d8576b"
             ],
             [
              0.6666666666666666,
              "#ed7953"
             ],
             [
              0.7777777777777778,
              "#fb9f3a"
             ],
             [
              0.8888888888888888,
              "#fdca26"
             ],
             [
              1,
              "#f0f921"
             ]
            ],
            "type": "histogram2dcontour"
           }
          ],
          "mesh3d": [
           {
            "colorbar": {
             "outlinewidth": 0,
             "ticks": ""
            },
            "type": "mesh3d"
           }
          ],
          "parcoords": [
           {
            "line": {
             "colorbar": {
              "outlinewidth": 0,
              "ticks": ""
             }
            },
            "type": "parcoords"
           }
          ],
          "pie": [
           {
            "automargin": true,
            "type": "pie"
           }
          ],
          "scatter": [
           {
            "fillpattern": {
             "fillmode": "overlay",
             "size": 10,
             "solidity": 0.2
            },
            "type": "scatter"
           }
          ],
          "scatter3d": [
           {
            "line": {
             "colorbar": {
              "outlinewidth": 0,
              "ticks": ""
             }
            },
            "marker": {
             "colorbar": {
              "outlinewidth": 0,
              "ticks": ""
             }
            },
            "type": "scatter3d"
           }
          ],
          "scattercarpet": [
           {
            "marker": {
             "colorbar": {
              "outlinewidth": 0,
              "ticks": ""
             }
            },
            "type": "scattercarpet"
           }
          ],
          "scattergeo": [
           {
            "marker": {
             "colorbar": {
              "outlinewidth": 0,
              "ticks": ""
             }
            },
            "type": "scattergeo"
           }
          ],
          "scattergl": [
           {
            "marker": {
             "colorbar": {
              "outlinewidth": 0,
              "ticks": ""
             }
            },
            "type": "scattergl"
           }
          ],
          "scattermapbox": [
           {
            "marker": {
             "colorbar": {
              "outlinewidth": 0,
              "ticks": ""
             }
            },
            "type": "scattermapbox"
           }
          ],
          "scatterpolar": [
           {
            "marker": {
             "colorbar": {
              "outlinewidth": 0,
              "ticks": ""
             }
            },
            "type": "scatterpolar"
           }
          ],
          "scatterpolargl": [
           {
            "marker": {
             "colorbar": {
              "outlinewidth": 0,
              "ticks": ""
             }
            },
            "type": "scatterpolargl"
           }
          ],
          "scatterternary": [
           {
            "marker": {
             "colorbar": {
              "outlinewidth": 0,
              "ticks": ""
             }
            },
            "type": "scatterternary"
           }
          ],
          "surface": [
           {
            "colorbar": {
             "outlinewidth": 0,
             "ticks": ""
            },
            "colorscale": [
             [
              0,
              "#0d0887"
             ],
             [
              0.1111111111111111,
              "#46039f"
             ],
             [
              0.2222222222222222,
              "#7201a8"
             ],
             [
              0.3333333333333333,
              "#9c179e"
             ],
             [
              0.4444444444444444,
              "#bd3786"
             ],
             [
              0.5555555555555556,
              "#d8576b"
             ],
             [
              0.6666666666666666,
              "#ed7953"
             ],
             [
              0.7777777777777778,
              "#fb9f3a"
             ],
             [
              0.8888888888888888,
              "#fdca26"
             ],
             [
              1,
              "#f0f921"
             ]
            ],
            "type": "surface"
           }
          ],
          "table": [
           {
            "cells": {
             "fill": {
              "color": "#EBF0F8"
             },
             "line": {
              "color": "white"
             }
            },
            "header": {
             "fill": {
              "color": "#C8D4E3"
             },
             "line": {
              "color": "white"
             }
            },
            "type": "table"
           }
          ]
         },
         "layout": {
          "annotationdefaults": {
           "arrowcolor": "#2a3f5f",
           "arrowhead": 0,
           "arrowwidth": 1
          },
          "autotypenumbers": "strict",
          "coloraxis": {
           "colorbar": {
            "outlinewidth": 0,
            "ticks": ""
           }
          },
          "colorscale": {
           "diverging": [
            [
             0,
             "#8e0152"
            ],
            [
             0.1,
             "#c51b7d"
            ],
            [
             0.2,
             "#de77ae"
            ],
            [
             0.3,
             "#f1b6da"
            ],
            [
             0.4,
             "#fde0ef"
            ],
            [
             0.5,
             "#f7f7f7"
            ],
            [
             0.6,
             "#e6f5d0"
            ],
            [
             0.7,
             "#b8e186"
            ],
            [
             0.8,
             "#7fbc41"
            ],
            [
             0.9,
             "#4d9221"
            ],
            [
             1,
             "#276419"
            ]
           ],
           "sequential": [
            [
             0,
             "#0d0887"
            ],
            [
             0.1111111111111111,
             "#46039f"
            ],
            [
             0.2222222222222222,
             "#7201a8"
            ],
            [
             0.3333333333333333,
             "#9c179e"
            ],
            [
             0.4444444444444444,
             "#bd3786"
            ],
            [
             0.5555555555555556,
             "#d8576b"
            ],
            [
             0.6666666666666666,
             "#ed7953"
            ],
            [
             0.7777777777777778,
             "#fb9f3a"
            ],
            [
             0.8888888888888888,
             "#fdca26"
            ],
            [
             1,
             "#f0f921"
            ]
           ],
           "sequentialminus": [
            [
             0,
             "#0d0887"
            ],
            [
             0.1111111111111111,
             "#46039f"
            ],
            [
             0.2222222222222222,
             "#7201a8"
            ],
            [
             0.3333333333333333,
             "#9c179e"
            ],
            [
             0.4444444444444444,
             "#bd3786"
            ],
            [
             0.5555555555555556,
             "#d8576b"
            ],
            [
             0.6666666666666666,
             "#ed7953"
            ],
            [
             0.7777777777777778,
             "#fb9f3a"
            ],
            [
             0.8888888888888888,
             "#fdca26"
            ],
            [
             1,
             "#f0f921"
            ]
           ]
          },
          "colorway": [
           "#636efa",
           "#EF553B",
           "#00cc96",
           "#ab63fa",
           "#FFA15A",
           "#19d3f3",
           "#FF6692",
           "#B6E880",
           "#FF97FF",
           "#FECB52"
          ],
          "font": {
           "color": "#2a3f5f"
          },
          "geo": {
           "bgcolor": "white",
           "lakecolor": "white",
           "landcolor": "#E5ECF6",
           "showlakes": true,
           "showland": true,
           "subunitcolor": "white"
          },
          "hoverlabel": {
           "align": "left"
          },
          "hovermode": "closest",
          "mapbox": {
           "style": "light"
          },
          "paper_bgcolor": "white",
          "plot_bgcolor": "#E5ECF6",
          "polar": {
           "angularaxis": {
            "gridcolor": "white",
            "linecolor": "white",
            "ticks": ""
           },
           "bgcolor": "#E5ECF6",
           "radialaxis": {
            "gridcolor": "white",
            "linecolor": "white",
            "ticks": ""
           }
          },
          "scene": {
           "xaxis": {
            "backgroundcolor": "#E5ECF6",
            "gridcolor": "white",
            "gridwidth": 2,
            "linecolor": "white",
            "showbackground": true,
            "ticks": "",
            "zerolinecolor": "white"
           },
           "yaxis": {
            "backgroundcolor": "#E5ECF6",
            "gridcolor": "white",
            "gridwidth": 2,
            "linecolor": "white",
            "showbackground": true,
            "ticks": "",
            "zerolinecolor": "white"
           },
           "zaxis": {
            "backgroundcolor": "#E5ECF6",
            "gridcolor": "white",
            "gridwidth": 2,
            "linecolor": "white",
            "showbackground": true,
            "ticks": "",
            "zerolinecolor": "white"
           }
          },
          "shapedefaults": {
           "line": {
            "color": "#2a3f5f"
           }
          },
          "ternary": {
           "aaxis": {
            "gridcolor": "white",
            "linecolor": "white",
            "ticks": ""
           },
           "baxis": {
            "gridcolor": "white",
            "linecolor": "white",
            "ticks": ""
           },
           "bgcolor": "#E5ECF6",
           "caxis": {
            "gridcolor": "white",
            "linecolor": "white",
            "ticks": ""
           }
          },
          "title": {
           "x": 0.05
          },
          "xaxis": {
           "automargin": true,
           "gridcolor": "white",
           "linecolor": "white",
           "ticks": "",
           "title": {
            "standoff": 15
           },
           "zerolinecolor": "white",
           "zerolinewidth": 2
          },
          "yaxis": {
           "automargin": true,
           "gridcolor": "white",
           "linecolor": "white",
           "ticks": "",
           "title": {
            "standoff": 15
           },
           "zerolinecolor": "white",
           "zerolinewidth": 2
          }
         }
        },
        "title": {
         "text": "Distribution Success"
        },
        "xaxis": {
         "anchor": "y",
         "domain": [
          0,
          1
         ],
         "title": {
          "text": "relationships"
         }
        },
        "yaxis": {
         "anchor": "x",
         "domain": [
          0,
          1
         ],
         "title": {
          "text": "value"
         }
        }
       }
      }
     },
     "metadata": {},
     "output_type": "display_data"
    }
   ],
   "source": [
    "# We can check how the distribution goes along the relationships features\n",
    "\n",
    "fig = px.bar(rate_success, x='relationships', y=['Closed','Acquired'])\n",
    "color = sns.set_palette(\"Spectral\")\n",
    "fig.update_layout(barmode='group',bargroupgap=0.1)\n",
    "fig.update_layout(title_text='Distribution Success')\n",
    "fig.update_traces(marker=dict(color='lightsalmon'), selector=dict(name='Acquired'))\n",
    "fig.update_traces(marker=dict(color='indianred'), selector=dict(name='Closed'))\n",
    "\n",
    "adquired_trace = fig.data[1]\n",
    "adquired_trace.update(text=rate_success['Success Rate'], texttemplate='%{text:.0f}%', textposition='outside')\n",
    "fig.show()\n"
   ]
  },
  {
   "cell_type": "code",
   "execution_count": 88,
   "metadata": {},
   "outputs": [
    {
     "data": {
      "application/vnd.plotly.v1+json": {
       "config": {
        "plotlyServerURL": "https://plot.ly"
       },
       "data": [
        {
         "domain": {
          "x": [
           0,
           0.45
          ],
          "y": [
           0,
           1
          ]
         },
         "insidetextorientation": "radial",
         "labels": [
          "WA",
          "CA",
          "NY",
          "CA",
          "CA",
          "CA",
          "TX",
          "CA",
          "CA",
          "CO",
          "CA",
          "CA",
          "CA",
          "CA",
          "MA",
          "MA",
          "IN",
          "CA",
          "WA",
          "MA",
          "MA",
          "CA",
          "CA",
          "CA",
          "NC",
          "CA",
          "CA",
          "MA",
          "WA",
          "WA",
          "CA",
          "CA",
          "CA",
          "CT",
          "GA",
          "CA",
          "TX",
          "MD",
          "IL",
          "CA",
          "CA",
          "CA",
          "NJ",
          "PA",
          "CO",
          "PA",
          "VA",
          "CA",
          "CO",
          "CO",
          "CA",
          "NC",
          "CA",
          "MA",
          "GA",
          "NJ",
          "VA",
          "CA",
          "CA",
          "TX",
          "CA",
          "MA",
          "CA",
          "CA",
          "CA",
          "CO",
          "MA",
          "CA",
          "MA",
          "IL",
          "CA",
          "MA",
          "MN",
          "MI",
          "CA",
          "PA",
          "CA",
          "CA",
          "NC",
          "MA",
          "CA",
          "CA",
          "CA",
          "DC",
          "TX",
          "IL",
          "GA",
          "NY",
          "CA",
          "FL",
          "MA",
          "CA",
          "MN",
          "CA",
          "CA",
          "MA",
          "CA",
          "NJ",
          "MA",
          "MA",
          "MD",
          "CA",
          "NH",
          "MA",
          "PA",
          "ME",
          "NY",
          "OR",
          "CA",
          "MD",
          "MA",
          "AZ",
          "CA",
          "MN",
          "PA",
          "MD",
          "CA",
          "TN",
          "MA",
          "WA",
          "NM",
          "OH",
          "MD",
          "OR",
          "NY",
          "IL",
          "CO",
          "NJ",
          "MA",
          "MA",
          "NY",
          "TX",
          "NY",
          "CA",
          "MA",
          "MO",
          "UT",
          "VA",
          "CO",
          "MA",
          "CA",
          "TX",
          "CA",
          "MA",
          "VA",
          "GA",
          "CO",
          "CA",
          "OR",
          "CA",
          "NY",
          "CO",
          "TX",
          "MN",
          "NJ",
          "VA",
          "MI",
          "PA",
          "PA",
          "IL",
          "VA",
          "CA",
          "ID",
          "CA",
          "CT",
          "MN",
          "VA",
          "CA",
          "MD",
          "IL",
          "NV",
          "MD",
          "PA",
          "WI",
          "RI",
          "OH",
          "CO",
          "IL",
          "CA",
          "WV",
          "CA",
          "CT",
          "ME",
          "NY",
          "PA",
          "CA",
          "WA",
          "KY",
          "CA",
          "NJ",
          "OH",
          "CA",
          "NV",
          "MO",
          "VA",
          "PA",
          "FL",
          "NH",
          "NJ",
          "CA",
          "FL",
          "PA",
          "MA",
          "AR",
          "TX",
          "WA",
          "VA",
          "CA",
          "GA",
          "OH",
          "TN",
          "NY"
         ],
         "textinfo": "percent+label",
         "textposition": "inside",
         "type": "pie",
         "values": [
          5718914576,
          1562469129,
          1138449953,
          884903322,
          829550274,
          732227780,
          659317317,
          609475001,
          521330100,
          510000000,
          457699512,
          433388979,
          324926238,
          317700000,
          310136111,
          299595000,
          240401999,
          235600000,
          228869431,
          220381382,
          197180000,
          179900000,
          179677153,
          178196154,
          162264126,
          160770000,
          156000000,
          151074298,
          143000000,
          137000000,
          133170000,
          132467493,
          131164000,
          125000000,
          114181611,
          106100000,
          104220000,
          100000000,
          93012469,
          85300000,
          82700000,
          78573646,
          78500000,
          76075000,
          75000000,
          75000000,
          73000000,
          69000000,
          68400000,
          66744627,
          66700000,
          62900000,
          62008830,
          61000000,
          60704370,
          59000000,
          59000000,
          53818873,
          53000000,
          52650000,
          52150000,
          51700000,
          50539999,
          50000000,
          49510540,
          49372656,
          48730000,
          48164000,
          45480000,
          45000000,
          44671182,
          44100000,
          44000000,
          42700000,
          41757182,
          40750000,
          40500000,
          40300000,
          39352194,
          38500000,
          38000000,
          37891054,
          37000000,
          35464591,
          33000000,
          33000000,
          32000000,
          31800000,
          31550000,
          31478663,
          31000000,
          30000000,
          28200000,
          28000000,
          27690547,
          27101994,
          26200000,
          26100000,
          26000000,
          25413298,
          24500000,
          24500000,
          24300000,
          24200000,
          24150000,
          23400000,
          23000000,
          22900000,
          22487000,
          22250000,
          21000000,
          19000000,
          18494175,
          18400000,
          17100000,
          16980999,
          16500000,
          15961415,
          15000000,
          14000000,
          13875001,
          13222860,
          13000000,
          13000000,
          12831000,
          12800000,
          12010000,
          12000000,
          12000000,
          11600000,
          11300000,
          11000000,
          11000000,
          10500000,
          10500000,
          10000000,
          10000000,
          10000000,
          10000000,
          9650000,
          9400000,
          9000000,
          8930000,
          8400000,
          7516703,
          7300000,
          7228704,
          7000000,
          7000000,
          6875000,
          6700000,
          6500000,
          6000000,
          5550000,
          5500000,
          5000000,
          5000000,
          4900000,
          4746528,
          4700000,
          4500000,
          4476171,
          4000000,
          4000000,
          4000000,
          3500000,
          3350000,
          3100000,
          2600000,
          2408500,
          2387481,
          2257464,
          2100000,
          2000000,
          2000000,
          1910000,
          1900000,
          1226270,
          1050000,
          1000000,
          1000000,
          700000,
          662000,
          600000,
          500000,
          500000,
          350000,
          350000,
          300000,
          275000,
          250000,
          250000,
          250000,
          205000,
          200000,
          200000,
          125000,
          125000,
          125000,
          120000,
          100000,
          100000,
          53000,
          50000,
          30000,
          30000,
          20000,
          20000,
          19000,
          15000,
          15000,
          11000
         ]
        },
        {
         "domain": {
          "x": [
           0.55,
           1
          ],
          "y": [
           0,
           1
          ]
         },
         "insidetextorientation": "radial",
         "labels": [
          "Kirkland",
          "San Francisco",
          "New York",
          "Mountain View",
          "Santa Clara",
          "San Jose",
          "Austin",
          "San Diego",
          "Redwood City",
          "Loveland",
          "Palo Alto",
          "Sunnyvale",
          "San Mateo",
          "Menlo Park",
          "Waltham",
          "Cambridge",
          "Indianapolis",
          "Campbell",
          "Seattle",
          "Boston",
          "Burlington",
          "Santa Monica",
          "Milpitas",
          "Fremont",
          "Pittsboro",
          "Petaluma",
          "Brisbane",
          "Billerica",
          "Bothell",
          "Bellevue",
          "Los Angeles",
          "Calabasas",
          "Cupertino",
          "Bloomfield",
          "Atlanta",
          "Los Gatos",
          "Richardson",
          "Timonium",
          "Chicago",
          "San Bruno",
          "Berkeley",
          "Belmont",
          "Jersey City",
          "Philadelphia",
          "Englewood",
          "Conshohocken",
          "McLean",
          "Chicago",
          "Longmont",
          "Boulder",
          "Foster City",
          "Raleigh",
          "South San Francisco",
          "Acton",
          "NW Atlanta",
          "Hampton",
          "Dulles",
          "Arcadia",
          "San Carlos",
          "Addison",
          "Carlsbad",
          "Lexington",
          "Aliso Viejo",
          "Los Altos",
          "Irvine",
          "Denver",
          "Littleton",
          "Emeryville",
          "Boxborough",
          "Warrenville",
          "San Rafael",
          "Marlborough",
          "Saint Paul",
          "Canton",
          "Pleasanton",
          "Allentown",
          "La Jolla",
          "Larkspur",
          "Durham",
          "Needham",
          "Alameda",
          "Scotts Valley",
          "Playa Vista",
          "Washington",
          "Dallas",
          "Lisle",
          "Alpharetta",
          "Brooklyn",
          "El Segundo",
          "Tampa",
          "Woburn",
          "Sunnnyvale",
          "Plymouth",
          "Glendale",
          "Monterey Park",
          "Dedham",
          "Laguna Niguel",
          "Paramus",
          "North Billerica",
          "Chelmsford",
          "Chevy Chase",
          "Thousand Oaks",
          "Nashua",
          "Andover",
          "Bethlehem",
          "Tewksbury",
          "Rye Brook",
          "Portland",
          "El Segundo,",
          "Bethesda",
          "Westford",
          "Tempe",
          "Pasadena",
          "Golden Valley",
          "New Hope",
          "Columbia",
          "West Hollywood",
          "Nashville",
          "Maynard",
          "Redmond",
          "Albuquerque",
          "Cleveland",
          "Annapolis",
          "Lake Oswego",
          "NY",
          "Evanston",
          "Louisville",
          "Princeton",
          "Bedford",
          "North Reading",
          "New York City",
          "Houston",
          "Woodbury",
          "Moffett Field",
          "Framingham",
          "Kansas City",
          "Lindon",
          "Chantilly",
          "Greenwood Village",
          "Williamstown",
          "Solana Beach",
          "Plano",
          "Burlingame",
          "Lowell",
          "Viena",
          "Duluth",
          "Centennial",
          "Freedom",
          "Tualatin",
          "North Hollywood",
          "Long Island City",
          "Broomfield",
          "The Woodlands",
          "Minnetonka",
          "Somerset",
          "Charlottesville",
          "Bingham Farms",
          "Berwyn",
          "Pittsburgh",
          "Itasca",
          "Sterling",
          "Newport Beach",
          "Idaho Falls",
          "Yorba Linda",
          "Farmington",
          "Minneapolis",
          "Herndon",
          "Carpinteria",
          "Frederick",
          "Champaign",
          "Henderson",
          "College Park",
          "Lancaster",
          "Middleton",
          "Providence",
          "Cincinnati",
          "Avon",
          "Naperville",
          "Santa Barbara",
          "Kearneysville",
          "Santa Ana",
          "Westport",
          "West Newfield",
          "NYC",
          "Yardley",
          "Hollywood",
          "SPOKANE",
          "Louisville",
          "Torrance",
          "Red Bank",
          "Columbus",
          "San Franciso",
          "Las Vegas",
          "Saint Louis",
          "Vienna",
          "Bala Cynwyd",
          "Altamonte Springs",
          "Manchester",
          "Hillsborough",
          "Morgan Hill",
          "Weston",
          "West Chester",
          "Somerville",
          "Little Rock",
          "Waco",
          "Puyallup",
          "Arlington",
          "Oakland",
          "Lawrenceville",
          "Toledo",
          "Memphis",
          "Kenmore"
         ],
         "textinfo": "percent+label",
         "textposition": "inside",
         "type": "pie",
         "values": [
          5718914576,
          1562469129,
          1138449953,
          884903322,
          829550274,
          732227780,
          659317317,
          609475001,
          521330100,
          510000000,
          457699512,
          433388979,
          324926238,
          317700000,
          310136111,
          299595000,
          240401999,
          235600000,
          228869431,
          220381382,
          197180000,
          179900000,
          179677153,
          178196154,
          162264126,
          160770000,
          156000000,
          151074298,
          143000000,
          137000000,
          133170000,
          132467493,
          131164000,
          125000000,
          114181611,
          106100000,
          104220000,
          100000000,
          93012469,
          85300000,
          82700000,
          78573646,
          78500000,
          76075000,
          75000000,
          75000000,
          73000000,
          69000000,
          68400000,
          66744627,
          66700000,
          62900000,
          62008830,
          61000000,
          60704370,
          59000000,
          59000000,
          53818873,
          53000000,
          52650000,
          52150000,
          51700000,
          50539999,
          50000000,
          49510540,
          49372656,
          48730000,
          48164000,
          45480000,
          45000000,
          44671182,
          44100000,
          44000000,
          42700000,
          41757182,
          40750000,
          40500000,
          40300000,
          39352194,
          38500000,
          38000000,
          37891054,
          37000000,
          35464591,
          33000000,
          33000000,
          32000000,
          31800000,
          31550000,
          31478663,
          31000000,
          30000000,
          28200000,
          28000000,
          27690547,
          27101994,
          26200000,
          26100000,
          26000000,
          25413298,
          24500000,
          24500000,
          24300000,
          24200000,
          24150000,
          23400000,
          23000000,
          22900000,
          22487000,
          22250000,
          21000000,
          19000000,
          18494175,
          18400000,
          17100000,
          16980999,
          16500000,
          15961415,
          15000000,
          14000000,
          13875001,
          13222860,
          13000000,
          13000000,
          12831000,
          12800000,
          12010000,
          12000000,
          12000000,
          11600000,
          11300000,
          11000000,
          11000000,
          10500000,
          10500000,
          10000000,
          10000000,
          10000000,
          10000000,
          9650000,
          9400000,
          9000000,
          8930000,
          8400000,
          7516703,
          7300000,
          7228704,
          7000000,
          7000000,
          6875000,
          6700000,
          6500000,
          6000000,
          5550000,
          5500000,
          5000000,
          5000000,
          4900000,
          4746528,
          4700000,
          4500000,
          4476171,
          4000000,
          4000000,
          4000000,
          3500000,
          3350000,
          3100000,
          2600000,
          2408500,
          2387481,
          2257464,
          2100000,
          2000000,
          2000000,
          1910000,
          1900000,
          1226270,
          1050000,
          1000000,
          1000000,
          700000,
          662000,
          600000,
          500000,
          500000,
          350000,
          350000,
          300000,
          275000,
          250000,
          250000,
          250000,
          205000,
          200000,
          200000,
          125000,
          125000,
          125000,
          120000,
          100000,
          100000,
          53000,
          50000,
          30000,
          30000,
          20000,
          20000,
          19000,
          15000,
          15000,
          11000
         ]
        }
       ],
       "layout": {
        "height": 500,
        "template": {
         "data": {
          "bar": [
           {
            "error_x": {
             "color": "#f2f5fa"
            },
            "error_y": {
             "color": "#f2f5fa"
            },
            "marker": {
             "line": {
              "color": "rgb(17,17,17)",
              "width": 0.5
             },
             "pattern": {
              "fillmode": "overlay",
              "size": 10,
              "solidity": 0.2
             }
            },
            "type": "bar"
           }
          ],
          "barpolar": [
           {
            "marker": {
             "line": {
              "color": "rgb(17,17,17)",
              "width": 0.5
             },
             "pattern": {
              "fillmode": "overlay",
              "size": 10,
              "solidity": 0.2
             }
            },
            "type": "barpolar"
           }
          ],
          "carpet": [
           {
            "aaxis": {
             "endlinecolor": "#A2B1C6",
             "gridcolor": "#506784",
             "linecolor": "#506784",
             "minorgridcolor": "#506784",
             "startlinecolor": "#A2B1C6"
            },
            "baxis": {
             "endlinecolor": "#A2B1C6",
             "gridcolor": "#506784",
             "linecolor": "#506784",
             "minorgridcolor": "#506784",
             "startlinecolor": "#A2B1C6"
            },
            "type": "carpet"
           }
          ],
          "choropleth": [
           {
            "colorbar": {
             "outlinewidth": 0,
             "ticks": ""
            },
            "type": "choropleth"
           }
          ],
          "contour": [
           {
            "colorbar": {
             "outlinewidth": 0,
             "ticks": ""
            },
            "colorscale": [
             [
              0,
              "#0d0887"
             ],
             [
              0.1111111111111111,
              "#46039f"
             ],
             [
              0.2222222222222222,
              "#7201a8"
             ],
             [
              0.3333333333333333,
              "#9c179e"
             ],
             [
              0.4444444444444444,
              "#bd3786"
             ],
             [
              0.5555555555555556,
              "#d8576b"
             ],
             [
              0.6666666666666666,
              "#ed7953"
             ],
             [
              0.7777777777777778,
              "#fb9f3a"
             ],
             [
              0.8888888888888888,
              "#fdca26"
             ],
             [
              1,
              "#f0f921"
             ]
            ],
            "type": "contour"
           }
          ],
          "contourcarpet": [
           {
            "colorbar": {
             "outlinewidth": 0,
             "ticks": ""
            },
            "type": "contourcarpet"
           }
          ],
          "heatmap": [
           {
            "colorbar": {
             "outlinewidth": 0,
             "ticks": ""
            },
            "colorscale": [
             [
              0,
              "#0d0887"
             ],
             [
              0.1111111111111111,
              "#46039f"
             ],
             [
              0.2222222222222222,
              "#7201a8"
             ],
             [
              0.3333333333333333,
              "#9c179e"
             ],
             [
              0.4444444444444444,
              "#bd3786"
             ],
             [
              0.5555555555555556,
              "#d8576b"
             ],
             [
              0.6666666666666666,
              "#ed7953"
             ],
             [
              0.7777777777777778,
              "#fb9f3a"
             ],
             [
              0.8888888888888888,
              "#fdca26"
             ],
             [
              1,
              "#f0f921"
             ]
            ],
            "type": "heatmap"
           }
          ],
          "heatmapgl": [
           {
            "colorbar": {
             "outlinewidth": 0,
             "ticks": ""
            },
            "colorscale": [
             [
              0,
              "#0d0887"
             ],
             [
              0.1111111111111111,
              "#46039f"
             ],
             [
              0.2222222222222222,
              "#7201a8"
             ],
             [
              0.3333333333333333,
              "#9c179e"
             ],
             [
              0.4444444444444444,
              "#bd3786"
             ],
             [
              0.5555555555555556,
              "#d8576b"
             ],
             [
              0.6666666666666666,
              "#ed7953"
             ],
             [
              0.7777777777777778,
              "#fb9f3a"
             ],
             [
              0.8888888888888888,
              "#fdca26"
             ],
             [
              1,
              "#f0f921"
             ]
            ],
            "type": "heatmapgl"
           }
          ],
          "histogram": [
           {
            "marker": {
             "pattern": {
              "fillmode": "overlay",
              "size": 10,
              "solidity": 0.2
             }
            },
            "type": "histogram"
           }
          ],
          "histogram2d": [
           {
            "colorbar": {
             "outlinewidth": 0,
             "ticks": ""
            },
            "colorscale": [
             [
              0,
              "#0d0887"
             ],
             [
              0.1111111111111111,
              "#46039f"
             ],
             [
              0.2222222222222222,
              "#7201a8"
             ],
             [
              0.3333333333333333,
              "#9c179e"
             ],
             [
              0.4444444444444444,
              "#bd3786"
             ],
             [
              0.5555555555555556,
              "#d8576b"
             ],
             [
              0.6666666666666666,
              "#ed7953"
             ],
             [
              0.7777777777777778,
              "#fb9f3a"
             ],
             [
              0.8888888888888888,
              "#fdca26"
             ],
             [
              1,
              "#f0f921"
             ]
            ],
            "type": "histogram2d"
           }
          ],
          "histogram2dcontour": [
           {
            "colorbar": {
             "outlinewidth": 0,
             "ticks": ""
            },
            "colorscale": [
             [
              0,
              "#0d0887"
             ],
             [
              0.1111111111111111,
              "#46039f"
             ],
             [
              0.2222222222222222,
              "#7201a8"
             ],
             [
              0.3333333333333333,
              "#9c179e"
             ],
             [
              0.4444444444444444,
              "#bd3786"
             ],
             [
              0.5555555555555556,
              "#d8576b"
             ],
             [
              0.6666666666666666,
              "#ed7953"
             ],
             [
              0.7777777777777778,
              "#fb9f3a"
             ],
             [
              0.8888888888888888,
              "#fdca26"
             ],
             [
              1,
              "#f0f921"
             ]
            ],
            "type": "histogram2dcontour"
           }
          ],
          "mesh3d": [
           {
            "colorbar": {
             "outlinewidth": 0,
             "ticks": ""
            },
            "type": "mesh3d"
           }
          ],
          "parcoords": [
           {
            "line": {
             "colorbar": {
              "outlinewidth": 0,
              "ticks": ""
             }
            },
            "type": "parcoords"
           }
          ],
          "pie": [
           {
            "automargin": true,
            "type": "pie"
           }
          ],
          "scatter": [
           {
            "marker": {
             "line": {
              "color": "#283442"
             }
            },
            "type": "scatter"
           }
          ],
          "scatter3d": [
           {
            "line": {
             "colorbar": {
              "outlinewidth": 0,
              "ticks": ""
             }
            },
            "marker": {
             "colorbar": {
              "outlinewidth": 0,
              "ticks": ""
             }
            },
            "type": "scatter3d"
           }
          ],
          "scattercarpet": [
           {
            "marker": {
             "colorbar": {
              "outlinewidth": 0,
              "ticks": ""
             }
            },
            "type": "scattercarpet"
           }
          ],
          "scattergeo": [
           {
            "marker": {
             "colorbar": {
              "outlinewidth": 0,
              "ticks": ""
             }
            },
            "type": "scattergeo"
           }
          ],
          "scattergl": [
           {
            "marker": {
             "line": {
              "color": "#283442"
             }
            },
            "type": "scattergl"
           }
          ],
          "scattermapbox": [
           {
            "marker": {
             "colorbar": {
              "outlinewidth": 0,
              "ticks": ""
             }
            },
            "type": "scattermapbox"
           }
          ],
          "scatterpolar": [
           {
            "marker": {
             "colorbar": {
              "outlinewidth": 0,
              "ticks": ""
             }
            },
            "type": "scatterpolar"
           }
          ],
          "scatterpolargl": [
           {
            "marker": {
             "colorbar": {
              "outlinewidth": 0,
              "ticks": ""
             }
            },
            "type": "scatterpolargl"
           }
          ],
          "scatterternary": [
           {
            "marker": {
             "colorbar": {
              "outlinewidth": 0,
              "ticks": ""
             }
            },
            "type": "scatterternary"
           }
          ],
          "surface": [
           {
            "colorbar": {
             "outlinewidth": 0,
             "ticks": ""
            },
            "colorscale": [
             [
              0,
              "#0d0887"
             ],
             [
              0.1111111111111111,
              "#46039f"
             ],
             [
              0.2222222222222222,
              "#7201a8"
             ],
             [
              0.3333333333333333,
              "#9c179e"
             ],
             [
              0.4444444444444444,
              "#bd3786"
             ],
             [
              0.5555555555555556,
              "#d8576b"
             ],
             [
              0.6666666666666666,
              "#ed7953"
             ],
             [
              0.7777777777777778,
              "#fb9f3a"
             ],
             [
              0.8888888888888888,
              "#fdca26"
             ],
             [
              1,
              "#f0f921"
             ]
            ],
            "type": "surface"
           }
          ],
          "table": [
           {
            "cells": {
             "fill": {
              "color": "#506784"
             },
             "line": {
              "color": "rgb(17,17,17)"
             }
            },
            "header": {
             "fill": {
              "color": "#2a3f5f"
             },
             "line": {
              "color": "rgb(17,17,17)"
             }
            },
            "type": "table"
           }
          ]
         },
         "layout": {
          "annotationdefaults": {
           "arrowcolor": "#f2f5fa",
           "arrowhead": 0,
           "arrowwidth": 1
          },
          "autotypenumbers": "strict",
          "coloraxis": {
           "colorbar": {
            "outlinewidth": 0,
            "ticks": ""
           }
          },
          "colorscale": {
           "diverging": [
            [
             0,
             "#8e0152"
            ],
            [
             0.1,
             "#c51b7d"
            ],
            [
             0.2,
             "#de77ae"
            ],
            [
             0.3,
             "#f1b6da"
            ],
            [
             0.4,
             "#fde0ef"
            ],
            [
             0.5,
             "#f7f7f7"
            ],
            [
             0.6,
             "#e6f5d0"
            ],
            [
             0.7,
             "#b8e186"
            ],
            [
             0.8,
             "#7fbc41"
            ],
            [
             0.9,
             "#4d9221"
            ],
            [
             1,
             "#276419"
            ]
           ],
           "sequential": [
            [
             0,
             "#0d0887"
            ],
            [
             0.1111111111111111,
             "#46039f"
            ],
            [
             0.2222222222222222,
             "#7201a8"
            ],
            [
             0.3333333333333333,
             "#9c179e"
            ],
            [
             0.4444444444444444,
             "#bd3786"
            ],
            [
             0.5555555555555556,
             "#d8576b"
            ],
            [
             0.6666666666666666,
             "#ed7953"
            ],
            [
             0.7777777777777778,
             "#fb9f3a"
            ],
            [
             0.8888888888888888,
             "#fdca26"
            ],
            [
             1,
             "#f0f921"
            ]
           ],
           "sequentialminus": [
            [
             0,
             "#0d0887"
            ],
            [
             0.1111111111111111,
             "#46039f"
            ],
            [
             0.2222222222222222,
             "#7201a8"
            ],
            [
             0.3333333333333333,
             "#9c179e"
            ],
            [
             0.4444444444444444,
             "#bd3786"
            ],
            [
             0.5555555555555556,
             "#d8576b"
            ],
            [
             0.6666666666666666,
             "#ed7953"
            ],
            [
             0.7777777777777778,
             "#fb9f3a"
            ],
            [
             0.8888888888888888,
             "#fdca26"
            ],
            [
             1,
             "#f0f921"
            ]
           ]
          },
          "colorway": [
           "#636efa",
           "#EF553B",
           "#00cc96",
           "#ab63fa",
           "#FFA15A",
           "#19d3f3",
           "#FF6692",
           "#B6E880",
           "#FF97FF",
           "#FECB52"
          ],
          "font": {
           "color": "#f2f5fa"
          },
          "geo": {
           "bgcolor": "rgb(17,17,17)",
           "lakecolor": "rgb(17,17,17)",
           "landcolor": "rgb(17,17,17)",
           "showlakes": true,
           "showland": true,
           "subunitcolor": "#506784"
          },
          "hoverlabel": {
           "align": "left"
          },
          "hovermode": "closest",
          "mapbox": {
           "style": "dark"
          },
          "paper_bgcolor": "rgb(17,17,17)",
          "plot_bgcolor": "rgb(17,17,17)",
          "polar": {
           "angularaxis": {
            "gridcolor": "#506784",
            "linecolor": "#506784",
            "ticks": ""
           },
           "bgcolor": "rgb(17,17,17)",
           "radialaxis": {
            "gridcolor": "#506784",
            "linecolor": "#506784",
            "ticks": ""
           }
          },
          "scene": {
           "xaxis": {
            "backgroundcolor": "rgb(17,17,17)",
            "gridcolor": "#506784",
            "gridwidth": 2,
            "linecolor": "#506784",
            "showbackground": true,
            "ticks": "",
            "zerolinecolor": "#C8D4E3"
           },
           "yaxis": {
            "backgroundcolor": "rgb(17,17,17)",
            "gridcolor": "#506784",
            "gridwidth": 2,
            "linecolor": "#506784",
            "showbackground": true,
            "ticks": "",
            "zerolinecolor": "#C8D4E3"
           },
           "zaxis": {
            "backgroundcolor": "rgb(17,17,17)",
            "gridcolor": "#506784",
            "gridwidth": 2,
            "linecolor": "#506784",
            "showbackground": true,
            "ticks": "",
            "zerolinecolor": "#C8D4E3"
           }
          },
          "shapedefaults": {
           "line": {
            "color": "#f2f5fa"
           }
          },
          "sliderdefaults": {
           "bgcolor": "#C8D4E3",
           "bordercolor": "rgb(17,17,17)",
           "borderwidth": 1,
           "tickwidth": 0
          },
          "ternary": {
           "aaxis": {
            "gridcolor": "#506784",
            "linecolor": "#506784",
            "ticks": ""
           },
           "baxis": {
            "gridcolor": "#506784",
            "linecolor": "#506784",
            "ticks": ""
           },
           "bgcolor": "rgb(17,17,17)",
           "caxis": {
            "gridcolor": "#506784",
            "linecolor": "#506784",
            "ticks": ""
           }
          },
          "title": {
           "x": 0.05
          },
          "updatemenudefaults": {
           "bgcolor": "#506784",
           "borderwidth": 0
          },
          "xaxis": {
           "automargin": true,
           "gridcolor": "#283442",
           "linecolor": "#506784",
           "ticks": "",
           "title": {
            "standoff": 15
           },
           "zerolinecolor": "#283442",
           "zerolinewidth": 2
          },
          "yaxis": {
           "automargin": true,
           "gridcolor": "#283442",
           "linecolor": "#506784",
           "ticks": "",
           "title": {
            "standoff": 15
           },
           "zerolinecolor": "#283442",
           "zerolinewidth": 2
          }
         }
        },
        "title": {
         "text": "Total funds "
        },
        "width": 1300
       }
      }
     },
     "metadata": {},
     "output_type": "display_data"
    }
   ],
   "source": [
    "founds = startups.groupby(['state_code','city'])[['funding_total_usd']].sum().sort_values('funding_total_usd',ascending=False).reset_index()\n",
    "# We can see percentage of found quantity along States and cities\n",
    "import plotly.graph_objs as go\n",
    "\n",
    "fig = make_subplots(rows=1, cols=2, specs=[[{'type':'pie'}, {'type':'pie'}]])\n",
    "\n",
    "fig.add_trace(go.Pie(labels = founds.state_code.values, values=founds.funding_total_usd.values, ),1,1)\n",
    "\n",
    "fig.add_trace(go.Pie(labels = founds.city.values, values=founds.funding_total_usd.values, ),1,2)\n",
    "fig.update_traces(textposition='inside', textinfo='percent+label',insidetextorientation='radial')\n",
    "\n",
    "fig.update_layout(title_text='Total funds ', width=1300,height=500, template = 'plotly_dark')\n",
    "\n"
   ]
  },
  {
   "cell_type": "code",
   "execution_count": 89,
   "metadata": {},
   "outputs": [
    {
     "data": {
      "text/html": [
       "<div>\n",
       "<style scoped>\n",
       "    .dataframe tbody tr th:only-of-type {\n",
       "        vertical-align: middle;\n",
       "    }\n",
       "\n",
       "    .dataframe tbody tr th {\n",
       "        vertical-align: top;\n",
       "    }\n",
       "\n",
       "    .dataframe thead th {\n",
       "        text-align: right;\n",
       "    }\n",
       "</style>\n",
       "<table border=\"1\" class=\"dataframe\">\n",
       "  <thead>\n",
       "    <tr style=\"text-align: right;\">\n",
       "      <th></th>\n",
       "      <th>funding_rounds</th>\n",
       "      <th>status</th>\n",
       "      <th>count</th>\n",
       "    </tr>\n",
       "  </thead>\n",
       "  <tbody>\n",
       "    <tr>\n",
       "      <th>0</th>\n",
       "      <td>1</td>\n",
       "      <td>0</td>\n",
       "      <td>144</td>\n",
       "    </tr>\n",
       "    <tr>\n",
       "      <th>1</th>\n",
       "      <td>1</td>\n",
       "      <td>1</td>\n",
       "      <td>144</td>\n",
       "    </tr>\n",
       "    <tr>\n",
       "      <th>2</th>\n",
       "      <td>2</td>\n",
       "      <td>0</td>\n",
       "      <td>85</td>\n",
       "    </tr>\n",
       "    <tr>\n",
       "      <th>3</th>\n",
       "      <td>2</td>\n",
       "      <td>1</td>\n",
       "      <td>166</td>\n",
       "    </tr>\n",
       "    <tr>\n",
       "      <th>4</th>\n",
       "      <td>3</td>\n",
       "      <td>0</td>\n",
       "      <td>28</td>\n",
       "    </tr>\n",
       "    <tr>\n",
       "      <th>5</th>\n",
       "      <td>3</td>\n",
       "      <td>1</td>\n",
       "      <td>127</td>\n",
       "    </tr>\n",
       "    <tr>\n",
       "      <th>6</th>\n",
       "      <td>4</td>\n",
       "      <td>0</td>\n",
       "      <td>15</td>\n",
       "    </tr>\n",
       "    <tr>\n",
       "      <th>7</th>\n",
       "      <td>4</td>\n",
       "      <td>1</td>\n",
       "      <td>64</td>\n",
       "    </tr>\n",
       "    <tr>\n",
       "      <th>8</th>\n",
       "      <td>5</td>\n",
       "      <td>0</td>\n",
       "      <td>7</td>\n",
       "    </tr>\n",
       "    <tr>\n",
       "      <th>9</th>\n",
       "      <td>5</td>\n",
       "      <td>1</td>\n",
       "      <td>30</td>\n",
       "    </tr>\n",
       "    <tr>\n",
       "      <th>10</th>\n",
       "      <td>6</td>\n",
       "      <td>0</td>\n",
       "      <td>2</td>\n",
       "    </tr>\n",
       "    <tr>\n",
       "      <th>11</th>\n",
       "      <td>6</td>\n",
       "      <td>1</td>\n",
       "      <td>11</td>\n",
       "    </tr>\n",
       "    <tr>\n",
       "      <th>12</th>\n",
       "      <td>7</td>\n",
       "      <td>0</td>\n",
       "      <td>5</td>\n",
       "    </tr>\n",
       "    <tr>\n",
       "      <th>13</th>\n",
       "      <td>7</td>\n",
       "      <td>1</td>\n",
       "      <td>7</td>\n",
       "    </tr>\n",
       "    <tr>\n",
       "      <th>14</th>\n",
       "      <td>8</td>\n",
       "      <td>0</td>\n",
       "      <td>1</td>\n",
       "    </tr>\n",
       "    <tr>\n",
       "      <th>15</th>\n",
       "      <td>8</td>\n",
       "      <td>1</td>\n",
       "      <td>1</td>\n",
       "    </tr>\n",
       "    <tr>\n",
       "      <th>16</th>\n",
       "      <td>10</td>\n",
       "      <td>1</td>\n",
       "      <td>1</td>\n",
       "    </tr>\n",
       "  </tbody>\n",
       "</table>\n",
       "</div>"
      ],
      "text/plain": [
       "    funding_rounds  status  count\n",
       "0                1       0    144\n",
       "1                1       1    144\n",
       "2                2       0     85\n",
       "3                2       1    166\n",
       "4                3       0     28\n",
       "5                3       1    127\n",
       "6                4       0     15\n",
       "7                4       1     64\n",
       "8                5       0      7\n",
       "9                5       1     30\n",
       "10               6       0      2\n",
       "11               6       1     11\n",
       "12               7       0      5\n",
       "13               7       1      7\n",
       "14               8       0      1\n",
       "15               8       1      1\n",
       "16              10       1      1"
      ]
     },
     "execution_count": 89,
     "metadata": {},
     "output_type": "execute_result"
    }
   ],
   "source": [
    "status = startups.groupby(['funding_rounds','status'])[['status']].count().rename(columns={'status':'count'})\n",
    "status.reset_index(inplace=True)\n",
    "status"
   ]
  },
  {
   "cell_type": "code",
   "execution_count": 90,
   "metadata": {},
   "outputs": [
    {
     "data": {
      "application/vnd.plotly.v1+json": {
       "config": {
        "plotlyServerURL": "https://plot.ly"
       },
       "data": [
        {
         "marker": {
          "color": "indianred"
         },
         "name": "closed",
         "text": [
          144,
          144,
          85,
          166,
          28,
          127,
          15,
          64,
          7,
          30,
          2,
          11,
          5,
          7,
          1,
          1,
          1
         ],
         "textposition": "outside",
         "texttemplate": "%{text:.0f}",
         "type": "bar",
         "x": [
          1,
          2,
          3,
          4,
          5,
          6,
          7,
          8,
          10
         ],
         "y": [
          144,
          85,
          28,
          15,
          7,
          2,
          5,
          1,
          1
         ]
        },
        {
         "marker": {
          "color": "lightsalmon"
         },
         "name": "adquired",
         "text": [
          144,
          144,
          85,
          166,
          28,
          127,
          15,
          64,
          7,
          30,
          2,
          11,
          5,
          7,
          1,
          1,
          1
         ],
         "textposition": "outside",
         "texttemplate": "%{text:.0f}",
         "type": "bar",
         "x": [
          1,
          2,
          3,
          4,
          5,
          6,
          7,
          8
         ],
         "y": [
          144,
          166,
          127,
          64,
          30,
          11,
          7,
          1
         ]
        }
       ],
       "layout": {
        "barmode": "group",
        "template": {
         "data": {
          "bar": [
           {
            "error_x": {
             "color": "#2a3f5f"
            },
            "error_y": {
             "color": "#2a3f5f"
            },
            "marker": {
             "line": {
              "color": "#E5ECF6",
              "width": 0.5
             },
             "pattern": {
              "fillmode": "overlay",
              "size": 10,
              "solidity": 0.2
             }
            },
            "type": "bar"
           }
          ],
          "barpolar": [
           {
            "marker": {
             "line": {
              "color": "#E5ECF6",
              "width": 0.5
             },
             "pattern": {
              "fillmode": "overlay",
              "size": 10,
              "solidity": 0.2
             }
            },
            "type": "barpolar"
           }
          ],
          "carpet": [
           {
            "aaxis": {
             "endlinecolor": "#2a3f5f",
             "gridcolor": "white",
             "linecolor": "white",
             "minorgridcolor": "white",
             "startlinecolor": "#2a3f5f"
            },
            "baxis": {
             "endlinecolor": "#2a3f5f",
             "gridcolor": "white",
             "linecolor": "white",
             "minorgridcolor": "white",
             "startlinecolor": "#2a3f5f"
            },
            "type": "carpet"
           }
          ],
          "choropleth": [
           {
            "colorbar": {
             "outlinewidth": 0,
             "ticks": ""
            },
            "type": "choropleth"
           }
          ],
          "contour": [
           {
            "colorbar": {
             "outlinewidth": 0,
             "ticks": ""
            },
            "colorscale": [
             [
              0,
              "#0d0887"
             ],
             [
              0.1111111111111111,
              "#46039f"
             ],
             [
              0.2222222222222222,
              "#7201a8"
             ],
             [
              0.3333333333333333,
              "#9c179e"
             ],
             [
              0.4444444444444444,
              "#bd3786"
             ],
             [
              0.5555555555555556,
              "#d8576b"
             ],
             [
              0.6666666666666666,
              "#ed7953"
             ],
             [
              0.7777777777777778,
              "#fb9f3a"
             ],
             [
              0.8888888888888888,
              "#fdca26"
             ],
             [
              1,
              "#f0f921"
             ]
            ],
            "type": "contour"
           }
          ],
          "contourcarpet": [
           {
            "colorbar": {
             "outlinewidth": 0,
             "ticks": ""
            },
            "type": "contourcarpet"
           }
          ],
          "heatmap": [
           {
            "colorbar": {
             "outlinewidth": 0,
             "ticks": ""
            },
            "colorscale": [
             [
              0,
              "#0d0887"
             ],
             [
              0.1111111111111111,
              "#46039f"
             ],
             [
              0.2222222222222222,
              "#7201a8"
             ],
             [
              0.3333333333333333,
              "#9c179e"
             ],
             [
              0.4444444444444444,
              "#bd3786"
             ],
             [
              0.5555555555555556,
              "#d8576b"
             ],
             [
              0.6666666666666666,
              "#ed7953"
             ],
             [
              0.7777777777777778,
              "#fb9f3a"
             ],
             [
              0.8888888888888888,
              "#fdca26"
             ],
             [
              1,
              "#f0f921"
             ]
            ],
            "type": "heatmap"
           }
          ],
          "heatmapgl": [
           {
            "colorbar": {
             "outlinewidth": 0,
             "ticks": ""
            },
            "colorscale": [
             [
              0,
              "#0d0887"
             ],
             [
              0.1111111111111111,
              "#46039f"
             ],
             [
              0.2222222222222222,
              "#7201a8"
             ],
             [
              0.3333333333333333,
              "#9c179e"
             ],
             [
              0.4444444444444444,
              "#bd3786"
             ],
             [
              0.5555555555555556,
              "#d8576b"
             ],
             [
              0.6666666666666666,
              "#ed7953"
             ],
             [
              0.7777777777777778,
              "#fb9f3a"
             ],
             [
              0.8888888888888888,
              "#fdca26"
             ],
             [
              1,
              "#f0f921"
             ]
            ],
            "type": "heatmapgl"
           }
          ],
          "histogram": [
           {
            "marker": {
             "pattern": {
              "fillmode": "overlay",
              "size": 10,
              "solidity": 0.2
             }
            },
            "type": "histogram"
           }
          ],
          "histogram2d": [
           {
            "colorbar": {
             "outlinewidth": 0,
             "ticks": ""
            },
            "colorscale": [
             [
              0,
              "#0d0887"
             ],
             [
              0.1111111111111111,
              "#46039f"
             ],
             [
              0.2222222222222222,
              "#7201a8"
             ],
             [
              0.3333333333333333,
              "#9c179e"
             ],
             [
              0.4444444444444444,
              "#bd3786"
             ],
             [
              0.5555555555555556,
              "#d8576b"
             ],
             [
              0.6666666666666666,
              "#ed7953"
             ],
             [
              0.7777777777777778,
              "#fb9f3a"
             ],
             [
              0.8888888888888888,
              "#fdca26"
             ],
             [
              1,
              "#f0f921"
             ]
            ],
            "type": "histogram2d"
           }
          ],
          "histogram2dcontour": [
           {
            "colorbar": {
             "outlinewidth": 0,
             "ticks": ""
            },
            "colorscale": [
             [
              0,
              "#0d0887"
             ],
             [
              0.1111111111111111,
              "#46039f"
             ],
             [
              0.2222222222222222,
              "#7201a8"
             ],
             [
              0.3333333333333333,
              "#9c179e"
             ],
             [
              0.4444444444444444,
              "#bd3786"
             ],
             [
              0.5555555555555556,
              "#d8576b"
             ],
             [
              0.6666666666666666,
              "#ed7953"
             ],
             [
              0.7777777777777778,
              "#fb9f3a"
             ],
             [
              0.8888888888888888,
              "#fdca26"
             ],
             [
              1,
              "#f0f921"
             ]
            ],
            "type": "histogram2dcontour"
           }
          ],
          "mesh3d": [
           {
            "colorbar": {
             "outlinewidth": 0,
             "ticks": ""
            },
            "type": "mesh3d"
           }
          ],
          "parcoords": [
           {
            "line": {
             "colorbar": {
              "outlinewidth": 0,
              "ticks": ""
             }
            },
            "type": "parcoords"
           }
          ],
          "pie": [
           {
            "automargin": true,
            "type": "pie"
           }
          ],
          "scatter": [
           {
            "fillpattern": {
             "fillmode": "overlay",
             "size": 10,
             "solidity": 0.2
            },
            "type": "scatter"
           }
          ],
          "scatter3d": [
           {
            "line": {
             "colorbar": {
              "outlinewidth": 0,
              "ticks": ""
             }
            },
            "marker": {
             "colorbar": {
              "outlinewidth": 0,
              "ticks": ""
             }
            },
            "type": "scatter3d"
           }
          ],
          "scattercarpet": [
           {
            "marker": {
             "colorbar": {
              "outlinewidth": 0,
              "ticks": ""
             }
            },
            "type": "scattercarpet"
           }
          ],
          "scattergeo": [
           {
            "marker": {
             "colorbar": {
              "outlinewidth": 0,
              "ticks": ""
             }
            },
            "type": "scattergeo"
           }
          ],
          "scattergl": [
           {
            "marker": {
             "colorbar": {
              "outlinewidth": 0,
              "ticks": ""
             }
            },
            "type": "scattergl"
           }
          ],
          "scattermapbox": [
           {
            "marker": {
             "colorbar": {
              "outlinewidth": 0,
              "ticks": ""
             }
            },
            "type": "scattermapbox"
           }
          ],
          "scatterpolar": [
           {
            "marker": {
             "colorbar": {
              "outlinewidth": 0,
              "ticks": ""
             }
            },
            "type": "scatterpolar"
           }
          ],
          "scatterpolargl": [
           {
            "marker": {
             "colorbar": {
              "outlinewidth": 0,
              "ticks": ""
             }
            },
            "type": "scatterpolargl"
           }
          ],
          "scatterternary": [
           {
            "marker": {
             "colorbar": {
              "outlinewidth": 0,
              "ticks": ""
             }
            },
            "type": "scatterternary"
           }
          ],
          "surface": [
           {
            "colorbar": {
             "outlinewidth": 0,
             "ticks": ""
            },
            "colorscale": [
             [
              0,
              "#0d0887"
             ],
             [
              0.1111111111111111,
              "#46039f"
             ],
             [
              0.2222222222222222,
              "#7201a8"
             ],
             [
              0.3333333333333333,
              "#9c179e"
             ],
             [
              0.4444444444444444,
              "#bd3786"
             ],
             [
              0.5555555555555556,
              "#d8576b"
             ],
             [
              0.6666666666666666,
              "#ed7953"
             ],
             [
              0.7777777777777778,
              "#fb9f3a"
             ],
             [
              0.8888888888888888,
              "#fdca26"
             ],
             [
              1,
              "#f0f921"
             ]
            ],
            "type": "surface"
           }
          ],
          "table": [
           {
            "cells": {
             "fill": {
              "color": "#EBF0F8"
             },
             "line": {
              "color": "white"
             }
            },
            "header": {
             "fill": {
              "color": "#C8D4E3"
             },
             "line": {
              "color": "white"
             }
            },
            "type": "table"
           }
          ]
         },
         "layout": {
          "annotationdefaults": {
           "arrowcolor": "#2a3f5f",
           "arrowhead": 0,
           "arrowwidth": 1
          },
          "autotypenumbers": "strict",
          "coloraxis": {
           "colorbar": {
            "outlinewidth": 0,
            "ticks": ""
           }
          },
          "colorscale": {
           "diverging": [
            [
             0,
             "#8e0152"
            ],
            [
             0.1,
             "#c51b7d"
            ],
            [
             0.2,
             "#de77ae"
            ],
            [
             0.3,
             "#f1b6da"
            ],
            [
             0.4,
             "#fde0ef"
            ],
            [
             0.5,
             "#f7f7f7"
            ],
            [
             0.6,
             "#e6f5d0"
            ],
            [
             0.7,
             "#b8e186"
            ],
            [
             0.8,
             "#7fbc41"
            ],
            [
             0.9,
             "#4d9221"
            ],
            [
             1,
             "#276419"
            ]
           ],
           "sequential": [
            [
             0,
             "#0d0887"
            ],
            [
             0.1111111111111111,
             "#46039f"
            ],
            [
             0.2222222222222222,
             "#7201a8"
            ],
            [
             0.3333333333333333,
             "#9c179e"
            ],
            [
             0.4444444444444444,
             "#bd3786"
            ],
            [
             0.5555555555555556,
             "#d8576b"
            ],
            [
             0.6666666666666666,
             "#ed7953"
            ],
            [
             0.7777777777777778,
             "#fb9f3a"
            ],
            [
             0.8888888888888888,
             "#fdca26"
            ],
            [
             1,
             "#f0f921"
            ]
           ],
           "sequentialminus": [
            [
             0,
             "#0d0887"
            ],
            [
             0.1111111111111111,
             "#46039f"
            ],
            [
             0.2222222222222222,
             "#7201a8"
            ],
            [
             0.3333333333333333,
             "#9c179e"
            ],
            [
             0.4444444444444444,
             "#bd3786"
            ],
            [
             0.5555555555555556,
             "#d8576b"
            ],
            [
             0.6666666666666666,
             "#ed7953"
            ],
            [
             0.7777777777777778,
             "#fb9f3a"
            ],
            [
             0.8888888888888888,
             "#fdca26"
            ],
            [
             1,
             "#f0f921"
            ]
           ]
          },
          "colorway": [
           "#636efa",
           "#EF553B",
           "#00cc96",
           "#ab63fa",
           "#FFA15A",
           "#19d3f3",
           "#FF6692",
           "#B6E880",
           "#FF97FF",
           "#FECB52"
          ],
          "font": {
           "color": "#2a3f5f"
          },
          "geo": {
           "bgcolor": "white",
           "lakecolor": "white",
           "landcolor": "#E5ECF6",
           "showlakes": true,
           "showland": true,
           "subunitcolor": "white"
          },
          "hoverlabel": {
           "align": "left"
          },
          "hovermode": "closest",
          "mapbox": {
           "style": "light"
          },
          "paper_bgcolor": "white",
          "plot_bgcolor": "#E5ECF6",
          "polar": {
           "angularaxis": {
            "gridcolor": "white",
            "linecolor": "white",
            "ticks": ""
           },
           "bgcolor": "#E5ECF6",
           "radialaxis": {
            "gridcolor": "white",
            "linecolor": "white",
            "ticks": ""
           }
          },
          "scene": {
           "xaxis": {
            "backgroundcolor": "#E5ECF6",
            "gridcolor": "white",
            "gridwidth": 2,
            "linecolor": "white",
            "showbackground": true,
            "ticks": "",
            "zerolinecolor": "white"
           },
           "yaxis": {
            "backgroundcolor": "#E5ECF6",
            "gridcolor": "white",
            "gridwidth": 2,
            "linecolor": "white",
            "showbackground": true,
            "ticks": "",
            "zerolinecolor": "white"
           },
           "zaxis": {
            "backgroundcolor": "#E5ECF6",
            "gridcolor": "white",
            "gridwidth": 2,
            "linecolor": "white",
            "showbackground": true,
            "ticks": "",
            "zerolinecolor": "white"
           }
          },
          "shapedefaults": {
           "line": {
            "color": "#2a3f5f"
           }
          },
          "ternary": {
           "aaxis": {
            "gridcolor": "white",
            "linecolor": "white",
            "ticks": ""
           },
           "baxis": {
            "gridcolor": "white",
            "linecolor": "white",
            "ticks": ""
           },
           "bgcolor": "#E5ECF6",
           "caxis": {
            "gridcolor": "white",
            "linecolor": "white",
            "ticks": ""
           }
          },
          "title": {
           "x": 0.05
          },
          "xaxis": {
           "automargin": true,
           "gridcolor": "white",
           "linecolor": "white",
           "ticks": "",
           "title": {
            "standoff": 15
           },
           "zerolinecolor": "white",
           "zerolinewidth": 2
          },
          "yaxis": {
           "automargin": true,
           "gridcolor": "white",
           "linecolor": "white",
           "ticks": "",
           "title": {
            "standoff": 15
           },
           "zerolinecolor": "white",
           "zerolinewidth": 2
          }
         }
        },
        "title": {
         "text": "Nº of Relationships"
        },
        "xaxis": {
         "tickangle": -45
        }
       }
      }
     },
     "metadata": {},
     "output_type": "display_data"
    }
   ],
   "source": [
    "fig = go.Figure()\n",
    "fig.add_trace(go.Bar(\n",
    "    x=status['funding_rounds'][::2],\n",
    "    y=status['count'][::2],\n",
    "    name='closed',\n",
    "    marker_color='indianred'))\n",
    "fig.add_trace(go.Bar(\n",
    "    x=status['funding_rounds'][1::2],\n",
    "    y=status['count'][1::2].values,\n",
    "    name='adquired',\n",
    "    marker_color='lightsalmon'\n",
    "))\n",
    "fig.update_layout(title_text='Nº of Relationships')\n",
    "fig.update_traces(text=status['count'], texttemplate='%{text:.0f}', textposition='outside')\n",
    "fig.update_layout(barmode='group', xaxis_tickangle=-45)\n",
    "\n",
    "\n"
   ]
  },
  {
   "attachments": {},
   "cell_type": "markdown",
   "metadata": {},
   "source": [
    "## Feature Engineering"
   ]
  },
  {
   "cell_type": "code",
   "execution_count": 91,
   "metadata": {},
   "outputs": [
    {
     "data": {
      "text/plain": [
       "0       3\n",
       "1       9\n",
       "2       5\n",
       "3       5\n",
       "4       2\n",
       "       ..\n",
       "918     9\n",
       "919     1\n",
       "920     5\n",
       "921    12\n",
       "922     4\n",
       "Name: relationships, Length: 838, dtype: int64"
      ]
     },
     "execution_count": 91,
     "metadata": {},
     "output_type": "execute_result"
    }
   ],
   "source": [
    "startups['relationships']"
   ]
  },
  {
   "cell_type": "code",
   "execution_count": 92,
   "metadata": {},
   "outputs": [
    {
     "data": {
      "text/plain": [
       "1    230\n",
       "2    218\n",
       "3    164\n",
       "0    143\n",
       "4     54\n",
       "5     24\n",
       "6      4\n",
       "8      1\n",
       "Name: milestones, dtype: int64"
      ]
     },
     "execution_count": 92,
     "metadata": {},
     "output_type": "execute_result"
    }
   ],
   "source": [
    "startups['milestones'].value_counts()"
   ]
  },
  {
   "cell_type": "code",
   "execution_count": 93,
   "metadata": {},
   "outputs": [],
   "source": [
    "# Min max Scaller cause the values are too big\n",
    "from sklearn.preprocessing import MinMaxScaler\n",
    "\n",
    "scaler = MinMaxScaler()\n",
    "\n",
    "startups['funding_total_usd'] = scaler.fit_transform(startups['funding_total_usd'].values.reshape(-1, 1))"
   ]
  },
  {
   "cell_type": "code",
   "execution_count": 94,
   "metadata": {},
   "outputs": [],
   "source": [
    "from sklearn.preprocessing import LabelEncoder\n",
    "\n",
    "# Related with more relationships\n",
    "startups['relation10'] = np.where(startups['relationships'].isin(range(11,64)),1,0)\n",
    "\n",
    "# Has round A, B, C and D\n",
    "\n",
    "startups['Has_roundABCD'] = np.where((startups['has_roundA'] ==1) & (startups['has_roundB'] == 1) & (startups['has_roundA'] == 1) & (startups['has_roundA'] == 1), 1,0)\n",
    "\n",
    "# Has seed ?\n",
    "\n",
    "startups['VCAN'] = np.where ((startups['has_VC'] == 1) & (startups['has_angel']),1,0)\n",
    "\n",
    "# state\n",
    "\n",
    "le= LabelEncoder()\n",
    "\n",
    "le.fit(startups['state_code'])\n",
    "startups['state_code'] = le.transform(startups['state_code'])  # xgboost acepta strings ?\n",
    "\n",
    "# Nº Milestones per company\n",
    "startups['milesto-4'] = np.where(startups['milestones'].isin(range(1,4)),1,0)\n",
    "\n",
    "\n",
    "# How the seasons are correlated \n",
    "\n",
    "startups['month'] = startups['last_funding_at'].dt.month\n",
    "\n",
    "startups['autumn'] = np.where(startups['month'].isin([10,11,12]), 1, 0)\n",
    "startups['winter'] = np.where(startups['month'].isin([1,2,3]), 1, 0)\n",
    "startups['spring'] = np.where(startups['month'].isin([4,5,6]), 1, 0)\n",
    "startups['summer'] = np.where(startups['month'].isin([7,8,9]), 1, 0)\n",
    "\n",
    "# age of running\n",
    "\n",
    "startups['age-5'] = np.where(startups['age'].isin(np.arange(0,5,0.06)),1,0)\n",
    "startups['age+10'] = np.where(startups['age'].isin(np.arange(12,15,0.01)),1,0)\n",
    "\n",
    "# $ of funds \n",
    "\n",
    "startups['-5M'] = np.where(startups['funding_total_usd'].isin(np.arange(0,5*10**6)),1,0)\n",
    "startups['+5/10M'] = np.where(startups['funding_total_usd'].isin(np.arange(11*10**6)),1,0)\n",
    "#startups['>10/15M'] = np.where(startups['funding_total_usd'].isin(np.arange(100*10**6,200*10**6)),1,0)\n",
    "\n",
    "\n"
   ]
  },
  {
   "cell_type": "code",
   "execution_count": null,
   "metadata": {},
   "outputs": [],
   "source": []
  },
  {
   "cell_type": "code",
   "execution_count": 95,
   "metadata": {},
   "outputs": [
    {
     "ename": "IndentationError",
     "evalue": "unexpected indent (287094507.py, line 3)",
     "output_type": "error",
     "traceback": [
      "\u001b[0;36m  File \u001b[0;32m\"/var/folders/fh/hxrrvrn15b5_v0bjv8nbpw2w0000gp/T/ipykernel_73040/287094507.py\"\u001b[0;36m, line \u001b[0;32m3\u001b[0m\n\u001b[0;31m    'Top500', 'age', '>10relation', 'age_first_milestone_year',\u001b[0m\n\u001b[0m    ^\u001b[0m\n\u001b[0;31mIndentationError\u001b[0m\u001b[0;31m:\u001b[0m unexpected indent\n"
     ]
    }
   ],
   "source": [
    "plt.figure(figsize=(12,10))\n",
    "#sns.heatmap(startups[['status', 'relationships', 'age_last_milestone_year', 'milestones',\n",
    "       'Top500', 'age', '>10relation', 'age_first_milestone_year',\n",
    "       'Has_roundABCD', 'funding_rounds', 'has_roundB', 'milesto<4','>5-10M','+5M','funding_total_usd']].corr(), annot = True)"
   ]
  },
  {
   "cell_type": "code",
   "execution_count": null,
   "metadata": {},
   "outputs": [
    {
     "data": {
      "text/plain": [
       "837"
      ]
     },
     "execution_count": 50,
     "metadata": {},
     "output_type": "execute_result"
    }
   ],
   "source": [
    "len(startups['name'].unique())"
   ]
  },
  {
   "cell_type": "code",
   "execution_count": null,
   "metadata": {},
   "outputs": [
    {
     "data": {
      "text/plain": [
       "1    0.657518\n",
       "0    0.342482\n",
       "Name: status, dtype: float64"
      ]
     },
     "execution_count": 51,
     "metadata": {},
     "output_type": "execute_result"
    }
   ],
   "source": [
    "startups['status'].value_counts(normalize=True)"
   ]
  },
  {
   "cell_type": "code",
   "execution_count": null,
   "metadata": {},
   "outputs": [
    {
     "data": {
      "text/plain": [
       "Index(['iD', 'state_code', 'latitude', 'longitude', 'zip_code', 'city', 'name',\n",
       "       'founded_at', 'closed_at', 'first_funding_at', 'last_funding_at',\n",
       "       'age_first_funding_year', 'age_last_funding_year',\n",
       "       'age_first_milestone_year', 'age_last_milestone_year', 'relationships',\n",
       "       'funding_rounds', 'funding_total_usd', 'milestones', 'is_CA', 'is_NY',\n",
       "       'is_MA', 'is_TX', 'is_otherstate', 'category_code', 'is_software',\n",
       "       'is_web', 'is_mobile', 'is_enterprise', 'is_advertising',\n",
       "       'is_gamesvideo', 'is_ecommerce', 'is_biotech', 'is_consulting',\n",
       "       'is_othercategory', 'object_id', 'has_VC', 'has_angel', 'has_roundA',\n",
       "       'has_roundB', 'has_roundC', 'has_roundD', 'avg_participants', 'Top500',\n",
       "       'status', 'description', 'million', 'invested', 'Technology', 'Mobile',\n",
       "       'Gold', 'Hootest', 'Iphone', 'age', 'range_relation', '10relation',\n",
       "       'Has_roundABCD', 'VCAN', 'milesto-4', 'month', 'autumn', 'winter',\n",
       "       'spring', 'summer', 'age-5', 'age+10', '-5M', '+5/10M'],\n",
       "      dtype='object')"
      ]
     },
     "execution_count": 52,
     "metadata": {},
     "output_type": "execute_result"
    }
   ],
   "source": [
    "startups.columns"
   ]
  },
  {
   "cell_type": "code",
   "execution_count": null,
   "metadata": {},
   "outputs": [
    {
     "data": {
      "image/png": "[encoded data removed]",
      "text/plain": [
       "<Figure size 1200x800 with 2 Axes>"
      ]
     },
     "metadata": {},
     "output_type": "display_data"
    }
   ],
   "source": [
    "cols = startups[startups.columns].corr().nlargest(14,'status')['status'].index\n",
    "\n",
    "cm = np.corrcoef(startups[cols].values.T) \n",
    "\n",
    "plt.figure(figsize=(12,8))\n",
    "hm = sns.heatmap(cm, cbar=True, annot=True, cmap='YlOrBr', fmt='.2f', yticklabels=cols.values, xticklabels=cols.values)"
   ]
  },
  {
   "cell_type": "code",
   "execution_count": null,
   "metadata": {},
   "outputs": [
    {
     "data": {
      "text/plain": [
       "Index(['status', 'relationships', 'age_last_milestone_year', 'milestones',\n",
       "       'Top500', 'age', '10relation', 'age_first_milestone_year',\n",
       "       'Has_roundABCD', 'funding_rounds', 'has_roundB', 'milesto-4', 'million',\n",
       "       'avg_participants'],\n",
       "      dtype='object')"
      ]
     },
     "execution_count": 54,
     "metadata": {},
     "output_type": "execute_result"
    }
   ],
   "source": [
    "cols"
   ]
  },
  {
   "cell_type": "code",
   "execution_count": null,
   "metadata": {},
   "outputs": [
    {
     "data": {
      "text/plain": [
       "1    551\n",
       "0    287\n",
       "Name: status, dtype: int64"
      ]
     },
     "execution_count": 55,
     "metadata": {},
     "output_type": "execute_result"
    }
   ],
   "source": [
    "startups['status'].value_counts()"
   ]
  },
  {
   "cell_type": "code",
   "execution_count": null,
   "metadata": {},
   "outputs": [],
   "source": [
    "#from sklearn.utils import resample\n",
    "#def down_sample(df, ratio_classes: float):\n",
    "#    df_majority = df[df['status'] == 1]\n",
    "#    df_minority = df[df['status'] == 0]\n",
    "#    size_minority = int(len(df_minority) * ratio_classes)\n",
    "#\n",
    "#    df_majority_downsampled = resample(df_majority,\n",
    "#                                       replace = False,    # sample without replacement\n",
    "#                                       n_samples = size_minority,     # to match minority class\n",
    "#                                       random_state = 123) # reproducible results\n",
    "#    return pd.concat([df_majority_downsampled, df_minority])"
   ]
  },
  {
   "cell_type": "code",
   "execution_count": 124,
   "metadata": {},
   "outputs": [
    {
     "data": {
      "text/plain": [
       "Index(['status', 'relationships', 'age_last_milestone_year', 'milestones',\n",
       "       'Top500', 'age', 'age_first_milestone_year', 'funding_rounds',\n",
       "       'has_roundB', 'million', 'avg_participants', 'has_roundA'],\n",
       "      dtype='object')"
      ]
     },
     "execution_count": 124,
     "metadata": {},
     "output_type": "execute_result"
    }
   ],
   "source": [
    "cols"
   ]
  },
  {
   "cell_type": "code",
   "execution_count": 126,
   "metadata": {},
   "outputs": [],
   "source": [
    "closed = startups[startups['status']==0]\n",
    "acquired = startups[startups['status']==1]\n",
    "\n",
    "from sklearn.utils import resample\n",
    "\n",
    "no_credit_under = resample(acquired, replace=False, n_samples=287, random_state=25)\n",
    "startups = pd.concat([no_credit_under, closed])"
   ]
  },
  {
   "cell_type": "code",
   "execution_count": 98,
   "metadata": {},
   "outputs": [
    {
     "data": {
      "text/plain": [
       "1    287\n",
       "Name: status, dtype: int64"
      ]
     },
     "execution_count": 98,
     "metadata": {},
     "output_type": "execute_result"
    }
   ],
   "source": [
    "no_credit_under['status'].value_counts()"
   ]
  },
  {
   "cell_type": "code",
   "execution_count": 99,
   "metadata": {},
   "outputs": [
    {
     "data": {
      "text/plain": [
       "0    287\n",
       "Name: status, dtype: int64"
      ]
     },
     "execution_count": 99,
     "metadata": {},
     "output_type": "execute_result"
    }
   ],
   "source": [
    "closed['status'].value_counts()"
   ]
  },
  {
   "cell_type": "code",
   "execution_count": null,
   "metadata": {},
   "outputs": [],
   "source": []
  },
  {
   "cell_type": "code",
   "execution_count": 127,
   "metadata": {},
   "outputs": [],
   "source": [
    "X = startups[['relationships', 'age_last_milestone_year', 'milestones',\n",
    "       'Top500', 'age', 'age_first_milestone_year', 'funding_rounds',\n",
    "       'has_roundB', 'million', 'avg_participants', 'has_roundA']]\n",
    "\n",
    "y = startups['status']"
   ]
  },
  {
   "cell_type": "code",
   "execution_count": 101,
   "metadata": {},
   "outputs": [
    {
     "data": {
      "text/plain": [
       "1    287\n",
       "0    287\n",
       "Name: status, dtype: int64"
      ]
     },
     "execution_count": 101,
     "metadata": {},
     "output_type": "execute_result"
    }
   ],
   "source": [
    "y.value_counts()"
   ]
  },
  {
   "cell_type": "code",
   "execution_count": 128,
   "metadata": {},
   "outputs": [
    {
     "name": "stdout",
     "output_type": "stream",
     "text": [
      "(459, 11)\n",
      "(115, 11)\n",
      "(459,)\n",
      "(115,)\n"
     ]
    }
   ],
   "source": [
    "from sklearn.model_selection import train_test_split, GridSearchCV\n",
    "from sklearn.ensemble import RandomForestClassifier\n",
    "from sklearn.ensemble import GradientBoostingClassifier\n",
    "from sklearn.metrics import accuracy_score, recall_score,roc_auc_score, precision_score,precision_recall_curve, auc\n",
    "from imblearn import under_sampling, over_sampling\n",
    "from imblearn.over_sampling import SMOTE\n",
    "\n",
    "seed = 5\n",
    "\n",
    "X_train, X_test, y_train, y_test = train_test_split(X,y, test_size=0.2, random_state=seed)\n",
    "\n",
    "\n",
    "\n",
    "\n",
    "print(X_train.shape)\n",
    "print(X_test.shape)\n",
    "print(y_train.shape)\n",
    "print(y_test.shape)"
   ]
  },
  {
   "cell_type": "code",
   "execution_count": 64,
   "metadata": {},
   "outputs": [],
   "source": [
    "sm = SMOTE(random_state=2)\n",
    "#X_train_res, y_train_res = sm.fit_resample(X_train, y_train)"
   ]
  },
  {
   "cell_type": "code",
   "execution_count": null,
   "metadata": {},
   "outputs": [],
   "source": [
    "from sklearn.preprocessing import StandardScaler\n",
    "\n",
    "scaler = StandardScaler()\n",
    "X_train_scal = scaler.fit_transform(X_train)\n",
    "X_test_scal = scaler.transform(X_test)"
   ]
  },
  {
   "cell_type": "code",
   "execution_count": null,
   "metadata": {},
   "outputs": [
    {
     "data": {
      "text/plain": [
       "1    451\n",
       "0    219\n",
       "Name: status, dtype: int64"
      ]
     },
     "execution_count": 653,
     "metadata": {},
     "output_type": "execute_result"
    }
   ],
   "source": [
    "y_train.value_counts()"
   ]
  },
  {
   "attachments": {},
   "cell_type": "markdown",
   "metadata": {},
   "source": [
    "# RANDOM FOREST PRECISION"
   ]
  },
  {
   "cell_type": "code",
   "execution_count": null,
   "metadata": {},
   "outputs": [],
   "source": []
  },
  {
   "cell_type": "code",
   "execution_count": 103,
   "metadata": {},
   "outputs": [
    {
     "data": {
      "text/plain": [
       "{'max_depth': 7,\n",
       " 'max_features': 3,\n",
       " 'min_samples_split': 12,\n",
       " 'n_estimators': 160}"
      ]
     },
     "execution_count": 103,
     "metadata": {},
     "output_type": "execute_result"
    }
   ],
   "source": [
    "model = RandomForestClassifier()\n",
    "\n",
    "parameters = {\"n_estimators\":[160,170,180,190],\n",
    "              \"max_depth\": [5,6,7,8],\n",
    "              \"min_samples_split\": [10,11,12,13],\n",
    "              'max_features' :[3,4]\n",
    "              }\n",
    "\n",
    "rf_gs = GridSearchCV(model, parameters, cv=5, scoring=\"precision\")\n",
    "\n",
    "rf_gs.fit(X_train, y_train)\n",
    "rf_gs.best_params_"
   ]
  },
  {
   "cell_type": "code",
   "execution_count": 130,
   "metadata": {},
   "outputs": [
    {
     "name": "stdout",
     "output_type": "stream",
     "text": [
      "Accuracy 0.8\n",
      "Recall 0.8214285714285714\n",
      "Precision 0.7796610169491526\n"
     ]
    }
   ],
   "source": [
    "\n",
    "model_ran = RandomForestClassifier(max_depth=7, min_samples_split=12, n_estimators=160, max_features=3)\n",
    "\n",
    "model_ran.fit(X_train, y_train)\n",
    "\n",
    "y_pred_ran = model_ran.predict(X_test)\n",
    "\n",
    "print(\"Accuracy\", accuracy_score(y_test, y_pred_ran))\n",
    "print(\"Recall\", recall_score(y_test, y_pred_ran))\n",
    "print(\"Precision\", precision_score(y_test, y_pred_ran))\n",
    "\n",
    "\n",
    "accuracy_ran_pre = accuracy_score(y_test, y_pred_ran)\n",
    "\n",
    "recall_ran_pre = recall_score(y_test, y_pred_ran)\n",
    "\n",
    "precision_ran_pre = precision_score(y_test, y_pred_ran)"
   ]
  },
  {
   "cell_type": "code",
   "execution_count": 105,
   "metadata": {},
   "outputs": [
    {
     "name": "stdout",
     "output_type": "stream",
     "text": [
      "0.3035603371783495\n"
     ]
    }
   ],
   "source": [
    "precision, recall, thresholds = precision_recall_curve(y_test, y_pred_ran)\n",
    "\n",
    "precision_recall_ran = auc(precision, recall)\n",
    "\n",
    "print(precision_recall_ran)"
   ]
  },
  {
   "cell_type": "code",
   "execution_count": 106,
   "metadata": {},
   "outputs": [
    {
     "data": {
      "text/plain": [
       "array([1, 0, 1, 0, 0, 0, 0, 1, 1, 0, 0, 0, 0, 0, 1, 0, 1, 0, 0, 0, 1, 1,\n",
       "       0, 0, 1, 0, 0, 1, 0, 1, 0, 0, 0, 0, 0, 0, 1, 0, 0, 1, 1, 1, 0, 1,\n",
       "       0, 0, 0, 1, 1, 1, 1, 1, 1, 1, 0, 1, 1, 0, 0, 1, 1, 1, 0, 0, 1, 0,\n",
       "       0, 0, 0, 0, 0, 0, 0, 0, 0, 0, 1, 0, 1, 0, 0, 0, 1, 1, 0, 1, 1, 1,\n",
       "       1, 1, 0, 0, 1, 0, 0, 1, 0, 0, 1, 1, 0, 0, 1, 0, 0, 0, 0, 1, 1, 0,\n",
       "       0, 1, 1, 1, 1])"
      ]
     },
     "execution_count": 106,
     "metadata": {},
     "output_type": "execute_result"
    }
   ],
   "source": [
    "y_pred_ran"
   ]
  },
  {
   "cell_type": "code",
   "execution_count": 107,
   "metadata": {},
   "outputs": [
    {
     "data": {
      "text/plain": [
       "Text(0, 0.5, 'True positive rate')"
      ]
     },
     "execution_count": 107,
     "metadata": {},
     "output_type": "execute_result"
    },
    {
     "data": {
      "image/png": "[encoded data removed]",
      "text/plain": [
       "<Figure size 640x480 with 1 Axes>"
      ]
     },
     "metadata": {},
     "output_type": "display_data"
    }
   ],
   "source": [
    "from sklearn.metrics import roc_curve\n",
    "\n",
    "roc_auc_score(y_test, y_pred_ran)\n",
    "\n",
    "y_pred_proba = model_ran.predict_proba(X_test)\n",
    "\n",
    "fpr, tpr, thresholds = roc_curve(y_test, y_pred_proba[:,1])\n",
    "\n",
    "plt.plot(fpr,tpr)\n",
    "plt.xlabel(\"False positive rate\")\n",
    "plt.ylabel(\"True positive rate\")"
   ]
  },
  {
   "cell_type": "code",
   "execution_count": 108,
   "metadata": {},
   "outputs": [
    {
     "data": {
      "text/plain": [
       "array([[47, 12],\n",
       "       [19, 37]])"
      ]
     },
     "execution_count": 108,
     "metadata": {},
     "output_type": "execute_result"
    }
   ],
   "source": [
    "from sklearn.metrics import confusion_matrix,classification_report\n",
    "\n",
    "confusion_matrix(y_test, y_pred_ran)"
   ]
  },
  {
   "cell_type": "code",
   "execution_count": null,
   "metadata": {},
   "outputs": [
    {
     "data": {
      "text/plain": [
       "<AxesSubplot:>"
      ]
     },
     "execution_count": 87,
     "metadata": {},
     "output_type": "execute_result"
    },
    {
     "data": {
      "image/png": "[encoded data removed]",
      "text/plain": [
       "<Figure size 640x480 with 2 Axes>"
      ]
     },
     "metadata": {},
     "output_type": "display_data"
    }
   ],
   "source": [
    "sns.heatmap(confusion_matrix(y_test, y_pred_ran), annot=True)"
   ]
  },
  {
   "cell_type": "code",
   "execution_count": null,
   "metadata": {},
   "outputs": [
    {
     "data": {
      "text/plain": [
       "array(['relationships', 'milestones', 'Top500', 'age', '>10relation',\n",
       "       'age_first_milestone_year', 'Has_roundABCD', 'funding_rounds',\n",
       "       'has_roundB', 'milesto<4', 'million'], dtype=object)"
      ]
     },
     "execution_count": 79,
     "metadata": {},
     "output_type": "execute_result"
    }
   ],
   "source": [
    "X.columns.values"
   ]
  },
  {
   "cell_type": "code",
   "execution_count": null,
   "metadata": {},
   "outputs": [
    {
     "data": {
      "text/plain": [
       "array([0.26923077, 0.07692308, 0.04615385, 0.18461538, 0.10769231,\n",
       "       0.20769231, 0.02307692, 0.06923077, 0.        , 0.01538462,\n",
       "       0.        ])"
      ]
     },
     "execution_count": 207,
     "metadata": {},
     "output_type": "execute_result"
    }
   ],
   "source": [
    "model_ran.feature_importances_"
   ]
  },
  {
   "cell_type": "code",
   "execution_count": null,
   "metadata": {},
   "outputs": [
    {
     "data": {
      "text/plain": [
       "array([[3.03494998e-01, 6.96505002e-01],\n",
       "       [5.20789234e-01, 4.79210766e-01],\n",
       "       [3.81313329e-01, 6.18686671e-01],\n",
       "       [7.95282789e-01, 2.04717211e-01],\n",
       "       [9.83958485e-01, 1.60415153e-02],\n",
       "       [4.80278041e-01, 5.19721959e-01],\n",
       "       [7.36639506e-01, 2.63360494e-01],\n",
       "       [7.58513210e-01, 2.41486790e-01],\n",
       "       [4.56254847e-01, 5.43745153e-01],\n",
       "       [5.42554912e-01, 4.57445088e-01],\n",
       "       [9.18916634e-01, 8.10833658e-02],\n",
       "       [9.65020099e-01, 3.49799008e-02],\n",
       "       [6.48818411e-01, 3.51181589e-01],\n",
       "       [3.48645695e-01, 6.51354305e-01],\n",
       "       [3.84395479e-01, 6.15604521e-01],\n",
       "       [9.45124960e-01, 5.48750402e-02],\n",
       "       [5.71879013e-02, 9.42812099e-01],\n",
       "       [9.41731371e-01, 5.82686288e-02],\n",
       "       [9.76478317e-01, 2.35216834e-02],\n",
       "       [7.91340187e-01, 2.08659813e-01],\n",
       "       [1.00431659e-01, 8.99568341e-01],\n",
       "       [2.37017014e-01, 7.62982986e-01],\n",
       "       [5.17966795e-01, 4.82033205e-01],\n",
       "       [9.76478317e-01, 2.35216834e-02],\n",
       "       [5.35282670e-01, 4.64717330e-01],\n",
       "       [9.83199556e-01, 1.68004439e-02],\n",
       "       [3.96509801e-01, 6.03490199e-01],\n",
       "       [4.90442432e-01, 5.09557568e-01],\n",
       "       [9.74258671e-01, 2.57413294e-02],\n",
       "       [3.08364933e-01, 6.91635067e-01],\n",
       "       [8.83228620e-01, 1.16771380e-01],\n",
       "       [9.56763522e-01, 4.32364782e-02],\n",
       "       [7.41788211e-01, 2.58211789e-01],\n",
       "       [8.63858569e-01, 1.36141431e-01],\n",
       "       [6.60371450e-01, 3.39628550e-01],\n",
       "       [9.60326387e-01, 3.96736127e-02],\n",
       "       [8.57093672e-02, 9.14290633e-01],\n",
       "       [5.78689176e-01, 4.21310824e-01],\n",
       "       [9.97526548e-01, 2.47345247e-03],\n",
       "       [1.23558040e-01, 8.76441960e-01],\n",
       "       [2.23069022e-01, 7.76930978e-01],\n",
       "       [1.04173824e-01, 8.95826176e-01],\n",
       "       [9.85605681e-01, 1.43943191e-02],\n",
       "       [3.24448981e-01, 6.75551019e-01],\n",
       "       [7.88559179e-01, 2.11440821e-01],\n",
       "       [8.89277954e-01, 1.10722046e-01],\n",
       "       [7.58513210e-01, 2.41486790e-01],\n",
       "       [2.33145162e-01, 7.66854838e-01],\n",
       "       [4.69918307e-01, 5.30081693e-01],\n",
       "       [4.58145159e-01, 5.41854841e-01],\n",
       "       [4.47130838e-01, 5.52869162e-01],\n",
       "       [4.40470253e-01, 5.59529747e-01],\n",
       "       [2.06703698e-01, 7.93296302e-01],\n",
       "       [1.14605804e-01, 8.85394196e-01],\n",
       "       [9.46600241e-01, 5.33997589e-02],\n",
       "       [3.04409021e-01, 6.95590979e-01],\n",
       "       [6.20614756e-02, 9.37938524e-01],\n",
       "       [5.76480798e-01, 4.23519202e-01],\n",
       "       [6.94792203e-01, 3.05207797e-01],\n",
       "       [6.97181007e-02, 9.30281899e-01],\n",
       "       [3.29303879e-01, 6.70696121e-01],\n",
       "       [5.58635148e-01, 4.41364852e-01],\n",
       "       [6.55188958e-01, 3.44811042e-01],\n",
       "       [9.46366771e-01, 5.36332294e-02],\n",
       "       [2.32937201e-01, 7.67062799e-01],\n",
       "       [9.91265796e-01, 8.73420374e-03],\n",
       "       [6.32924104e-01, 3.67075896e-01],\n",
       "       [9.99583333e-01, 4.16666667e-04],\n",
       "       [9.71038691e-01, 2.89613085e-02],\n",
       "       [6.67220796e-01, 3.32779204e-01],\n",
       "       [9.55044261e-01, 4.49557392e-02],\n",
       "       [9.46600241e-01, 5.33997589e-02],\n",
       "       [6.05369315e-01, 3.94630685e-01],\n",
       "       [8.27470881e-01, 1.72529119e-01],\n",
       "       [5.29608910e-01, 4.70391090e-01],\n",
       "       [9.02373192e-01, 9.76268083e-02],\n",
       "       [4.16341612e-01, 5.83658388e-01],\n",
       "       [9.99519231e-01, 4.80769231e-04],\n",
       "       [7.98456847e-01, 2.01543153e-01],\n",
       "       [8.00444270e-01, 1.99555730e-01],\n",
       "       [7.88559179e-01, 2.11440821e-01],\n",
       "       [2.54073931e-01, 7.45926069e-01],\n",
       "       [5.22926139e-01, 4.77073861e-01],\n",
       "       [1.70469423e-01, 8.29530577e-01],\n",
       "       [5.44524450e-01, 4.55475550e-01],\n",
       "       [2.14192976e-01, 7.85807024e-01],\n",
       "       [1.34723579e-01, 8.65276421e-01],\n",
       "       [1.14175532e-01, 8.85824468e-01],\n",
       "       [1.28760073e-01, 8.71239927e-01],\n",
       "       [1.48009843e-01, 8.51990157e-01],\n",
       "       [9.99519231e-01, 4.80769231e-04],\n",
       "       [8.66821174e-01, 1.33178826e-01],\n",
       "       [1.49754278e-01, 8.50245722e-01],\n",
       "       [8.63952117e-01, 1.36047883e-01],\n",
       "       [9.96543040e-01, 3.45695971e-03],\n",
       "       [2.64502724e-01, 7.35497276e-01],\n",
       "       [8.67322376e-01, 1.32677624e-01],\n",
       "       [4.57564089e-01, 5.42435911e-01],\n",
       "       [3.81686157e-01, 6.18313843e-01],\n",
       "       [2.21219319e-01, 7.78780681e-01],\n",
       "       [9.46600241e-01, 5.33997589e-02],\n",
       "       [7.77455746e-01, 2.22544254e-01],\n",
       "       [1.94479229e-01, 8.05520771e-01],\n",
       "       [9.46600241e-01, 5.33997589e-02],\n",
       "       [9.04380730e-01, 9.56192698e-02],\n",
       "       [8.22734086e-01, 1.77265914e-01],\n",
       "       [9.59891197e-01, 4.01088032e-02],\n",
       "       [1.68336700e-01, 8.31663300e-01],\n",
       "       [5.74934848e-02, 9.42506515e-01],\n",
       "       [7.78164711e-01, 2.21835289e-01],\n",
       "       [8.97041225e-01, 1.02958775e-01],\n",
       "       [4.10767746e-01, 5.89232254e-01],\n",
       "       [4.98840035e-02, 9.50115997e-01],\n",
       "       [4.24949987e-01, 5.75050013e-01],\n",
       "       [2.83183591e-01, 7.16816409e-01]])"
      ]
     },
     "execution_count": 267,
     "metadata": {},
     "output_type": "execute_result"
    }
   ],
   "source": [
    "model_ran.predict_proba(X_test)"
   ]
  },
  {
   "attachments": {},
   "cell_type": "markdown",
   "metadata": {},
   "source": [
    "# GRADIENT BOOSTING PRECISION"
   ]
  },
  {
   "cell_type": "code",
   "execution_count": 109,
   "metadata": {},
   "outputs": [
    {
     "data": {
      "text/plain": [
       "GridSearchCV(cv=5, estimator=GradientBoostingClassifier(),\n",
       "             param_grid={'learning_rate': [0.1, 0.2], 'max_depth': [1, 2, 3],\n",
       "                         'min_samples_split': [2, 3, 4],\n",
       "                         'n_estimators': [30, 20, 50, 10]},\n",
       "             scoring='precision')"
      ]
     },
     "execution_count": 109,
     "metadata": {},
     "output_type": "execute_result"
    }
   ],
   "source": [
    "model = GradientBoostingClassifier()\n",
    "\n",
    "parameters = {\"n_estimators\":[30,20,50,10],\n",
    "              \"max_depth\": [1,2,3],\n",
    "              \"learning_rate\": [0.1,0.2],\n",
    "              \"min_samples_split\": [2,3,4]\n",
    "              }\n",
    "\n",
    "gb_gs = GridSearchCV(model, parameters, cv=5, scoring=\"precision\")\n",
    "\n",
    "gb_gs.fit(X_train, y_train)"
   ]
  },
  {
   "cell_type": "code",
   "execution_count": 110,
   "metadata": {},
   "outputs": [
    {
     "data": {
      "text/plain": [
       "{'learning_rate': 0.2,\n",
       " 'max_depth': 2,\n",
       " 'min_samples_split': 3,\n",
       " 'n_estimators': 50}"
      ]
     },
     "execution_count": 110,
     "metadata": {},
     "output_type": "execute_result"
    }
   ],
   "source": [
    "gb_gs.best_params_"
   ]
  },
  {
   "cell_type": "code",
   "execution_count": 134,
   "metadata": {},
   "outputs": [
    {
     "name": "stdout",
     "output_type": "stream",
     "text": [
      "Accuracy 0.7913043478260869\n",
      "Recall 0.8214285714285714\n",
      "Precision 0.7666666666666667\n"
     ]
    }
   ],
   "source": [
    "model_gra = GradientBoostingClassifier(learning_rate=0.2, max_depth=2, min_samples_split= 3, n_estimators= 50)\n",
    "\n",
    "model_gra.fit(X_train, y_train)\n",
    "\n",
    "y_pred_gra = model_gra.predict(X_test)\n",
    "\n",
    "print(\"Accuracy\", accuracy_score(y_test, y_pred_gra))\n",
    "print(\"Recall\", recall_score(y_test, y_pred_gra))\n",
    "print(\"Precision\", precision_score(y_test, y_pred_gra))\n",
    "\n",
    "accuracy_gra_pre = accuracy_score(y_test, y_pred_gra)\n",
    "\n",
    "recall_gra_pre = recall_score(y_test, y_pred_gra)\n",
    "\n",
    "precision_gra_pre = precision_score(y_test, y_pred_gra)"
   ]
  },
  {
   "cell_type": "code",
   "execution_count": 69,
   "metadata": {},
   "outputs": [
    {
     "data": {
      "text/plain": [
       "Text(0, 0.5, 'True positive rate')"
      ]
     },
     "execution_count": 69,
     "metadata": {},
     "output_type": "execute_result"
    },
    {
     "data": {
      "image/png": "[encoded data removed]",
      "text/plain": [
       "<Figure size 640x480 with 1 Axes>"
      ]
     },
     "metadata": {},
     "output_type": "display_data"
    }
   ],
   "source": [
    "from sklearn.metrics import roc_curve\n",
    "\n",
    "roc_auc_score(y_test, y_pred_gra)\n",
    "\n",
    "y_pred_proba = model_gra.predict_proba(X_test)\n",
    "\n",
    "fpr, tpr, thresholds = roc_curve(y_test, y_pred_proba[:,1])\n",
    "\n",
    "plt.plot(fpr,tpr)\n",
    "plt.xlabel(\"False positive rate\")\n",
    "plt.ylabel(\"True positive rate\")"
   ]
  },
  {
   "cell_type": "code",
   "execution_count": 70,
   "metadata": {},
   "outputs": [
    {
     "name": "stdout",
     "output_type": "stream",
     "text": [
      "0.3033879164313947\n"
     ]
    }
   ],
   "source": [
    "precision, recall, thresholds = precision_recall_curve(y_test, y_pred_gra)\n",
    "\n",
    "precision_recall_ran = auc(precision, recall)\n",
    "\n",
    "print(precision_recall_ran)"
   ]
  },
  {
   "cell_type": "code",
   "execution_count": 71,
   "metadata": {},
   "outputs": [
    {
     "data": {
      "text/plain": [
       "array([[44, 15],\n",
       "       [16, 40]])"
      ]
     },
     "execution_count": 71,
     "metadata": {},
     "output_type": "execute_result"
    }
   ],
   "source": [
    "from sklearn.metrics import confusion_matrix\n",
    "\n",
    "confusion_matrix(y_test, y_pred_gra)"
   ]
  },
  {
   "cell_type": "code",
   "execution_count": 72,
   "metadata": {},
   "outputs": [
    {
     "data": {
      "text/plain": [
       "<AxesSubplot:>"
      ]
     },
     "execution_count": 72,
     "metadata": {},
     "output_type": "execute_result"
    },
    {
     "data": {
      "image/png": "[encoded data removed]",
      "text/plain": [
       "<Figure size 640x480 with 2 Axes>"
      ]
     },
     "metadata": {},
     "output_type": "display_data"
    }
   ],
   "source": [
    "sns.heatmap(confusion_matrix(y_test, y_pred_gra), annot=True)"
   ]
  },
  {
   "cell_type": "code",
   "execution_count": 73,
   "metadata": {},
   "outputs": [
    {
     "data": {
      "text/plain": [
       "array([[0.42001801, 0.57998199],\n",
       "       [0.54295608, 0.45704392],\n",
       "       [0.42001801, 0.57998199],\n",
       "       [0.57943451, 0.42056549],\n",
       "       [0.7316003 , 0.2683997 ],\n",
       "       [0.42001801, 0.57998199],\n",
       "       [0.58894484, 0.41105516],\n",
       "       [0.70152148, 0.29847852],\n",
       "       [0.42001801, 0.57998199],\n",
       "       [0.42001801, 0.57998199],\n",
       "       [0.7316003 , 0.2683997 ],\n",
       "       [0.7316003 , 0.2683997 ],\n",
       "       [0.57943451, 0.42056549],\n",
       "       [0.42001801, 0.57998199],\n",
       "       [0.42001801, 0.57998199],\n",
       "       [0.58894484, 0.41105516],\n",
       "       [0.36005183, 0.63994817],\n",
       "       [0.70152148, 0.29847852],\n",
       "       [0.7316003 , 0.2683997 ],\n",
       "       [0.57943451, 0.42056549],\n",
       "       [0.36005183, 0.63994817],\n",
       "       [0.42001801, 0.57998199],\n",
       "       [0.54295608, 0.45704392],\n",
       "       [0.7316003 , 0.2683997 ],\n",
       "       [0.42001801, 0.57998199],\n",
       "       [0.7316003 , 0.2683997 ],\n",
       "       [0.42001801, 0.57998199],\n",
       "       [0.42001801, 0.57998199],\n",
       "       [0.7316003 , 0.2683997 ],\n",
       "       [0.42001801, 0.57998199],\n",
       "       [0.7316003 , 0.2683997 ],\n",
       "       [0.7316003 , 0.2683997 ],\n",
       "       [0.58894484, 0.41105516],\n",
       "       [0.7316003 , 0.2683997 ],\n",
       "       [0.58894484, 0.41105516],\n",
       "       [0.7316003 , 0.2683997 ],\n",
       "       [0.36005183, 0.63994817],\n",
       "       [0.42001801, 0.57998199],\n",
       "       [0.7316003 , 0.2683997 ],\n",
       "       [0.36005183, 0.63994817],\n",
       "       [0.42001801, 0.57998199],\n",
       "       [0.36005183, 0.63994817],\n",
       "       [0.7316003 , 0.2683997 ],\n",
       "       [0.42001801, 0.57998199],\n",
       "       [0.70152148, 0.29847852],\n",
       "       [0.58894484, 0.41105516],\n",
       "       [0.70152148, 0.29847852],\n",
       "       [0.36005183, 0.63994817],\n",
       "       [0.54295608, 0.45704392],\n",
       "       [0.42001801, 0.57998199],\n",
       "       [0.42001801, 0.57998199],\n",
       "       [0.36005183, 0.63994817],\n",
       "       [0.36005183, 0.63994817],\n",
       "       [0.36005183, 0.63994817],\n",
       "       [0.7316003 , 0.2683997 ],\n",
       "       [0.42001801, 0.57998199],\n",
       "       [0.36005183, 0.63994817],\n",
       "       [0.54295608, 0.45704392],\n",
       "       [0.54295608, 0.45704392],\n",
       "       [0.36005183, 0.63994817],\n",
       "       [0.42001801, 0.57998199],\n",
       "       [0.42001801, 0.57998199],\n",
       "       [0.58894484, 0.41105516],\n",
       "       [0.70152148, 0.29847852],\n",
       "       [0.36005183, 0.63994817],\n",
       "       [0.7316003 , 0.2683997 ],\n",
       "       [0.70152148, 0.29847852],\n",
       "       [0.7316003 , 0.2683997 ],\n",
       "       [0.7316003 , 0.2683997 ],\n",
       "       [0.42001801, 0.57998199],\n",
       "       [0.7316003 , 0.2683997 ],\n",
       "       [0.7316003 , 0.2683997 ],\n",
       "       [0.57943451, 0.42056549],\n",
       "       [0.7316003 , 0.2683997 ],\n",
       "       [0.57943451, 0.42056549],\n",
       "       [0.58894484, 0.41105516],\n",
       "       [0.42001801, 0.57998199],\n",
       "       [0.7316003 , 0.2683997 ],\n",
       "       [0.58894484, 0.41105516],\n",
       "       [0.52676574, 0.47323426],\n",
       "       [0.70152148, 0.29847852],\n",
       "       [0.36005183, 0.63994817],\n",
       "       [0.42001801, 0.57998199],\n",
       "       [0.36005183, 0.63994817],\n",
       "       [0.42001801, 0.57998199],\n",
       "       [0.36005183, 0.63994817],\n",
       "       [0.36005183, 0.63994817],\n",
       "       [0.36005183, 0.63994817],\n",
       "       [0.36005183, 0.63994817],\n",
       "       [0.36005183, 0.63994817],\n",
       "       [0.7316003 , 0.2683997 ],\n",
       "       [0.58894484, 0.41105516],\n",
       "       [0.36005183, 0.63994817],\n",
       "       [0.57943451, 0.42056549],\n",
       "       [0.7316003 , 0.2683997 ],\n",
       "       [0.42001801, 0.57998199],\n",
       "       [0.7316003 , 0.2683997 ],\n",
       "       [0.42001801, 0.57998199],\n",
       "       [0.36005183, 0.63994817],\n",
       "       [0.36005183, 0.63994817],\n",
       "       [0.7316003 , 0.2683997 ],\n",
       "       [0.70152148, 0.29847852],\n",
       "       [0.36005183, 0.63994817],\n",
       "       [0.7316003 , 0.2683997 ],\n",
       "       [0.7316003 , 0.2683997 ],\n",
       "       [0.58894484, 0.41105516],\n",
       "       [0.7316003 , 0.2683997 ],\n",
       "       [0.36005183, 0.63994817],\n",
       "       [0.36005183, 0.63994817],\n",
       "       [0.58894484, 0.41105516],\n",
       "       [0.57943451, 0.42056549],\n",
       "       [0.42001801, 0.57998199],\n",
       "       [0.36005183, 0.63994817],\n",
       "       [0.42001801, 0.57998199],\n",
       "       [0.42001801, 0.57998199]])"
      ]
     },
     "execution_count": 73,
     "metadata": {},
     "output_type": "execute_result"
    }
   ],
   "source": [
    "model_gra.predict_proba(X_test)"
   ]
  },
  {
   "attachments": {},
   "cell_type": "markdown",
   "metadata": {},
   "source": [
    "# ADA BOOST"
   ]
  },
  {
   "cell_type": "code",
   "execution_count": 112,
   "metadata": {},
   "outputs": [
    {
     "data": {
      "text/plain": [
       "{'learning_rate': 0.2, 'n_estimators': 50, 'random_state': 10}"
      ]
     },
     "execution_count": 112,
     "metadata": {},
     "output_type": "execute_result"
    }
   ],
   "source": [
    "from sklearn.ensemble import AdaBoostClassifier\n",
    "\n",
    "model = AdaBoostClassifier()\n",
    "\n",
    "parameters = {\"n_estimators\":[23,30,40,50,60,70,80,90],\n",
    "              \"learning_rate\": [0.1,0.2],\n",
    "              \"random_state\": [10,20,23]\n",
    "              }\n",
    "\n",
    "ada_cl = GridSearchCV(model, parameters, cv=5, scoring=\"precision\")\n",
    "\n",
    "ada_cl.fit(X_train, y_train)\n",
    "ada_cl.best_params_"
   ]
  },
  {
   "cell_type": "code",
   "execution_count": 136,
   "metadata": {},
   "outputs": [
    {
     "name": "stdout",
     "output_type": "stream",
     "text": [
      "Accuracy 0.8\n",
      "Recall 0.8035714285714286\n",
      "Precision 0.7894736842105263\n"
     ]
    }
   ],
   "source": [
    "model = AdaBoostClassifier(learning_rate=0.2, n_estimators=50)\n",
    "\n",
    "model.fit(X_train, y_train)\n",
    "\n",
    "y_pred_ada = model.predict(X_test)\n",
    "\n",
    "print(\"Accuracy\", accuracy_score(y_test, y_pred_ada))\n",
    "print(\"Recall\", recall_score(y_test, y_pred_ada))\n",
    "print(\"Precision\", precision_score(y_test, y_pred_ada))\n",
    "\n",
    "\n",
    "accuracy_ada_pre = accuracy_score(y_test, y_pred_ada)\n",
    "\n",
    "recall_ada_pre = recall_score(y_test, y_pred_ada)\n",
    "\n",
    "precision_ada_pre = precision_score(y_test, y_pred_ada)\n"
   ]
  },
  {
   "cell_type": "code",
   "execution_count": 76,
   "metadata": {},
   "outputs": [
    {
     "data": {
      "text/plain": [
       "array([[47, 12],\n",
       "       [16, 40]])"
      ]
     },
     "execution_count": 76,
     "metadata": {},
     "output_type": "execute_result"
    }
   ],
   "source": [
    "from sklearn.metrics import confusion_matrix\n",
    "\n",
    "confusion_matrix(y_test, y_pred_ada)"
   ]
  },
  {
   "attachments": {},
   "cell_type": "markdown",
   "metadata": {},
   "source": [
    "# XGB CLASS"
   ]
  },
  {
   "cell_type": "code",
   "execution_count": 116,
   "metadata": {},
   "outputs": [
    {
     "data": {
      "text/plain": [
       "{'max_depth': 3, 'n_estimators': 30}"
      ]
     },
     "execution_count": 116,
     "metadata": {},
     "output_type": "execute_result"
    }
   ],
   "source": [
    "from sklearn.model_selection import cross_val_score\n",
    "\n",
    "from xgboost import XGBClassifier\n",
    "\n",
    "model = XGBClassifier()\n",
    "\n",
    "parameters = {\"n_estimators\":[23,30,40,50],\n",
    "              \"max_depth\": [1,2,3]\n",
    "              }\n",
    "\n",
    "xgb_cl = GridSearchCV(model, parameters, cv=5, scoring=\"precision\",error_score='raise')\n",
    "\n",
    "xgb_cl.fit(X_train, y_train)\n",
    "xgb_cl.best_params_"
   ]
  },
  {
   "cell_type": "code",
   "execution_count": 137,
   "metadata": {},
   "outputs": [
    {
     "name": "stdout",
     "output_type": "stream",
     "text": [
      "[12:00:53] WARNING: /Users/runner/work/xgboost/xgboost/python-package/build/temp.macosx-10.9-x86_64-cpython-37/xgboost/src/learner.cc:627: \n",
      "Parameters: { \"class_weight\" } might not be used.\n",
      "\n",
      "  This could be a false alarm, with some parameters getting used by language bindings but\n",
      "  then being mistakenly passed down to XGBoost core, or some parameter actually being used\n",
      "  but getting flagged wrongly here. Please open an issue if you find any such cases.\n",
      "\n",
      "\n",
      "Accuracy 0.808695652173913\n",
      "Recall 0.8392857142857143\n",
      "Precision 0.7833333333333333\n"
     ]
    }
   ],
   "source": [
    "\n",
    "from xgboost import XGBRFClassifier\n",
    "\n",
    "xgb_cl = XGBRFClassifier(n_estimators=30,max_depth=3, random_state=seed, booster='gbtree', class_weight = 'balanced')\n",
    "xgb_cl.fit(X_train, y_train)\n",
    "\n",
    "y_pred_xgb = xgb_cl.predict(X_test)\n",
    "\n",
    "print(\"Accuracy\", accuracy_score(y_test, y_pred_xgb))\n",
    "print(\"Recall\", recall_score(y_test, y_pred_xgb))\n",
    "print(\"Precision\", precision_score(y_test, y_pred_xgb))\n",
    "\n",
    "\n",
    "accuracy_xgb_re = accuracy_score(y_test, y_pred_xgb)\n",
    "\n",
    "recall_xgb_re = recall_score(y_test, y_pred_xgb)\n",
    "\n",
    "precision_xgb_re = precision_score(y_test, y_pred_xgb)\n"
   ]
  },
  {
   "cell_type": "code",
   "execution_count": 79,
   "metadata": {},
   "outputs": [
    {
     "data": {
      "text/plain": [
       "Text(0, 0.5, 'True positive rate')"
      ]
     },
     "execution_count": 79,
     "metadata": {},
     "output_type": "execute_result"
    },
    {
     "data": {
      "image/png": "[encoded data removed]",
      "text/plain": [
       "<Figure size 640x480 with 1 Axes>"
      ]
     },
     "metadata": {},
     "output_type": "display_data"
    }
   ],
   "source": [
    "from sklearn.metrics import roc_curve\n",
    "\n",
    "roc_auc_score(y_test, y_pred_xgb)\n",
    "\n",
    "y_pred_proba = xgb_cl.predict_proba(X_test)\n",
    "\n",
    "fpr, tpr, thresholds = roc_curve(y_test, y_pred_proba[:,1])\n",
    "\n",
    "plt.plot(fpr,tpr)\n",
    "plt.xlabel(\"False positive rate\")\n",
    "plt.ylabel(\"True positive rate\")"
   ]
  },
  {
   "cell_type": "code",
   "execution_count": 80,
   "metadata": {},
   "outputs": [
    {
     "data": {
      "text/plain": [
       "array([[44, 15],\n",
       "       [16, 40]])"
      ]
     },
     "execution_count": 80,
     "metadata": {},
     "output_type": "execute_result"
    }
   ],
   "source": [
    "from sklearn.metrics import confusion_matrix\n",
    "\n",
    "confusion_matrix(y_test, y_pred_xgb)"
   ]
  },
  {
   "attachments": {},
   "cell_type": "markdown",
   "metadata": {},
   "source": [
    "# KNN"
   ]
  },
  {
   "cell_type": "code",
   "execution_count": 120,
   "metadata": {},
   "outputs": [
    {
     "data": {
      "text/plain": [
       "{'algorithm': 'ball_tree',\n",
       " 'leaf_size': 10,\n",
       " 'metric': 'chebyshev',\n",
       " 'n_neighbors': 2,\n",
       " 'p': 1,\n",
       " 'weights': 'uniform'}"
      ]
     },
     "execution_count": 120,
     "metadata": {},
     "output_type": "execute_result"
    }
   ],
   "source": [
    "from sklearn.neighbors import KNeighborsClassifier\n",
    "\n",
    "model = KNeighborsClassifier()\n",
    "\n",
    "parameters = {\"n_neighbors\":range(1,10),\n",
    "              \"weights\": [\"uniform\", \"distance\"],\n",
    "              \"p\": [1, 2],\n",
    "              \"algorithm\": [\"auto\", \"ball_tree\", \"kd_tree\", \"brute\"],\n",
    "              \"leaf_size\": [10, 20, 30],\n",
    "              \"metric\": [\"euclidean\", \"manhattan\", \"chebyshev\"]\n",
    "              }\n",
    "\n",
    "xgb_cl = GridSearchCV(model, parameters, cv=5, scoring=\"precision\",error_score='raise')\n",
    "\n",
    "xgb_cl.fit(X_train, y_train)\n",
    "xgb_cl.best_params_"
   ]
  },
  {
   "cell_type": "code",
   "execution_count": 138,
   "metadata": {},
   "outputs": [
    {
     "name": "stdout",
     "output_type": "stream",
     "text": [
      "Accuracy of K-NN classifier on training set: 0.86\n",
      "Accuracy of K-NN classifier on test set: 0.71\n"
     ]
    }
   ],
   "source": [
    "\n",
    "knn = KNeighborsClassifier(\n",
    " leaf_size= 30,\n",
    " metric= 'chebyshev',\n",
    " n_neighbors=2,\n",
    " p= 1)\n",
    "\n",
    "knn.fit(X_train, y_train)\n",
    "\n",
    "print('Accuracy of K-NN classifier on training set: {:.2f}'\n",
    "     .format(knn.score(X_train, y_train)))\n",
    "print('Accuracy of K-NN classifier on test set: {:.2f}'\n",
    "     .format(knn.score(X_test, y_test)))"
   ]
  },
  {
   "cell_type": "code",
   "execution_count": 140,
   "metadata": {},
   "outputs": [
    {
     "name": "stdout",
     "output_type": "stream",
     "text": [
      "[[49 10]\n",
      " [23 33]]\n",
      "              precision    recall  f1-score   support\n",
      "\n",
      "           0       0.68      0.83      0.75        59\n",
      "           1       0.77      0.59      0.67        56\n",
      "\n",
      "    accuracy                           0.71       115\n",
      "   macro avg       0.72      0.71      0.71       115\n",
      "weighted avg       0.72      0.71      0.71       115\n",
      "\n",
      "0.7674418604651163\n",
      "0.5892857142857143\n"
     ]
    }
   ],
   "source": [
    "from sklearn.metrics import confusion_matrix, classification_report\n",
    "\n",
    "pred = knn.predict(X_test)\n",
    "print(confusion_matrix(y_test, pred))\n",
    "print(classification_report(y_test, pred))\n",
    "\n",
    "print(precision_score(y_test, pred))\n",
    "\n",
    "print(recall_score(y_test, pred))\n",
    "\n",
    "recall_knn_re = recall_score(y_test, pred)\n",
    "\n",
    "precision_knn_re = precision_score(y_test, pred)\n"
   ]
  },
  {
   "cell_type": "code",
   "execution_count": 123,
   "metadata": {},
   "outputs": [
    {
     "data": {
      "text/html": [
       "<div>\n",
       "<style scoped>\n",
       "    .dataframe tbody tr th:only-of-type {\n",
       "        vertical-align: middle;\n",
       "    }\n",
       "\n",
       "    .dataframe tbody tr th {\n",
       "        vertical-align: top;\n",
       "    }\n",
       "\n",
       "    .dataframe thead th {\n",
       "        text-align: right;\n",
       "    }\n",
       "</style>\n",
       "<table border=\"1\" class=\"dataframe\">\n",
       "  <thead>\n",
       "    <tr style=\"text-align: right;\">\n",
       "      <th></th>\n",
       "      <th>Recall</th>\n",
       "      <th>Accuracy</th>\n",
       "      <th>Precision</th>\n",
       "    </tr>\n",
       "  </thead>\n",
       "  <tbody>\n",
       "    <tr>\n",
       "      <th>RANDOMUNDER</th>\n",
       "      <td>0.660714</td>\n",
       "      <td>0.730435</td>\n",
       "      <td>0.755102</td>\n",
       "    </tr>\n",
       "    <tr>\n",
       "      <th>GRADIENTUNDER</th>\n",
       "      <td>0.732143</td>\n",
       "      <td>0.782609</td>\n",
       "      <td>0.803922</td>\n",
       "    </tr>\n",
       "    <tr>\n",
       "      <th>ADABOOSTUNDER</th>\n",
       "      <td>0.696429</td>\n",
       "      <td>0.730435</td>\n",
       "      <td>0.735849</td>\n",
       "    </tr>\n",
       "    <tr>\n",
       "      <th>XGBRFBOOSTUNDER</th>\n",
       "      <td>0.642857</td>\n",
       "      <td>0.721739</td>\n",
       "      <td>0.750000</td>\n",
       "    </tr>\n",
       "    <tr>\n",
       "      <th>KNNUNDER</th>\n",
       "      <td>0.446429</td>\n",
       "      <td>HOLA</td>\n",
       "      <td>0.735294</td>\n",
       "    </tr>\n",
       "  </tbody>\n",
       "</table>\n",
       "</div>"
      ],
      "text/plain": [
       "                   Recall  Accuracy  Precision\n",
       "RANDOMUNDER      0.660714  0.730435   0.755102\n",
       "GRADIENTUNDER    0.732143  0.782609   0.803922\n",
       "ADABOOSTUNDER    0.696429  0.730435   0.735849\n",
       "XGBRFBOOSTUNDER  0.642857  0.721739   0.750000\n",
       "KNNUNDER         0.446429      HOLA   0.735294"
      ]
     },
     "execution_count": 123,
     "metadata": {},
     "output_type": "execute_result"
    }
   ],
   "source": [
    "Results = pd.DataFrame({'Recall': [recall_ran_pre, recall_gra_pre, recall_ada_pre,recall_xgb_re,recall_knn_re],\n",
    "                            'Accuracy': [accuracy_ran_pre,accuracy_gra_pre, accuracy_ada_pre,accuracy_xgb_re,'HOLA'],\n",
    "                            'Precision':[ precision_ran_pre,precision_gra_pre,precision_ada_pre,precision_xgb_re,precision_knn_re]}, \n",
    "                            index = ['RANDOMUNDER','GRADIENTUNDER','ADABOOSTUNDER','XGBRFBOOSTUNDER','KNNUNDER'])\n",
    "\n",
    "Results\n",
    "\n"
   ]
  },
  {
   "attachments": {},
   "cell_type": "markdown",
   "metadata": {},
   "source": [
    "# Features importances"
   ]
  },
  {
   "cell_type": "code",
   "execution_count": 141,
   "metadata": {},
   "outputs": [
    {
     "data": {
      "image/png": "[encoded data removed]",
      "text/plain": [
       "<Figure size 640x480 with 1 Axes>"
      ]
     },
     "metadata": {},
     "output_type": "display_data"
    }
   ],
   "source": [
    "importances = pd.DataFrame({'Importance':model_gra.feature_importances_,'Feature':X.columns })\n",
    "sns.barplot(x = 'Feature', y = 'Importance', data= importances)\n",
    "sns.color_palette(\"Spectral\",as_cmap=True)\n",
    "plt.xticks(rotation=90)\n",
    "plt.title('Features importances Random Forest');"
   ]
  },
  {
   "attachments": {},
   "cell_type": "markdown",
   "metadata": {},
   "source": [
    "# PICKLE"
   ]
  },
  {
   "cell_type": "code",
   "execution_count": null,
   "metadata": {},
   "outputs": [
    {
     "name": "stdout",
     "output_type": "stream",
     "text": [
      "Accuracy 0.7440476190476191\n",
      "Recall 0.99\n"
     ]
    },
    {
     "data": {
      "text/plain": [
       "Pipeline(steps=[('scaler', StandardScaler()),\n",
       "                ('classifier',\n",
       "                 RandomForestClassifier(max_depth=1, min_samples_split=3,\n",
       "                                        n_estimators=130, random_state=2))])"
      ]
     },
     "execution_count": 139,
     "metadata": {},
     "output_type": "execute_result"
    }
   ],
   "source": [
    "from sklearn.pipeline import Pipeline\n",
    "\n",
    "pipe_final = Pipeline(steps=[\n",
    "                    ('scaler', StandardScaler()),\n",
    "                    ('classifier', RandomForestClassifier(max_depth=1, min_samples_split=3, n_estimators=130,random_state=2))\n",
    "])\n",
    "print(\"Accuracy\", accuracy_score(y_test, y_pred_ran))\n",
    "print(\"Recall\", recall_score(y_test, y_pred_ran))\n",
    "pipe_final.fit(X_train,y_train)\n",
    "pipe_final"
   ]
  },
  {
   "cell_type": "code",
   "execution_count": null,
   "metadata": {},
   "outputs": [],
   "source": [
    "#X_test = pd.DataFrame({})"
   ]
  },
  {
   "cell_type": "code",
   "execution_count": null,
   "metadata": {},
   "outputs": [],
   "source": [
    "import pickle\n",
    "\n",
    "with open('model_miguel.sav', 'wb') as archivo_salida:\n",
    "    pickle.dump(pipe_final, archivo_salida)"
   ]
  },
  {
   "cell_type": "code",
   "execution_count": null,
   "metadata": {},
   "outputs": [],
   "source": [
    "with open('model_miguel.sav', 'rb') as archivo_entrada:\n",
    "    loaded_model = pickle.load(archivo_entrada)"
   ]
  },
  {
   "cell_type": "code",
   "execution_count": null,
   "metadata": {},
   "outputs": [],
   "source": [
    "#X_test.to_csv('X_test_prueba.csv')"
   ]
  },
  {
   "cell_type": "code",
   "execution_count": null,
   "metadata": {},
   "outputs": [
    {
     "data": {
      "text/plain": [
       "array([1, 1, 1, 1, 1, 1, 1, 1, 1, 1, 1, 1, 1, 1, 1, 1, 1, 1, 1, 1, 0, 1,\n",
       "       1, 1, 1, 0, 1, 1, 1, 1, 0, 1, 1, 1, 1, 1, 1, 1, 1, 1, 1, 0, 1, 1,\n",
       "       1, 1, 1, 0, 1, 1, 1, 0, 0, 1, 1, 0, 1, 1, 1, 0, 1, 1, 1, 1, 1, 1,\n",
       "       1, 1, 0, 1, 1, 0, 1, 0, 1, 0, 1, 0, 1, 1, 0, 1, 1, 1, 1, 1, 1, 1,\n",
       "       1, 1, 1, 1, 1, 0, 1, 1, 1, 1, 1, 0, 0, 1, 1, 1, 1, 1, 1, 1, 1, 1,\n",
       "       1, 1, 1, 1, 1, 1, 1, 0, 0, 1, 0, 1, 1, 1, 1, 1, 1, 0, 1, 1, 1, 1,\n",
       "       1, 1, 1, 1, 1, 1, 1, 1, 1, 1, 1, 1, 1, 0, 1, 1, 1, 1, 0, 1, 1, 0,\n",
       "       1, 1, 1, 1, 1, 0, 1, 1, 1, 1, 1, 1, 0, 1])"
      ]
     },
     "execution_count": 168,
     "metadata": {},
     "output_type": "execute_result"
    }
   ],
   "source": [
    "loaded_model.predict(X_test)"
   ]
  },
  {
   "cell_type": "code",
   "execution_count": null,
   "metadata": {},
   "outputs": [
    {
     "ename": "NameError",
     "evalue": "name 'loaded_model' is not defined",
     "output_type": "error",
     "traceback": [
      "\u001b[0;31m---------------------------------------------------------------------------\u001b[0m",
      "\u001b[0;31mNameError\u001b[0m                                 Traceback (most recent call last)",
      "\u001b[0;32m/var/folders/fh/hxrrvrn15b5_v0bjv8nbpw2w0000gp/T/ipykernel_39410/4233424659.py\u001b[0m in \u001b[0;36m<module>\u001b[0;34m\u001b[0m\n\u001b[0;32m----> 1\u001b[0;31m \u001b[0mloaded_model\u001b[0m\u001b[0;34m.\u001b[0m\u001b[0mpredict_proba\u001b[0m\u001b[0;34m(\u001b[0m\u001b[0mX_test\u001b[0m\u001b[0;34m)\u001b[0m\u001b[0;34m\u001b[0m\u001b[0;34m\u001b[0m\u001b[0m\n\u001b[0m\u001b[1;32m      2\u001b[0m \u001b[0;34m\u001b[0m\u001b[0m\n\u001b[1;32m      3\u001b[0m \u001b[0;31m# > 0,6\u001b[0m\u001b[0;34m\u001b[0m\u001b[0;34m\u001b[0m\u001b[0;34m\u001b[0m\u001b[0m\n\u001b[1;32m      4\u001b[0m \u001b[0;31m# threshold\u001b[0m\u001b[0;34m\u001b[0m\u001b[0;34m\u001b[0m\u001b[0;34m\u001b[0m\u001b[0m\n",
      "\u001b[0;31mNameError\u001b[0m: name 'loaded_model' is not defined"
     ]
    }
   ],
   "source": [
    "loaded_model.predict_proba(X_test) \n",
    "\n",
    "# > 0,6 \n",
    "# threshold"
   ]
  },
  {
   "cell_type": "code",
   "execution_count": null,
   "metadata": {},
   "outputs": [
    {
     "name": "stdout",
     "output_type": "stream",
     "text": [
      "              precision    recall  f1-score   support\n",
      "\n",
      "           0       0.67      0.83      0.74        47\n",
      "           1       0.93      0.84      0.88       121\n",
      "\n",
      "    accuracy                           0.84       168\n",
      "   macro avg       0.80      0.84      0.81       168\n",
      "weighted avg       0.86      0.84      0.84       168\n",
      "\n"
     ]
    }
   ],
   "source": [
    "print(classification_report(y_test, y_pred_ran))"
   ]
  }
 ],
 "metadata": {
  "kernelspec": {
   "display_name": "Python 3",
   "language": "python",
   "name": "python3"
  },
  "language_info": {
   "codemirror_mode": {
    "name": "ipython",
    "version": 3
   },
   "file_extension": ".py",
   "mimetype": "text/x-python",
   "name": "python",
   "nbconvert_exporter": "python",
   "pygments_lexer": "ipython3",
   "version": "3.7.0"
  },
  "orig_nbformat": 4,
  "vscode": {
   "interpreter": {
    "hash": "aee8b7b246df8f9039afb4144a1f6fd8d2ca17a180786b69acc140d282b71a49"
   }
  }
 },
 "nbformat": 4,
 "nbformat_minor": 2
}
